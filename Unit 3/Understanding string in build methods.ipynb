{
 "cells": [
  {
   "cell_type": "markdown",
   "id": "ac6faf96-3602-4e82-9292-041fc76cad26",
   "metadata": {},
   "source": [
    "# Problem Statement: Extracting Usernames\r\n",
    "## Scenario: Imagine you’re building a user registration system for a social media platform. Users enter their full names during registration, but you need to extract their usernames from these names.\r\n",
    "## Task: Write a Python program that takes a full name as input and returns the corresponding username. The username should be the first letter of the user’s first name followed by their entire last name (all lowercase).  \r\n",
    "- Example:  \r\n",
    "-- Input: “John Doe”  \r\n",
    "-- Output: “jdoe”   \r\n",
    "\r\n"
   ]
  },
  {
   "cell_type": "code",
   "execution_count": 1,
   "id": "707e632a-be2d-4030-b11f-01422acfbec1",
   "metadata": {},
   "outputs": [
    {
     "name": "stdin",
     "output_type": "stream",
     "text": [
      "Enter your full name:  Prasann Barot\n"
     ]
    },
    {
     "name": "stdout",
     "output_type": "stream",
     "text": [
      "Your username is: pbarot\n"
     ]
    }
   ],
   "source": [
    "def extract_username(full_name):\n",
    "    first_name, last_name = full_name.split()\n",
    "    username = first_name[0].lower() + last_name.lower()\n",
    "    return username\n",
    "user_full_name = input(\"Enter your full name: \")\n",
    "print(\"Your username is:\", extract_username(user_full_name))"
   ]
  },
  {
   "cell_type": "markdown",
   "id": "e895925e-d972-43f6-974f-db5b9e3de14b",
   "metadata": {},
   "source": [
    "# Problem Statement: Reversing a Sentence\n",
    "## Scenario: You’re building a text editor application, and one of the features you want to implement is sentence reversal.\n",
    "## Task: Write a Python program that takes a sentence as input and returns the reversed sentence.  \n",
    "- Example:  \n",
    "-- Input: “Hello, how are you doing today?”  \n",
    "-- Output: “?yadot gniod uoy era woh ,olleH”"
   ]
  },
  {
   "cell_type": "code",
   "execution_count": 6,
   "id": "261f5a09-3208-4fd2-a692-323a83419b0c",
   "metadata": {},
   "outputs": [
    {
     "name": "stdin",
     "output_type": "stream",
     "text": [
      "Enter a sentence:  pRASANN bAROT rru\n"
     ]
    },
    {
     "name": "stdout",
     "output_type": "stream",
     "text": [
      "Reversed sentence: NNASARp TORAb urr\n"
     ]
    }
   ],
   "source": [
    "def reverse_sentence(sentence):\n",
    "    words = sentence.split()\n",
    "    reversed_words = [word[::-1] for word in words]\n",
    "    reversed_sentence = \" \".join(reversed_words)\n",
    "    return reversed_sentence\n",
    "user_sentence = input(\"Enter a sentence: \")\n",
    "print(\"Reversed sentence:\", reverse_sentence(user_sentence))"
   ]
  },
  {
   "cell_type": "markdown",
   "id": "ee8108c0-3b8c-49d7-a211-67722781a99d",
   "metadata": {},
   "source": [
    "# Problem Statement: Counting Vowels and Consonants\r\n",
    "## Scenario: You’re working on a language-learning app, and you want to help users practice pronunciation. You need to analyze the text they input to count the number of vowels and consonants.\r\n",
    "## Task: Write a Python program that takes a sentence as input and prints the count of vowels and consonants.  \r\n",
    "- Example:  \r\n",
    "-- Input: “Python programming is fun!”  \r\n",
    "-- Output:  \r\n",
    "Vowels: 6  \r\n",
    "Consonants: 13  "
   ]
  },
  {
   "cell_type": "code",
   "execution_count": 5,
   "id": "e273014d-c422-44ea-ad62-bb8cbd2f54e2",
   "metadata": {},
   "outputs": [
    {
     "name": "stdin",
     "output_type": "stream",
     "text": [
      "Enter some text:  Python programming is fun!\n"
     ]
    },
    {
     "name": "stdout",
     "output_type": "stream",
     "text": [
      "Vowels: 6\n",
      "Consonants: 16\n"
     ]
    }
   ],
   "source": [
    "def count_vowels_and_consonants(text):\n",
    "    vowels = \"aeiouAEIOU\"\n",
    "    vowel_count = 0\n",
    "    consonant_count = 0\n",
    "    for char in text:\n",
    "        if char.isalpha():\n",
    "            if char in vowels:\n",
    "                vowel_count += 1\n",
    "            else:\n",
    "                consonant_count += 1\n",
    "    print(\"Vowels:\", vowel_count)\n",
    "    print(\"Consonants:\", consonant_count)\n",
    "user_text = input(\"Enter some text: \")\n",
    "count_vowels_and_consonants(user_text)"
   ]
  },
  {
   "cell_type": "code",
   "execution_count": null,
   "id": "e498a6f6-efc4-405e-9267-e474bc990306",
   "metadata": {},
   "outputs": [],
   "source": []
  }
 ],
 "metadata": {
  "kernelspec": {
   "display_name": "Python 3 (ipykernel)",
   "language": "python",
   "name": "python3"
  },
  "language_info": {
   "codemirror_mode": {
    "name": "ipython",
    "version": 3
   },
   "file_extension": ".py",
   "mimetype": "text/x-python",
   "name": "python",
   "nbconvert_exporter": "python",
   "pygments_lexer": "ipython3",
   "version": "3.12.2"
  }
 },
 "nbformat": 4,
 "nbformat_minor": 5
}
