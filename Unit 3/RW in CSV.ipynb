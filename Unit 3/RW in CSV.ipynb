{
 "cells": [
  {
   "cell_type": "markdown",
   "id": "32d29623-1da5-46df-9b3b-a93a451ed559",
   "metadata": {},
   "source": [
    "# Read from CSV\n",
    "- We import the csv module, which provides classes for reading and writing CSV files.  \r\n",
    "- We define a function read_csv that takes the file path as input and returns a list of dictionaries representing the data in the CSV file.  \r\n",
    " Inside the function:  \r\n",
    "- We initialize an empty list data to store the data read from the CSV file.  \r\n",
    "- We open the CSV file using open(file_path, 'r', newline='') in read mode. The newline='' argument is used to handle line endings correctly.  \r\n",
    "- We create a csv.DictReader object named reader, which reads the CSV file and interprets each row as a dictionary, where keys are taken from the first row (column headers).  \r\n",
    "- We iterate over each row in the CSV file using a for loop.  \r\n",
    "- For each row, we append the row (represented as a dictionary) to the data list.  a list."
   ]
  },
  {
   "cell_type": "code",
   "execution_count": 6,
   "id": "b94519bb-98ab-49e7-9ce0-323606d8d95c",
   "metadata": {},
   "outputs": [
    {
     "name": "stdout",
     "output_type": "stream",
     "text": [
      "{'Name': 'John', 'Age': '30', 'Country': 'USA'}\n",
      "{'Name': 'Alice', 'Age': '25', 'Country': 'Canada'}\n",
      "{'Name': 'Bob', 'Age': '35', 'Country': 'UK'}\n"
     ]
    }
   ],
   "source": [
    "import csv\n",
    "def read_csv(file_path):\n",
    "    data = []\n",
    "    with open(file_path, 'r') as csvfile:\n",
    "        reader = csv.DictReader(csvfile)\n",
    "        for row in reader:\n",
    "            data.append(row)\n",
    "    return data\n",
    "\n",
    "data = read_csv('data.csv')\n",
    "for row in data:\n",
    "    print(row)"
   ]
  },
  {
   "cell_type": "markdown",
   "id": "5e1073e9-7a81-4d59-a682-88475c705017",
   "metadata": {},
   "source": [
    "# Write in CSV"
   ]
  },
  {
   "cell_type": "code",
   "execution_count": 9,
   "id": "f9220710-ff41-41aa-8444-6f87c723fd25",
   "metadata": {},
   "outputs": [],
   "source": [
    "data = [\n",
    "    {\"Name\": \"John\", \"Age\": 30, \"Country\": \"USA\"},\n",
    "    {\"Name\": \"Alice\", \"Age\": 25, \"Country\": \"Canada\"},\n",
    "    {\"Name\": \"Bob\", \"Age\": 35, \"Country\": \"UK\"}\n",
    "]\n"
   ]
  },
  {
   "cell_type": "markdown",
   "id": "4ab16516-5456-49d3-855c-b16ada074f58",
   "metadata": {},
   "source": [
    "- We define a function write_csv that takes the data (list of dictionaries) and the file path as input and writes the data to a CSV file.  \n",
    "Inside the function:\n",
    "- We extract the keys (column headers) from the first dictionary in the data list using data[0].keys().  \n",
    "- We open the CSV file using open(file_path, 'w', newline='') in write mode.  \n",
    "- We create a csv.DictWriter object named writer, which writes dictionaries to the CSV file. We provide the fieldnames parameter with the keys obtained earlier.  \n",
    "- We write the column headers to the CSV file using the writeheader() method.  \n",
    "- We iterate over each row (dictionary) in the data list using a for loop.  \n",
    "- For each row, we write the row to the CSV file using the writerow() method."
   ]
  },
  {
   "cell_type": "code",
   "execution_count": 7,
   "id": "85dddf53-9b6c-4692-8498-40ecc387b81e",
   "metadata": {},
   "outputs": [],
   "source": [
    "def write_csv(data, file_path):\n",
    "    fieldnames = data[0].keys()\n",
    "    with open(file_path, 'w', newline='') as csvfile:\n",
    "        writer = csv.DictWriter(csvfile, fieldnames=fieldnames)\n",
    "        writer.writeheader()\n",
    "        for row in data:\n",
    "            writer.writerow(row)\n",
    "\n",
    "write_csv(data, 'output.csv')"
   ]
  },
  {
   "cell_type": "markdown",
   "id": "6fb2177f-6eca-4b78-8eac-4d603c2f4374",
   "metadata": {},
   "source": [
    "## Sort the data"
   ]
  },
  {
   "cell_type": "code",
   "execution_count": 8,
   "id": "5dcdf246-466f-4b0d-8952-b5c4ccf5ad87",
   "metadata": {},
   "outputs": [],
   "source": [
    "def sort_data(data, key):\n",
    "    sorted_data = sorted(data, key=lambda row: row[key])\n",
    "    return sorted_data\n",
    "\n",
    "sorted_data = sort_data(data, 'Age')\n",
    "write_csv(sorted_data, 'sorted_data.csv')"
   ]
  },
  {
   "cell_type": "markdown",
   "id": "043e71a6-b781-4736-a211-cc619f0a4053",
   "metadata": {},
   "source": [
    "## Filtering Data"
   ]
  },
  {
   "cell_type": "code",
   "execution_count": 9,
   "id": "b28e8ab5-0bbc-48d7-8127-1dbaf9864f91",
   "metadata": {},
   "outputs": [],
   "source": [
    "def filter_data(data, condition):\n",
    "    filtered_data = [row for row in data if condition(row)]\n",
    "    return filtered_data\n",
    "\n",
    "filtered_data = filter_data(data, lambda row: int(row['Age']) > 30)\n",
    "write_csv(filtered_data, 'filtered_data.csv')"
   ]
  },
  {
   "cell_type": "code",
   "execution_count": null,
   "id": "33087a7b-9b50-46e7-9178-85ec46ca2a7d",
   "metadata": {},
   "outputs": [],
   "source": []
  }
 ],
 "metadata": {
  "kernelspec": {
   "display_name": "Python 3 (ipykernel)",
   "language": "python",
   "name": "python3"
  },
  "language_info": {
   "codemirror_mode": {
    "name": "ipython",
    "version": 3
   },
   "file_extension": ".py",
   "mimetype": "text/x-python",
   "name": "python",
   "nbconvert_exporter": "python",
   "pygments_lexer": "ipython3",
   "version": "3.12.2"
  }
 },
 "nbformat": 4,
 "nbformat_minor": 5
}
