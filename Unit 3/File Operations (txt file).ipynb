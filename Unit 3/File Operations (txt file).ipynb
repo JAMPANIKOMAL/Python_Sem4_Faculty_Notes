{
 "cells": [
  {
   "cell_type": "markdown",
   "id": "a2530fa0-bbfd-478a-8a78-3bb231ae1744",
   "metadata": {},
   "source": [
    "- We define a function read_text_file that takes the file path as input.  \r\n",
    "- We open the file using open(file_path, 'r') in read mode. The 'r' argument indicates that we are opening the file for reading.  \r\n",
    "- We use a statement to automatically close the file after reading its content. This ensures that the file is properly closed even if an exception occurs during reading.  \r\n",
    "- We use the read() method to read the entire content of the file into a string variable content.  \r\n",
    "Finally, we return the content of the file.ile."
   ]
  },
  {
   "cell_type": "code",
   "execution_count": 6,
   "id": "16948887-0df8-4ad2-8ecc-5c8a63966b94",
   "metadata": {},
   "outputs": [
    {
     "name": "stdout",
     "output_type": "stream",
     "text": [
      "apple\n",
      "banana\n",
      "orange\n",
      "kiwi\n",
      "grape\n",
      "melon\n",
      "\n"
     ]
    }
   ],
   "source": [
    "def read_text_file(file_path):\n",
    "    file_path = 'D:\\\\Prasann\\\\24-25 even\\\\Python\\\\Programs\\\\Unit 3\\\\data.txt'\n",
    "    with open(file_path, 'r') as f:\n",
    "        content = f.read()\n",
    "    return content\n",
    "\n",
    "file_content = read_text_file('data.txt')\n",
    "print(file_content)"
   ]
  },
  {
   "cell_type": "code",
   "execution_count": 3,
   "id": "34d77256-c933-4004-90c8-b0dc16ba303c",
   "metadata": {},
   "outputs": [],
   "source": [
    "def write_to_text_file(data, file_path):\n",
    "    with open(file_path, 'w') as f:\n",
    "        for item in data:\n",
    "            f.write(str(item) + '\\n')\n",
    "\n",
    "data = ['apple', 'banana', 'orange']\n",
    "write_to_text_file(data, 'data.txt')"
   ]
  },
  {
   "cell_type": "code",
   "execution_count": null,
   "id": "0c9f0d3b-51e9-46d7-b197-785a31a40f92",
   "metadata": {},
   "outputs": [],
   "source": []
  },
  {
   "cell_type": "code",
   "execution_count": 5,
   "id": "6b424815-2ef5-48ff-bc28-e611dca6c3a8",
   "metadata": {},
   "outputs": [],
   "source": [
    "def append_to_text_file(data, file_path):\n",
    "    with open(file_path, 'a') as f:\n",
    "        for item in data:\n",
    "            f.write(str(item) + '\\n')\n",
    "\n",
    "new_data = ['kiwi', 'grape', 'melon']\n",
    "append_to_text_file(new_data, 'data.txt')"
   ]
  },
  {
   "cell_type": "markdown",
   "id": "58e907a9-0378-476b-95b4-7331c84090d7",
   "metadata": {},
   "source": [
    "Checking if a File Exists:  \r\n",
    "You can check if a file exists using the os.path.exists() function from the os module."
   ]
  },
  {
   "cell_type": "code",
   "execution_count": 8,
   "id": "e19d05c2-73f2-44d2-bdf6-ae6bbff9e606",
   "metadata": {},
   "outputs": [
    {
     "name": "stdout",
     "output_type": "stream",
     "text": [
      "File doesn't exist\n"
     ]
    }
   ],
   "source": [
    "import os\n",
    "file_path = 'data1.txt'\n",
    "if os.path.exists(file_path):\n",
    "    print(\"File exists\")\n",
    "else:\n",
    "    print(\"File doesn't exist\")\n"
   ]
  },
  {
   "cell_type": "markdown",
   "id": "1cfe8ff1-6257-48da-8c21-a06edea485f6",
   "metadata": {},
   "source": [
    "Getting File Information:  \r\n",
    "You can get information about a file such as its size, creation time, and modification time using the os.path.getsize(), os.path.getctime(), and os.path.getmtime() functions respectively  ."
   ]
  },
  {
   "cell_type": "code",
   "execution_count": 9,
   "id": "0242b9b5-c96f-48e5-bb7f-d5576d30c53e",
   "metadata": {},
   "outputs": [
    {
     "name": "stdout",
     "output_type": "stream",
     "text": [
      "File size: 43\n",
      "Creation time: 1712731137.9877079\n",
      "Modification time: 1712736955.4329796\n"
     ]
    }
   ],
   "source": [
    "file_path = 'data.txt'\n",
    "if os.path.exists(file_path):\n",
    "    print(\"File size:\", os.path.getsize(file_path))\n",
    "    print(\"Creation time:\", os.path.getctime(file_path))\n",
    "    print(\"Modification time:\", os.path.getmtime(file_path))\n",
    "else:\n",
    "    print(\"File doesn't exist\")"
   ]
  },
  {
   "cell_type": "markdown",
   "id": "67004e47-e86c-4cfa-8a22-8af1ecff3c1f",
   "metadata": {},
   "source": [
    "The os.path.getctime() function returns the creation time of a file as a floating-point number representing the number of seconds since the epoch (January 1, 1970, 00:00:00 UTC)."
   ]
  },
  {
   "cell_type": "code",
   "execution_count": 10,
   "id": "fd971dd6-1506-433c-851a-9735bef744d9",
   "metadata": {},
   "outputs": [
    {
     "name": "stdout",
     "output_type": "stream",
     "text": [
      "Creation time: Wed Apr 10 12:08:57 2024\n"
     ]
    }
   ],
   "source": [
    "import time\n",
    "file_path = 'data.txt'\n",
    "if os.path.exists(file_path):\n",
    "    creation_time = os.path.getctime(file_path)\n",
    "    formatted_time = time.ctime(creation_time)\n",
    "    print(\"Creation time:\", formatted_time)\n",
    "else:\n",
    "    print(\"File doesn't exist\")"
   ]
  },
  {
   "cell_type": "code",
   "execution_count": 17,
   "id": "178a76b2-4cc0-4a5b-8af2-adabc7e26a25",
   "metadata": {},
   "outputs": [
    {
     "name": "stdout",
     "output_type": "stream",
     "text": [
      "Creation time: 2024-04-09 09:37:29\n"
     ]
    }
   ],
   "source": [
    "from datetime import datetime\n",
    "file_path = 'data.txt'\n",
    "if os.path.exists(file_path):\n",
    "    creation_time = os.path.getctime(file_path)\n",
    "    formatted_time = datetime.fromtimestamp(creation_time).strftime('%Y-%m-%d %H:%M:%S')\n",
    "    print(\"Creation time:\", formatted_time)\n",
    "else:\n",
    "    print(\"File doesn't exist\")"
   ]
  },
  {
   "cell_type": "markdown",
   "id": "d691c0f5-1945-4530-9a90-10c6c4db2440",
   "metadata": {},
   "source": [
    "Renaming or Moving a File:  \r\n",
    "You can rename or move a file using the os.rename() function."
   ]
  },
  {
   "cell_type": "code",
   "execution_count": 11,
   "id": "5645391b-608f-4875-b645-af52aa4648cb",
   "metadata": {},
   "outputs": [
    {
     "name": "stdout",
     "output_type": "stream",
     "text": [
      "File renamed/moved successfully\n"
     ]
    }
   ],
   "source": [
    "old_file_path = 'data.txt'\n",
    "new_file_path = 'new_data.txt'\n",
    "if os.path.exists(old_file_path):\n",
    "    os.rename(old_file_path, new_file_path)\n",
    "    print(\"File renamed/moved successfully\")\n",
    "else:\n",
    "    print(\"File doesn't exist\")\n"
   ]
  },
  {
   "cell_type": "code",
   "execution_count": null,
   "id": "2f3b5301-961c-469c-b0de-316ac2b0d13b",
   "metadata": {},
   "outputs": [],
   "source": []
  }
 ],
 "metadata": {
  "kernelspec": {
   "display_name": "Python 3 (ipykernel)",
   "language": "python",
   "name": "python3"
  },
  "language_info": {
   "codemirror_mode": {
    "name": "ipython",
    "version": 3
   },
   "file_extension": ".py",
   "mimetype": "text/x-python",
   "name": "python",
   "nbconvert_exporter": "python",
   "pygments_lexer": "ipython3",
   "version": "3.12.2"
  }
 },
 "nbformat": 4,
 "nbformat_minor": 5
}
