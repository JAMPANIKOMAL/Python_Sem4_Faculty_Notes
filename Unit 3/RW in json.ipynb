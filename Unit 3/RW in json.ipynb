{
 "cells": [
  {
   "cell_type": "markdown",
   "id": "ec2c3d4a-d706-4f0a-91ed-78952dcc5414",
   "metadata": {},
   "source": [
    "## Read JSON"
   ]
  },
  {
   "cell_type": "code",
   "execution_count": 1,
   "id": "37e6858a-0af4-4a5c-aed1-726297fb2532",
   "metadata": {},
   "outputs": [
    {
     "name": "stdout",
     "output_type": "stream",
     "text": [
      "{'Name': 'John', 'Age': 30, 'Country': 'USA'}\n",
      "{'Name': 'Alice', 'Age': 25, 'Country': 'Canada'}\n",
      "{'Name': 'Bob', 'Age': 35, 'Country': 'UK'}\n"
     ]
    }
   ],
   "source": [
    "import json\n",
    "\n",
    "def read_json(file_path):\n",
    "    with open(file_path, 'r') as jsonfile:\n",
    "        data = json.load(jsonfile)\n",
    "    return data\n",
    "\n",
    "data = read_json('data.json')\n",
    "for row in data:\n",
    "    print(row)"
   ]
  },
  {
   "cell_type": "markdown",
   "id": "785ccc71-51c4-4646-a644-5a7402ebfaca",
   "metadata": {},
   "source": [
    "## Write JSON"
   ]
  },
  {
   "cell_type": "code",
   "execution_count": 2,
   "id": "b63c07b3-a4b0-4e30-936e-fbbdba4408ef",
   "metadata": {},
   "outputs": [],
   "source": [
    "data = [\n",
    "    {\"Name\": \"John\", \"Age\": 30, \"Country\": \"USA\"},\n",
    "    {\"Name\": \"Alice\", \"Age\": 25, \"Country\": \"Canada\"},\n",
    "    {\"Name\": \"Bob\", \"Age\": 35, \"Country\": \"UK\"}\n",
    "]"
   ]
  },
  {
   "cell_type": "code",
   "execution_count": 3,
   "id": "ed1f2e5f-69b1-429e-90f0-674359941000",
   "metadata": {},
   "outputs": [],
   "source": [
    "def write_json(data, file_path):\n",
    "    with open(file_path, 'w') as jsonfile:\n",
    "        json.dump(data, jsonfile)\n",
    "\n",
    "write_json(data, 'output.json')"
   ]
  },
  {
   "cell_type": "code",
   "execution_count": 4,
   "id": "103150ba-3956-43ef-827e-4accaa6aeeaa",
   "metadata": {},
   "outputs": [],
   "source": [
    "#Filtering Data:\n",
    "def filter_data(data, condition):\n",
    "    filtered_data = [row for row in data if condition(row)]\n",
    "    return filtered_data\n",
    "\n",
    "filtered_data = filter_data(data, lambda row: row['Age'] > 30)\n",
    "write_json(filtered_data, 'filtered_data.json')"
   ]
  },
  {
   "cell_type": "code",
   "execution_count": 5,
   "id": "a4434edd-3b1e-4ad5-a5c6-b5150e0c3d98",
   "metadata": {},
   "outputs": [],
   "source": [
    "# Sorting Data:\n",
    "def sort_data(data, key):\n",
    "    sorted_data = sorted(data, key=lambda row: row[key])\n",
    "    return sorted_data\n",
    "sorted_data = sort_data(data, 'Age')\n",
    "write_json(sorted_data, 'sorted_data.json')"
   ]
  },
  {
   "cell_type": "code",
   "execution_count": 6,
   "id": "ab05aca4-f488-4f4c-9af2-91815e39e1f4",
   "metadata": {},
   "outputs": [],
   "source": [
    "# Appending Data\n",
    "def append_data(data_to_append, file_path):\n",
    "    existing_data = read_json(file_path)\n",
    "    existing_data.extend(data_to_append)\n",
    "    write_json(existing_data, file_path)\n",
    "\n",
    "additional_data = [{\"Name\": \"Eva\", \"Age\": 28, \"Country\": \"Germany\"}]\n",
    "append_data(additional_data, 'data.json')"
   ]
  },
  {
   "cell_type": "code",
   "execution_count": 7,
   "id": "4f79aab3-4e0b-4be1-8b38-ef5603f25ced",
   "metadata": {},
   "outputs": [
    {
     "name": "stdout",
     "output_type": "stream",
     "text": [
      "Number of rows: 4\n"
     ]
    }
   ],
   "source": [
    "# Counting Rows\n",
    "def count_rows(file_path):\n",
    "    data = read_json(file_path)\n",
    "    row_count = len(data)\n",
    "    return row_count\n",
    "\n",
    "row_count = count_rows('data.json')\n",
    "print(\"Number of rows:\", row_count)"
   ]
  },
  {
   "cell_type": "code",
   "execution_count": null,
   "id": "350f7263-878c-4908-ba6e-9d87f075705b",
   "metadata": {},
   "outputs": [],
   "source": []
  }
 ],
 "metadata": {
  "kernelspec": {
   "display_name": "Python 3 (ipykernel)",
   "language": "python",
   "name": "python3"
  },
  "language_info": {
   "codemirror_mode": {
    "name": "ipython",
    "version": 3
   },
   "file_extension": ".py",
   "mimetype": "text/x-python",
   "name": "python",
   "nbconvert_exporter": "python",
   "pygments_lexer": "ipython3",
   "version": "3.12.2"
  }
 },
 "nbformat": 4,
 "nbformat_minor": 5
}
