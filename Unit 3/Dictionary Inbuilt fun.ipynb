{
 "cells": [
  {
   "cell_type": "markdown",
   "id": "8c1e50f0-4d4a-496b-9fdb-dbcef0090c52",
   "metadata": {},
   "source": [
    "## Clear() Method:\n",
    "The clear() method removes all elements (key-value pairs) from a dictionary, effectively emptying it."
   ]
  },
  {
   "cell_type": "code",
   "execution_count": 2,
   "id": "32ebcf3e-ff69-4314-b14e-11935812f749",
   "metadata": {},
   "outputs": [
    {
     "name": "stdout",
     "output_type": "stream",
     "text": [
      "{'1': 'RRU', '2': 'SITAICS', '3': 'CE,IT'}\n",
      "{}\n"
     ]
    }
   ],
   "source": [
    "my_dict = {'1': 'RRU', '2': 'SITAICS', '3': 'CE, IT'}\n",
    "print(my_dict)  \n",
    "my_dict.clear()\n",
    "print(my_dict)  "
   ]
  },
  {
   "cell_type": "markdown",
   "id": "a93293fd-6add-438f-956f-bb3428dcd95c",
   "metadata": {},
   "source": [
    "## get() Method:\n",
    "The get() method retrieves the value associated with a specific key in a dictionary.  \r\n",
    "It’s a safe way to access dictionary values without causing a KeyError if the key is absent."
   ]
  },
  {
   "cell_type": "code",
   "execution_count": 4,
   "id": "5704c325-c45c-4b05-acec-7ae16ff7bcd4",
   "metadata": {},
   "outputs": [
    {
     "name": "stdout",
     "output_type": "stream",
     "text": [
      "{'Name': 'Ram', 'Age': '19', 'Country': 'India'}\n",
      "Ram\n",
      "None\n"
     ]
    }
   ],
   "source": [
    "d = {'Name': 'Ram', 'Age': '19', 'Country': 'India'}\n",
    "print(d)\n",
    "print(d.get('Name'))  \n",
    "print(d.get('Gender'))  "
   ]
  },
  {
   "cell_type": "markdown",
   "id": "f90d88d6-1145-42ac-b001-6ee1fd2ba459",
   "metadata": {},
   "source": [
    "## items() Method:\n",
    "The items() method returns a view object containing a list of tuples, where each tuple represents a key-value pair from the dictionary.  \r\n",
    "It’s an efficient way to access both keys and values simultaneously."
   ]
  },
  {
   "cell_type": "code",
   "execution_count": 7,
   "id": "5bbbcb23-47df-4f11-8290-9005613d0e82",
   "metadata": {},
   "outputs": [
    {
     "name": "stdout",
     "output_type": "stream",
     "text": [
      "dict_items([('Name', 'Ram'), ('Age', '19'), ('Country', 'India')])\n",
      "Age\n",
      "19\n"
     ]
    }
   ],
   "source": [
    "d = {'Name': 'Ram', 'Age': '19', 'Country': 'India'}\n",
    "x=d.items()\n",
    "print(x)\n",
    "print(list(d.items())[1][0])  \n",
    "print(list(d.items())[1][1])  "
   ]
  },
  {
   "cell_type": "markdown",
   "id": "eca29c59-b018-4c03-9d39-2100b645df8d",
   "metadata": {},
   "source": [
    "## keys() Method:\n",
    "The keys() method returns a view object with all the keys in the dictionary.  \r\n",
    "It allows efficient access and iteration over the keys."
   ]
  },
  {
   "cell_type": "code",
   "execution_count": 4,
   "id": "cdbae144-a835-45fc-92ca-9ef5c8d0b482",
   "metadata": {},
   "outputs": [
    {
     "name": "stdout",
     "output_type": "stream",
     "text": [
      "dict_keys(['Name', 'Age', 'Country'])\n"
     ]
    }
   ],
   "source": [
    "d = {'Name': 'Ram', 'Age': '19', 'Country': 'India'}\n",
    "keys_view = d.keys()\n",
    "print(keys_view)  "
   ]
  },
  {
   "cell_type": "markdown",
   "id": "a95ced92-1eab-4442-a49c-77e1d906be9e",
   "metadata": {},
   "source": [
    "## pop() Method:\n",
    "The pop() method removes a specified key from the dictionary and returns its value.\n"
   ]
  },
  {
   "cell_type": "code",
   "execution_count": 5,
   "id": "6128c489-f799-46b3-8141-78df2e317c10",
   "metadata": {},
   "outputs": [
    {
     "name": "stdout",
     "output_type": "stream",
     "text": [
      "19\n",
      "{'Name': 'Ram', 'Country': 'India'}\n"
     ]
    }
   ],
   "source": [
    "d = {'Name': 'Ram', 'Age': 19, 'Country': 'India'}\n",
    "removed_value = d.pop('Age')\n",
    "print(removed_value) \n",
    "print(d) "
   ]
  },
  {
   "cell_type": "markdown",
   "id": "a0d3e529-c2b2-4755-9572-204b5b94cf7d",
   "metadata": {},
   "source": [
    "## update() Method:\n",
    "The update() method merges the contents of one dictionary into another.  \r\n",
    "It adds new key-value pairs and updates existing ones."
   ]
  },
  {
   "cell_type": "code",
   "execution_count": 6,
   "id": "ae4c158e-428a-44f4-bdc0-65ff009928d1",
   "metadata": {},
   "outputs": [
    {
     "name": "stdout",
     "output_type": "stream",
     "text": [
      "{'Name': 'Alice', 'Age': 26, 'Country': 'USA'}\n"
     ]
    }
   ],
   "source": [
    "d1 = {'Name': 'Alice', 'Age': 25}\n",
    "d2 = {'Country': 'USA', 'Age': 26}\n",
    "d1.update(d2)\n",
    "print(d1)  "
   ]
  },
  {
   "cell_type": "markdown",
   "id": "4fa6c493-dcbc-474d-9631-b28f0b66d1a2",
   "metadata": {},
   "source": [
    "## Problem 1: Word Frequency Counter\r\n",
    "You're working on a text analysis project and need to count the frequency of each word in a given paragraph. Write a Python function count_word_frequency(paragraph) that takes a paragraph as input and returns a dictionary where keys are unique words and values are their respective frequencies."
   ]
  },
  {
   "cell_type": "code",
   "execution_count": 7,
   "id": "6374e5c7-54d3-43fe-933f-768757a1f526",
   "metadata": {},
   "outputs": [
    {
     "name": "stdout",
     "output_type": "stream",
     "text": [
      "Word frequency: {'Python': 2, 'is': 2, 'a': 1, 'powerful': 1, 'programming': 1, 'language.': 1, 'used': 1, 'for': 1, 'web': 1, 'development,': 1, 'data': 1, 'science,': 1, 'and': 1, 'artificial': 1, 'intelligence.': 1}\n"
     ]
    }
   ],
   "source": [
    "def count_word_frequency(paragraph):\n",
    "    word_frequency = {}\n",
    "    words = paragraph.split()\n",
    "    for word in words:\n",
    "        word_frequency[word] = word_frequency.get(word, 0) + 1\n",
    "    return word_frequency\n",
    "\n",
    "paragraph = \"Python is a powerful programming language. Python is used for web development, data science, and artificial intelligence.\"\n",
    "word_frequency = count_word_frequency(paragraph)\n",
    "print(\"Word frequency:\", word_frequency)"
   ]
  },
  {
   "cell_type": "markdown",
   "id": "eb7b408a-1667-4254-8313-d3a0bd4d16d2",
   "metadata": {},
   "source": [
    "## Problem 2: Merge Dictionaries\r\n",
    "You're building a configuration management system and need to merge multiple dictionaries containing configuration settings into one. Write a Python function merge_dictionaries(*dicts) that takes any number of dictionaries as input and returns a single dictionary containing all key-value pairs from the input dictionaries."
   ]
  },
  {
   "cell_type": "code",
   "execution_count": 8,
   "id": "3453441f-7e3e-4a62-9c28-3df84eacdfa0",
   "metadata": {},
   "outputs": [
    {
     "name": "stdout",
     "output_type": "stream",
     "text": [
      "Merged dictionary: {'a': 1, 'b': 3, 'c': 4, 'd': 5}\n"
     ]
    }
   ],
   "source": [
    "def merge_dictionaries(*dicts):\n",
    "    merged_dict = {}\n",
    "    for dictionary in dicts:\n",
    "        merged_dict.update(dictionary)\n",
    "    return merged_dict\n",
    "\n",
    "dict1 = {'a': 1, 'b': 2}\n",
    "dict2 = {'b': 3, 'c': 4}\n",
    "dict3 = {'d': 5}\n",
    "merged_dict = merge_dictionaries(dict1, dict2, dict3)\n",
    "print(\"Merged dictionary:\", merged_dict)"
   ]
  },
  {
   "cell_type": "markdown",
   "id": "3184fcff-e9db-47b4-a663-ab049a515913",
   "metadata": {},
   "source": [
    "## Problem 3: Dictionary Key Transformation\r\n",
    "You're working on a data processing pipeline and need to transform dictionary keys by converting them to lowercase. Write a Python function transform_keys_to_lowercase(input_dict) that takes a dictionary as input and returns a new dictionary with all keys converted to lowercase."
   ]
  },
  {
   "cell_type": "code",
   "execution_count": 9,
   "id": "0bb0b50e-399e-4986-897d-ee3b40937f06",
   "metadata": {},
   "outputs": [
    {
     "name": "stdout",
     "output_type": "stream",
     "text": [
      "Transformed dictionary: {'name': 'John', 'age': 30, 'location': 'New York'}\n"
     ]
    }
   ],
   "source": [
    "def transform_keys_to_lowercase(input_dict):\n",
    "    return {key.lower(): value for key, value in input_dict.items()}\n",
    "\n",
    "input_dict = {'Name': 'John', 'Age': 30, 'Location': 'New York'}\n",
    "transformed_dict = transform_keys_to_lowercase(input_dict)\n",
    "print(\"Transformed dictionary:\", transformed_dict)"
   ]
  },
  {
   "cell_type": "markdown",
   "id": "90b26fcf-83a0-44fe-8866-6e7fca752668",
   "metadata": {},
   "source": [
    "## Problem 4: Invert Dictionary\r\n",
    "You're building a data indexing system and need to invert a dictionary where values become keys and keys become values. Write a Python function invert_dictionary(input_dict) that takes a dictionary as input and returns a new dictionary where the keys and values are swapped."
   ]
  },
  {
   "cell_type": "code",
   "execution_count": 10,
   "id": "9406c5ec-057a-4e7a-91c9-3ecf8fc20730",
   "metadata": {},
   "outputs": [
    {
     "name": "stdout",
     "output_type": "stream",
     "text": [
      "Inverted dictionary: {1: 'a', 2: 'b', 3: 'c'}\n"
     ]
    }
   ],
   "source": [
    "def invert_dictionary(input_dict):\n",
    "    return {value: key for key, value in input_dict.items()}\n",
    "\n",
    "input_dict = {'a': 1, 'b': 2, 'c': 3}\n",
    "inverted_dict = invert_dictionary(input_dict)\n",
    "print(\"Inverted dictionary:\", inverted_dict)"
   ]
  },
  {
   "cell_type": "markdown",
   "id": "3fd21057-aecc-4ad7-9822-960124906083",
   "metadata": {
    "jp-MarkdownHeadingCollapsed": true
   },
   "source": [
    "## Problem 5: Dictionary Filtering\r\n",
    "You're working on a data cleaning project and need to filter out key-value pairs from a dictionary based on certain conditions. Write a Python function filter_dictionary(input_dict, condition) that takes a dictionary and a condition function as input. It should return a new dictionary containing only the key-value pairs that satisfy the given condition  \n",
    "condition= (key % 2 == 0 and value % 2 == 0)."
   ]
  },
  {
   "cell_type": "code",
   "execution_count": 11,
   "id": "b8277add-4436-403d-b6b6-17053e785d66",
   "metadata": {},
   "outputs": [
    {
     "name": "stdout",
     "output_type": "stream",
     "text": [
      "Filtered dictionary: {2: 4, 4: 6}\n"
     ]
    }
   ],
   "source": [
    "def filter_dictionary(input_dict, condition):\n",
    "    return {key: value for key, value in input_dict.items() if condition(key, value)}\n",
    "\n",
    "def is_even_key_value_pair(key, value):\n",
    "    return key % 2 == 0 and value % 2 == 0\n",
    "\n",
    "input_dict = {1: 3, 2: 4, 3: 5, 4: 6}\n",
    "filtered_dict = filter_dictionary(input_dict, is_even_key_value_pair)\n",
    "print(\"Filtered dictionary:\", filtered_dict)"
   ]
  }
 ],
 "metadata": {
  "kernelspec": {
   "display_name": "Python 3 (ipykernel)",
   "language": "python",
   "name": "python3"
  },
  "language_info": {
   "codemirror_mode": {
    "name": "ipython",
    "version": 3
   },
   "file_extension": ".py",
   "mimetype": "text/x-python",
   "name": "python",
   "nbconvert_exporter": "python",
   "pygments_lexer": "ipython3",
   "version": "3.12.2"
  }
 },
 "nbformat": 4,
 "nbformat_minor": 5
}
