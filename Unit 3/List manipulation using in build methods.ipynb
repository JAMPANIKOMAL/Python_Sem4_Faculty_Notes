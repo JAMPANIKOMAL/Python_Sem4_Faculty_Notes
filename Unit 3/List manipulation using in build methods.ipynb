{
 "cells": [
  {
   "cell_type": "markdown",
   "id": "22b1230b-3795-4749-b72c-25999d33b67f",
   "metadata": {},
   "source": [
    "# append(): \n",
    "Adds an element to the end of a list."
   ]
  },
  {
   "cell_type": "code",
   "execution_count": 22,
   "id": "10b27d0d-f4e7-45fd-8337-ad5e8d6c3b0e",
   "metadata": {},
   "outputs": [
    {
     "name": "stdout",
     "output_type": "stream",
     "text": [
      "['Mathematics', 'chemistry', 1997, 2000]\n",
      "['Mathematics', 'chemistry', 1997, 2000, 20544]\n"
     ]
    }
   ],
   "source": [
    "my_list = ['Mathematics', 'chemistry', 1997, 2000]\n",
    "print(my_list)\n",
    "my_list.append(20544)\n",
    "print(my_list)"
   ]
  },
  {
   "cell_type": "markdown",
   "id": "4e370c63-336a-4e77-9b65-de57c98fc47e",
   "metadata": {},
   "source": [
    "# insert(): \n",
    "Inserts an element at a specified position."
   ]
  },
  {
   "cell_type": "code",
   "execution_count": 29,
   "id": "ae4c1e70-5cdc-4097-a68c-21211a6c9a55",
   "metadata": {},
   "outputs": [
    {
     "name": "stdout",
     "output_type": "stream",
     "text": [
      "['Mathematics', 'chemistry', 1997, 2000]\n",
      "['Mathematics', 'chemistry', 10087, 1997, 2000, 456, 'a']\n"
     ]
    }
   ],
   "source": [
    "my_list = ['Mathematics', 'chemistry', 1997, 2000]\n",
    "print(my_list)\n",
    "my_list.insert(2, 10087)\n",
    "my_list.insert(10, \"a\")\n",
    "my_list.insert(5, 456)\n",
    "print(my_list)"
   ]
  },
  {
   "cell_type": "markdown",
   "id": "4035b3d5-f9a7-404f-a68d-369bfbf0f55a",
   "metadata": {},
   "source": [
    "# extend(): \n",
    "Adds items from an iterable (e.g., another list, array, or string) to the end of the list."
   ]
  },
  {
   "cell_type": "code",
   "execution_count": 24,
   "id": "ee212932-69e2-44d3-8a64-44c1026576a4",
   "metadata": {},
   "outputs": [
    {
     "name": "stdout",
     "output_type": "stream",
     "text": [
      "[1, 2, 3]\n",
      "[1, 2, 3, 2, 3, 4, 5]\n"
     ]
    }
   ],
   "source": [
    "list1 = [1, 2, 3]\n",
    "list2 = [2, 3, 4, 5]\n",
    "print(list1)\n",
    "list1.extend(list2)\n",
    "print(list1)"
   ]
  },
  {
   "cell_type": "markdown",
   "id": "6188b1ac-e577-4d5a-911d-88b2f59b7a94",
   "metadata": {},
   "source": [
    "# remove(): \n",
    "Removes the first occurrence of a given object from the list."
   ]
  },
  {
   "cell_type": "code",
   "execution_count": 26,
   "id": "bee70078-0d64-4386-8b03-82fdcf8a00e6",
   "metadata": {},
   "outputs": [
    {
     "name": "stdout",
     "output_type": "stream",
     "text": [
      "['Mathematics', 'chemistry', 10087, 1997, 2000, 10087]\n",
      "['Mathematics', 'chemistry', 1997, 2000, 10087]\n"
     ]
    }
   ],
   "source": [
    "my_list = ['Mathematics', 'chemistry', 10087, 1997, 2000, 10087]\n",
    "print(my_list)\n",
    "my_list.remove(10087)\n",
    "print(my_list)"
   ]
  },
  {
   "cell_type": "markdown",
   "id": "3b676e2c-3068-44fb-a82f-d908c4cdab1d",
   "metadata": {},
   "source": [
    "# pop(): \n",
    "Removes and returns the last value from the list or a value at a specific index."
   ]
  },
  {
   "cell_type": "code",
   "execution_count": 32,
   "id": "b195b8db-0601-4e25-ae09-eeffa611eb85",
   "metadata": {},
   "outputs": [
    {
     "name": "stdout",
     "output_type": "stream",
     "text": [
      "['Mathematics', 'chemistry', 1997, 2000]\n",
      "['Mathematics', 1997, 2000]\n"
     ]
    }
   ],
   "source": [
    "my_list = ['Mathematics', 'chemistry', 1997, 2000]\n",
    "print(my_list)\n",
    "last_value = my_list.pop(1)\n",
    "print(my_list)"
   ]
  },
  {
   "cell_type": "markdown",
   "id": "495d77b8-0216-4abb-ae87-ebfb48fe6700",
   "metadata": {},
   "source": [
    "# reverse(): \n",
    "Reverses the order of elements in the list in place."
   ]
  },
  {
   "cell_type": "code",
   "execution_count": 33,
   "id": "4773dcd4-75da-4ce2-b436-335443f34ba5",
   "metadata": {},
   "outputs": [
    {
     "name": "stdout",
     "output_type": "stream",
     "text": [
      "[1, 2, 3, 4, 5]\n",
      "[5, 4, 3, 2, 1]\n"
     ]
    }
   ],
   "source": [
    "my_list = [1, 2, 3, 4, 5]\n",
    "print(my_list)\n",
    "my_list.reverse()\n",
    "print(my_list)"
   ]
  },
  {
   "cell_type": "markdown",
   "id": "fc7b2893-24db-4302-a4e2-02c3b2df8891",
   "metadata": {},
   "source": [
    "# sort(): \n",
    "Sorts the list in ascending, descending, or user-defined order."
   ]
  },
  {
   "cell_type": "code",
   "execution_count": 34,
   "id": "83b1c4d9-46d5-49fa-8465-ab246dc51718",
   "metadata": {},
   "outputs": [
    {
     "name": "stdout",
     "output_type": "stream",
     "text": [
      "[5, 2, 8, 1, 3]\n",
      "[1, 2, 3, 5, 8]\n"
     ]
    }
   ],
   "source": [
    "my_list = [5, 2, 8, 1, 3]\n",
    "print(my_list)\n",
    "my_list.sort()  # Ascending order\n",
    "print(my_list)"
   ]
  },
  {
   "cell_type": "markdown",
   "id": "9f466b75-2f31-4804-ba3f-310e0113e163",
   "metadata": {},
   "source": [
    "# count(): \n",
    "Counts the occurrences of a specific element in the list."
   ]
  },
  {
   "cell_type": "code",
   "execution_count": 35,
   "id": "33651371-bfb3-45ff-892d-23e5de1ee232",
   "metadata": {},
   "outputs": [
    {
     "name": "stdout",
     "output_type": "stream",
     "text": [
      "3\n",
      "0\n"
     ]
    }
   ],
   "source": [
    "my_list = [1, 2, 2, 3, 2, 4]\n",
    "count_of_twos = my_list.count(2)\n",
    "print(count_of_twos)\n",
    "count_of_six = my_list.count(6)\n",
    "print(count_of_six)"
   ]
  },
  {
   "cell_type": "markdown",
   "id": "223c7215-cae4-4377-9b20-c18f7d4aa73e",
   "metadata": {},
   "source": [
    "# Problem 1: List Filtering and Transformation\r\n",
    "You're developing a data processing tool where you receive a list of mixed data types. You need to filter out non-numeric values and convert the remaining values to integers. Write a Python function filter_and_convert_to_integers(data) that takes a list of mixed data types as input, filters out non-numeric values, and returns a new list with the remaining values converted to integers."
   ]
  },
  {
   "cell_type": "code",
   "execution_count": 38,
   "id": "dc83abca-4f97-430f-bd64-c4cd69f288e7",
   "metadata": {},
   "outputs": [
    {
     "name": "stdout",
     "output_type": "stream",
     "text": [
      "Filtered integers: [1, 2, 5]\n"
     ]
    }
   ],
   "source": [
    "def filter_and_convert_to_integers(data):\n",
    "    return [int(x) for x in data if isinstance(x, (int, float))]\n",
    "# The isinstance() function returns True if the specified object is of the specified type, otherwise False.\n",
    "\n",
    "data = [1, 2, '3', '4.5', 'hello', 5.6]\n",
    "filtered_integers = filter_and_convert_to_integers(data)\n",
    "print(\"Filtered integers:\", filtered_integers) \n"
   ]
  },
  {
   "cell_type": "markdown",
   "id": "80785dba-af4d-42f6-b38d-9bc0ba87ef82",
   "metadata": {},
   "source": [
    "# Problem 2: List Concatenation and Sorting\r\n",
    "You're building a music playlist manager and need to merge two playlists into one sorted playlist. Write a Python function merge_and_sort_playlists(playlist1, playlist2) that takes two lists of songs as input, merges them into one list, and sorts the merged list alphabetically."
   ]
  },
  {
   "cell_type": "code",
   "execution_count": 39,
   "id": "dbf1da6b-8415-414a-ac6d-dee7b9002c3c",
   "metadata": {},
   "outputs": [
    {
     "name": "stdout",
     "output_type": "stream",
     "text": [
      "Sorted playlist: ['Song1', 'Song2', 'Song3', 'Song4', 'Song5', 'Song6']\n"
     ]
    }
   ],
   "source": [
    "def merge_and_sort_playlists(playlist1, playlist2):\n",
    "    merged_playlist = playlist1 + playlist2\n",
    "    return sorted(merged_playlist)\n",
    "\n",
    "playlist1 = ['Song1', 'Song3', 'Song5']\n",
    "playlist2 = ['Song2', 'Song4', 'Song6']\n",
    "sorted_playlist = merge_and_sort_playlists(playlist1, playlist2)\n",
    "print(\"Sorted playlist:\", sorted_playlist) \n"
   ]
  },
  {
   "cell_type": "markdown",
   "id": "9fc53577-3cce-4ffc-a979-01eff8eb44f2",
   "metadata": {},
   "source": [
    "# Problem 3: List Filtering with Conditions\r\n",
    "You're working on a data analysis project and need to filter a list of numbers based on certain conditions. Write a Python function filter_numbers(numbers, condition) that takes a list of numbers and a condition function as input. It should return a new list containing only the numbers that satisfy the given condition."
   ]
  },
  {
   "cell_type": "code",
   "execution_count": 20,
   "id": "5c84578b-b1c5-4bb7-819a-13894084d822",
   "metadata": {},
   "outputs": [
    {
     "name": "stdout",
     "output_type": "stream",
     "text": [
      "Positive numbers: [-2, -1]\n"
     ]
    }
   ],
   "source": [
    "def filter_numbers(numbers, condition):\n",
    "    return [num for num in numbers if condition(num)]\n",
    "\n",
    "def is_positive(num):\n",
    "    return num < 0\n",
    "\n",
    "numbers = [-2, -1, 0, 1, 2, 3]\n",
    "positive_numbers = filter_numbers(numbers, is_positive)\n",
    "print(\"Positive numbers:\", positive_numbers)"
   ]
  },
  {
   "cell_type": "markdown",
   "id": "caf37c8d-630a-4167-b005-93b58e429561",
   "metadata": {
    "jp-MarkdownHeadingCollapsed": true
   },
   "source": [
    "# Problem 4: List Rotation\r\n",
    "You're implementing a game where players can rotate a list of numbers to the left by a given number of positions. Write a Python function rotate_list_left(numbers, positions) that takes a list of numbers and the number of positions to rotate as input, and returns a new list with the elements rotated to the left by the specified number of positions.."
   ]
  },
  {
   "cell_type": "code",
   "execution_count": 21,
   "id": "51694fef-450c-4c5f-803a-527aab8f81a2",
   "metadata": {},
   "outputs": [
    {
     "name": "stdout",
     "output_type": "stream",
     "text": [
      "Rotated list: [3, 4, 5, 1, 2]\n"
     ]
    }
   ],
   "source": [
    "def rotate_list_left(numbers, positions):\n",
    "    positions %= len(numbers)\n",
    "    return numbers[positions:] + numbers[:positions]\n",
    "\n",
    "numbers = [1, 2, 3, 4, 5]\n",
    "positions = 2\n",
    "rotated_list = rotate_list_left(numbers, positions)\n",
    "print(\"Rotated list:\", rotated_list)  "
   ]
  },
  {
   "cell_type": "code",
   "execution_count": null,
   "id": "d686c640-4353-49ed-80ed-061abbde4756",
   "metadata": {},
   "outputs": [],
   "source": []
  }
 ],
 "metadata": {
  "kernelspec": {
   "display_name": "Python 3 (ipykernel)",
   "language": "python",
   "name": "python3"
  },
  "language_info": {
   "codemirror_mode": {
    "name": "ipython",
    "version": 3
   },
   "file_extension": ".py",
   "mimetype": "text/x-python",
   "name": "python",
   "nbconvert_exporter": "python",
   "pygments_lexer": "ipython3",
   "version": "3.12.2"
  }
 },
 "nbformat": 4,
 "nbformat_minor": 5
}
