{
 "cells": [
  {
   "cell_type": "markdown",
   "id": "20e22ea6-6ef8-4e9c-bab0-d876fe480314",
   "metadata": {},
   "source": [
    "## List Creation:"
   ]
  },
  {
   "cell_type": "markdown",
   "id": "d84e9215-c628-4671-8d91-5f1eec0ffe83",
   "metadata": {},
   "source": [
    "### Squares of Numbers: \n",
    "Create a list containing the squares of numbers from 1 to 10."
   ]
  },
  {
   "cell_type": "code",
   "execution_count": 1,
   "id": "8de2a073-bb39-4cc9-b498-8a8434a59eba",
   "metadata": {},
   "outputs": [
    {
     "name": "stdout",
     "output_type": "stream",
     "text": [
      "Squares of numbers: [1, 4, 9, 16, 25, 36, 49, 64, 81, 100]\n"
     ]
    }
   ],
   "source": [
    "squares = [x ** 2 for x in range(1, 11)]\n",
    "print(\"Squares of numbers:\", squares)"
   ]
  },
  {
   "cell_type": "markdown",
   "id": "694d8da5-fda9-4952-a295-e2fc893a7d55",
   "metadata": {},
   "source": [
    "### Even Numbers: \n",
    "Create a list containing the even numbers from 1 to 20."
   ]
  },
  {
   "cell_type": "code",
   "execution_count": 4,
   "id": "7b7caf32-c757-467f-b601-fe0dc70f3904",
   "metadata": {},
   "outputs": [
    {
     "name": "stdout",
     "output_type": "stream",
     "text": [
      "Even numbers: [2, 4, 6, 8, 10, 12, 14, 16, 18, 20]\n"
     ]
    }
   ],
   "source": [
    "even_numbers = [x for x in range(1, 21) if x % 2 == 0]\n",
    "print(\"Even numbers:\", even_numbers)"
   ]
  },
  {
   "cell_type": "markdown",
   "id": "1343c272-400d-4747-bba0-9b2f93310197",
   "metadata": {},
   "source": [
    "### First Letter Uppercase: \n",
    "Create a list containing the first letter of each word in a given sentence with the first letter capitalized."
   ]
  },
  {
   "cell_type": "code",
   "execution_count": 5,
   "id": "1c2489ff-3327-496d-b32f-8b69ef8ddd5b",
   "metadata": {},
   "outputs": [
    {
     "name": "stdout",
     "output_type": "stream",
     "text": [
      "First letters capitalized: ['H', 'W', 'H', 'A', 'Y']\n"
     ]
    }
   ],
   "source": [
    "sentence = \"hello world, how are you?\"\n",
    "first_letters = [word[0].upper() for word in sentence.split()]\n",
    "print(\"First letters capitalized:\", first_letters)"
   ]
  },
  {
   "cell_type": "markdown",
   "id": "a11012c6-cfa0-43b8-aaab-5a766d3edb05",
   "metadata": {},
   "source": [
    "## Dictionary Creation:"
   ]
  },
  {
   "cell_type": "markdown",
   "id": "c60423e1-c5b0-437a-b0e6-ef83c6dcb372",
   "metadata": {},
   "source": [
    "### Square Roots: \n",
    "Create a dictionary where keys are numbers from 1 to 5 and values are their square roots."
   ]
  },
  {
   "cell_type": "code",
   "execution_count": 6,
   "id": "f526fe1d-8b54-4835-b319-fb5d40d1fe3d",
   "metadata": {},
   "outputs": [
    {
     "name": "stdout",
     "output_type": "stream",
     "text": [
      "Square roots: {1: 1.0, 2: 1.4142135623730951, 3: 1.7320508075688772, 4: 2.0, 5: 2.23606797749979}\n"
     ]
    }
   ],
   "source": [
    "import math\n",
    "\n",
    "square_roots = {x: math.sqrt(x) for x in range(1, 6)}\n",
    "print(\"Square roots:\", square_roots)"
   ]
  },
  {
   "cell_type": "markdown",
   "id": "076d9501-f418-4bf4-890a-27426a7c58c3",
   "metadata": {},
   "source": [
    "### Word Lengths: \n",
    "Create a dictionary where keys are words from a list and values are their lengths."
   ]
  },
  {
   "cell_type": "code",
   "execution_count": 7,
   "id": "2afa92ad-b5f0-4629-b567-dca81fd1184e",
   "metadata": {},
   "outputs": [
    {
     "name": "stdout",
     "output_type": "stream",
     "text": [
      "Word lengths: {'apple': 5, 'banana': 6, 'orange': 6, 'kiwi': 4}\n"
     ]
    }
   ],
   "source": [
    "words = [\"apple\", \"banana\", \"orange\", \"kiwi\"]\n",
    "word_lengths = {word: len(word) for word in words}\n",
    "print(\"Word lengths:\", word_lengths)"
   ]
  },
  {
   "cell_type": "markdown",
   "id": "5aa6c311-c75b-4a9f-b079-982fcf459693",
   "metadata": {},
   "source": [
    "### Character Frequencies: \n",
    "Create a dictionary where keys are characters from a string and values are their frequencies."
   ]
  },
  {
   "cell_type": "code",
   "execution_count": 8,
   "id": "35672806-deea-4c81-9d46-dd779d321414",
   "metadata": {},
   "outputs": [
    {
     "name": "stdout",
     "output_type": "stream",
     "text": [
      "Character frequencies: {'r': 1, 'o': 2, 'd': 1, 'e': 1, 'w': 1, 'h': 1, 'l': 3, ' ': 1}\n"
     ]
    }
   ],
   "source": [
    "text = \"hello world\"\n",
    "char_frequencies = {char: text.count(char) for char in set(text)}\n",
    "print(\"Character frequencies:\", char_frequencies)"
   ]
  },
  {
   "cell_type": "markdown",
   "id": "022ab316-08cd-4a27-b124-f4e8caf37996",
   "metadata": {},
   "source": [
    "## String Creation:"
   ]
  },
  {
   "cell_type": "markdown",
   "id": "27f61ed9-7c3f-42ba-a781-88fb08cac2cf",
   "metadata": {},
   "source": [
    "### Joining Words: \n",
    "Create a string by joining the words from a list with a comma separator."
   ]
  },
  {
   "cell_type": "code",
   "execution_count": 13,
   "id": "6ef73567-d879-45e6-b202-01fdaede16ab",
   "metadata": {},
   "outputs": [
    {
     "name": "stdout",
     "output_type": "stream",
     "text": [
      "Joined string: applebananaorangekiwi\n"
     ]
    }
   ],
   "source": [
    "words = [\"apple\", \"banana\", \"orange\", \"kiwi\"]\n",
    "joined_string = ' '.join(words)\n",
    "print(\"Joined string:\", joined_string)"
   ]
  },
  {
   "cell_type": "markdown",
   "id": "ad8cf5d3-e19c-4104-a4a7-6442812b42f2",
   "metadata": {},
   "source": [
    "### Reversed String: \n",
    "Create a string containing the characters of another string in reversed order."
   ]
  },
  {
   "cell_type": "code",
   "execution_count": 10,
   "id": "eaab6ef1-0bd4-46b8-94fc-277b7a19e4c4",
   "metadata": {},
   "outputs": [
    {
     "name": "stdout",
     "output_type": "stream",
     "text": [
      "Reversed string: dlrow olleh\n"
     ]
    }
   ],
   "source": [
    "original_string = \"hello world\"\n",
    "reversed_string = ''.join([char for char in reversed(original_string)])\n",
    "print(\"Reversed string:\", reversed_string)"
   ]
  },
  {
   "cell_type": "markdown",
   "id": "61502992-8d58-43b7-95a0-7724c7e9be1f",
   "metadata": {},
   "source": [
    "### Vowels in Sentence: \n",
    "Create a string containing only the vowels from a given sentence."
   ]
  },
  {
   "cell_type": "code",
   "execution_count": 11,
   "id": "3fedcd35-02cd-46c3-a25c-3340330fc106",
   "metadata": {},
   "outputs": [
    {
     "name": "stdout",
     "output_type": "stream",
     "text": [
      "Vowels: eoooaeou\n"
     ]
    }
   ],
   "source": [
    "sentence = \"hello world, how are you?\"\n",
    "vowels = ''.join([char for char in sentence if char.lower() in 'aeiou'])\n",
    "print(\"Vowels:\", vowels)"
   ]
  },
  {
   "cell_type": "code",
   "execution_count": null,
   "id": "70ee72eb-f620-4a6f-82c6-cc50f774ba55",
   "metadata": {},
   "outputs": [],
   "source": []
  }
 ],
 "metadata": {
  "kernelspec": {
   "display_name": "Python 3 (ipykernel)",
   "language": "python",
   "name": "python3"
  },
  "language_info": {
   "codemirror_mode": {
    "name": "ipython",
    "version": 3
   },
   "file_extension": ".py",
   "mimetype": "text/x-python",
   "name": "python",
   "nbconvert_exporter": "python",
   "pygments_lexer": "ipython3",
   "version": "3.12.2"
  }
 },
 "nbformat": 4,
 "nbformat_minor": 5
}
