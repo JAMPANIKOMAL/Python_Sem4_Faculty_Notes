{
 "cells": [
  {
   "cell_type": "code",
   "execution_count": 1,
   "id": "b9529c62-b409-4ab6-bac0-6b87805ed8bb",
   "metadata": {},
   "outputs": [
    {
     "name": "stdout",
     "output_type": "stream",
     "text": [
      "Grouped anagrams: [['eat', 'tea', 'ate'], ['tan', 'nat'], ['bat']]\n"
     ]
    }
   ],
   "source": [
    "def group_anagrams(strs):\n",
    "    anagram_groups = {}\n",
    "    for word in strs:\n",
    "        sorted_word = ''.join(sorted(word))\n",
    "        if sorted_word not in anagram_groups:\n",
    "            anagram_groups[sorted_word] = []\n",
    "        anagram_groups[sorted_word].append(word)\n",
    "    return list(anagram_groups.values())\n",
    "\n",
    "strings = [\"eat\", \"tea\", \"tan\", \"ate\", \"nat\", \"bat\"]\n",
    "print(\"Grouped anagrams:\", group_anagrams(strings))"
   ]
  },
  {
   "cell_type": "code",
   "execution_count": null,
   "id": "6102905b-bdf8-483c-a893-310782909005",
   "metadata": {},
   "outputs": [],
   "source": []
  }
 ],
 "metadata": {
  "kernelspec": {
   "display_name": "Python 3 (ipykernel)",
   "language": "python",
   "name": "python3"
  },
  "language_info": {
   "codemirror_mode": {
    "name": "ipython",
    "version": 3
   },
   "file_extension": ".py",
   "mimetype": "text/x-python",
   "name": "python",
   "nbconvert_exporter": "python",
   "pygments_lexer": "ipython3",
   "version": "3.12.2"
  }
 },
 "nbformat": 4,
 "nbformat_minor": 5
}
