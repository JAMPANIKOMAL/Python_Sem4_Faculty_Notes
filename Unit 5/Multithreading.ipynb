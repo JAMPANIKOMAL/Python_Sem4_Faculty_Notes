{
 "cells": [
  {
   "cell_type": "markdown",
   "id": "30e38ce1-9c77-4ae9-b847-9268e16a2d0a",
   "metadata": {},
   "source": [
    "## Multithreading\n",
    "Multithreading in Python allows you to run multiple threads (smaller units of a process) concurrently, which can help improve the performance of I/O-bound tasks. However, Python's Global Interpreter Lock (GIL) means that only one thread executes Python bytecode at a time, making it less effective for CPU-bound tasks."
   ]
  },
  {
   "cell_type": "markdown",
   "id": "7095dda2-3b6a-417f-b1a3-8e06b496b0c8",
   "metadata": {},
   "source": [
    "### Understanding Threads\n",
    "A thread is a separate flow of execution. In Python, the threading module is used to work with threads. Each thread runs in the same memory space, meaning they can share data, which can lead to potential issues with data integrity if not handled properly."
   ]
  },
  {
   "cell_type": "markdown",
   "id": "f31261d8-5fd6-427e-9786-54f2e27e118e",
   "metadata": {},
   "source": [
    "#### Key Concepts:\n",
    "1. Main Thread: The initial thread when a Python program starts.\r\n",
    "2. Thread Object: Represents a single thread of control. You can create and manage these objects using the threading module."
   ]
  },
  {
   "cell_type": "markdown",
   "id": "711b7a02-417d-43a7-93ea-85dc4b5b25ed",
   "metadata": {},
   "source": [
    "#### Forking Threads\n",
    "Forking threads means creating new threads from the main thread or another thread. Each new thread runs a specific function concurrently with other threads.\r\n",
    "\r\n",
    "Steps to Create and Start a Thread:\r\n",
    "1. Import the __threading__ Module: This module provides a high-level interface for working with threads.\r\n",
    "2. Define a Function for the Thread: This is the function that the thread will execute.\r\n",
    "3. Create a Thread Object: Use the __threading.Thread__ class.\r\n",
    "4. Start the Thread: Use the __start()__ method of the Thread object.\r\n",
    "5. Join the Thread (Optional): Use the __join()__ method to wait for the thread to complete."
   ]
  },
  {
   "cell_type": "markdown",
   "id": "82bc988a-70d9-4e62-b0a0-ac9655ef80b9",
   "metadata": {},
   "source": [
    "##### Step 1: Import the threading Module\n",
    "The threading module provides the necessary functions and classes to create and manage threads in Python."
   ]
  },
  {
   "cell_type": "code",
   "execution_count": 2,
   "id": "52bb4cfb-e03e-4856-81ed-7e324a718887",
   "metadata": {},
   "outputs": [],
   "source": [
    "import threading\n",
    "import time"
   ]
  },
  {
   "cell_type": "markdown",
   "id": "f22c5f74-2f09-45e6-8acc-dd855e2b9c38",
   "metadata": {},
   "source": [
    "##### Step 2: Define a Function for the Thread\r\n",
    "This function will contain the code that you want to run in a separate thread."
   ]
  },
  {
   "cell_type": "code",
   "execution_count": 1,
   "id": "382f0869-8709-4673-89f4-6591118647cb",
   "metadata": {},
   "outputs": [],
   "source": [
    "def print_numbers():\n",
    "    for i in range(1, 6):\n",
    "        print(f\"Number: {i}\")\n",
    "        time.sleep(1)  # Simulate a delay"
   ]
  },
  {
   "cell_type": "markdown",
   "id": "67dfc9eb-5758-47a4-8e72-606de985d41d",
   "metadata": {},
   "source": [
    "##### Step 3: Create a Thread Object\r\n",
    "Create a thread object by instantiating the Thread class from the threading module. You need to specify the target function that the thread will execute."
   ]
  },
  {
   "cell_type": "code",
   "execution_count": 3,
   "id": "c56a2f5f-ee96-416f-8b8e-aa5175f3b03d",
   "metadata": {},
   "outputs": [],
   "source": [
    "thread1 = threading.Thread(target=print_numbers)\n",
    "thread2 = threading.Thread(target=print_numbers)"
   ]
  },
  {
   "cell_type": "markdown",
   "id": "ab8d2a82-df64-4bcc-a547-0628cf9de77c",
   "metadata": {},
   "source": [
    "##### Step 4: Start the Thread\n",
    "Start the thread using the start() method. This will invoke the run() method of the Thread object, which in turn calls the target function."
   ]
  },
  {
   "cell_type": "code",
   "execution_count": 4,
   "id": "3c9a48a0-b18f-4949-b6eb-f6d9ea9d058b",
   "metadata": {},
   "outputs": [
    {
     "name": "stdout",
     "output_type": "stream",
     "text": [
      "Number: 1\n",
      "Number: 1\n",
      "Number: 2\n",
      "Number: 2\n",
      "Number: 3Number: 3\n",
      "\n",
      "Number: 4Number: 4\n",
      "\n",
      "Number: 5Number: 5\n",
      "\n"
     ]
    }
   ],
   "source": [
    "thread1.start()\n",
    "thread2.start()"
   ]
  },
  {
   "cell_type": "markdown",
   "id": "0f1cee4a-a0bc-4189-8eb6-f9750e770b1e",
   "metadata": {},
   "source": [
    "##### Step 5: Wait for the Thread to Complete (Optional)\r\n",
    "If you want the main program to wait for the thread to finish its execution before proceeding, you can use the join() method"
   ]
  },
  {
   "cell_type": "code",
   "execution_count": 5,
   "id": "81ef1823-2c3c-43df-9eb0-a720bce6b67d",
   "metadata": {},
   "outputs": [],
   "source": [
    "thread1.join()"
   ]
  },
  {
   "cell_type": "markdown",
   "id": "0119384b-412e-414a-8233-e8d79efc8352",
   "metadata": {},
   "source": [
    "# Example"
   ]
  },
  {
   "cell_type": "code",
   "execution_count": 6,
   "id": "aae46488-f209-46fb-afbc-6abaabd2393b",
   "metadata": {},
   "outputs": [],
   "source": [
    "def print_numbers():\n",
    "    for i in range(1, 6):\n",
    "        print(f\"Number: {i}\")\n",
    "        time.sleep(1)\n",
    "\n",
    "def print_letters():\n",
    "    for letter in 'abcde':\n",
    "        print(f\"Letter: {letter}\")\n",
    "        time.sleep(1)"
   ]
  },
  {
   "cell_type": "markdown",
   "id": "06d566eb-9623-455c-aa39-4213f24b5e70",
   "metadata": {},
   "source": [
    "- print_numbers(): Prints numbers from 1 to 5, pausing for 1 second between each print.\r",
    "- \n",
    "print_letters(): Prints letters from 'a' to 'e', pausing for 1 second between each print."
   ]
  },
  {
   "cell_type": "code",
   "execution_count": 7,
   "id": "31428997-fb45-43dc-b93d-fb60f8a44119",
   "metadata": {},
   "outputs": [],
   "source": [
    "thread1 = threading.Thread(target=print_numbers)\n",
    "thread2 = threading.Thread(target=print_letters)"
   ]
  },
  {
   "cell_type": "markdown",
   "id": "fa772bad-b599-4338-b55c-1e40975130be",
   "metadata": {},
   "source": [
    "- thread1: A thread object that will run the print_numbers function.\n",
    "- thread2: A thread object that will run the print_letters function."
   ]
  },
  {
   "cell_type": "code",
   "execution_count": 8,
   "id": "6963764e-768a-4a69-b8c1-c117f4165753",
   "metadata": {},
   "outputs": [
    {
     "name": "stdout",
     "output_type": "stream",
     "text": [
      "Number: 1\n",
      "Letter: a\n",
      "Number: 2\n",
      "Letter: b\n",
      "Number: 3\n",
      "Letter: c\n",
      "Number: 4\n",
      "Letter: d\n",
      "Number: 5\n",
      "Letter: e\n"
     ]
    }
   ],
   "source": [
    "thread1.start()\n",
    "thread2.start()"
   ]
  },
  {
   "cell_type": "markdown",
   "id": "e7810016-20b8-423a-a8c5-e13783475df8",
   "metadata": {},
   "source": [
    "- start(): Begins the execution of the threads.\n",
    "- The functions print_numbers and print_letters run concurrently in separate threads."
   ]
  },
  {
   "cell_type": "code",
   "execution_count": 9,
   "id": "326d041e-8114-4e0e-bb41-ae3d23ea2300",
   "metadata": {},
   "outputs": [],
   "source": [
    "thread1.join()\n",
    "thread2.join()"
   ]
  },
  {
   "cell_type": "code",
   "execution_count": 10,
   "id": "cb7f9445-565e-44aa-b2d8-76596d0bd7e3",
   "metadata": {},
   "outputs": [
    {
     "name": "stdout",
     "output_type": "stream",
     "text": [
      "Both threads have finished execution.\n"
     ]
    }
   ],
   "source": [
    "print(\"Both threads have finished execution.\")"
   ]
  },
  {
   "cell_type": "code",
   "execution_count": 9,
   "id": "99455b7a-80fa-485a-875e-61ae91b4e121",
   "metadata": {},
   "outputs": [
    {
     "name": "stdout",
     "output_type": "stream",
     "text": [
      "Number: 1\n",
      "Letter: a\n",
      "Number: 2\n",
      "Letter: b\n",
      "Number: 3Letter: c\n",
      "\n",
      "Number: 4Letter: d\n",
      "\n",
      "Letter: e\n",
      "Number: 5\n",
      "Both threads have finished execution.\n"
     ]
    }
   ],
   "source": [
    "def print_numbers():\n",
    "    for i in range(1, 6):\n",
    "        print(f\"Number: {i}\")\n",
    "        time.sleep(1)  # Simulate a delay\n",
    "# Define the second function for another thread\n",
    "def print_letters():\n",
    "    for letter in 'abcde':\n",
    "        print(f\"Letter: {letter}\")\n",
    "        time.sleep(1)  # Simulate a delay\n",
    "# Create thread objects\n",
    "thread1 = threading.Thread(target=print_numbers)\n",
    "thread2 = threading.Thread(target=print_letters)\n",
    "# Start the threads\n",
    "thread1.start()\n",
    "thread2.start()\n",
    "# Wait for both threads to complete\n",
    "thread1.join()\n",
    "thread2.join()\n",
    "print(\"Both threads have finished execution.\")"
   ]
  },
  {
   "cell_type": "markdown",
   "id": "f63ee330-27e9-4825-991f-d6deb4fd29b4",
   "metadata": {},
   "source": [
    "### Synchronization \n",
    "__Synchronizing__ threads in Python is essential to avoid race conditions and ensure thread-safe operations when multiple threads access shared resources. The threading module in Python provides several synchronization primitives, such as Lock, RLock, Semaphore, Event, and Condition. Here, we'll focus on using Lock and Condition for thread synchronization."
   ]
  },
  {
   "cell_type": "markdown",
   "id": "b63884b2-acd2-470e-9896-52e9ccbb37fc",
   "metadata": {},
   "source": [
    "##### Using Lock\n",
    "A Lock (also known as a mutex) is a basic synchronization primitive that allows only one thread to access a shared resource at a time. Here’s an example:"
   ]
  },
  {
   "cell_type": "code",
   "execution_count": 11,
   "id": "d87d26b5-1cf4-4b53-ae93-6c21321d9363",
   "metadata": {},
   "outputs": [
    {
     "name": "stdout",
     "output_type": "stream",
     "text": [
      "Final counter value: 100\n"
     ]
    }
   ],
   "source": [
    "# Shared resource\n",
    "counter = 0\n",
    "# Lock for synchronizing access to the counter\n",
    "lock = threading.Lock()\n",
    "def increment():\n",
    "    global counter\n",
    "    for _ in range(10):\n",
    "        # Acquire the lock before accessing the shared resource\n",
    "        lock.acquire()\n",
    "        counter += 1\n",
    "        # Release the lock after the access\n",
    "        lock.release()\n",
    "# Create multiple threads\n",
    "threads = []\n",
    "for _ in range(10):\n",
    "    thread = threading.Thread(target=increment)\n",
    "    threads.append(thread)\n",
    "    thread.start()\n",
    "# Wait for all threads to complete\n",
    "for thread in threads:\n",
    "    thread.join()\n",
    "print(f'Final counter value: {counter}')"
   ]
  },
  {
   "cell_type": "markdown",
   "id": "d089f59d-ea20-4b15-8052-f9e95c1fb4bf",
   "metadata": {},
   "source": [
    "### Using Condition\r\n",
    "A Condition object allows threads to wait for some condition to be met before continuing execution. It is useful for more complex synchronization scenarios.\r\n",
    "\r\n",
    "Here’s an example using Condition:"
   ]
  },
  {
   "cell_type": "code",
   "execution_count": 13,
   "id": "2118c140-7931-4f9e-8f90-b54dac2c5abc",
   "metadata": {},
   "outputs": [
    {
     "name": "stdout",
     "output_type": "stream",
     "text": [
      "Producing item 0\n",
      "Consuming item 0\n",
      "Producing item 1\n",
      "Consuming item 1\n",
      "Producing item 2\n",
      "Consuming item 2\n",
      "Producing item 3\n",
      "Consuming item 3\n",
      "Producing item 4\n",
      "Consuming item 4\n"
     ]
    }
   ],
   "source": [
    "# Shared resource\n",
    "items = []\n",
    "# Condition variable\n",
    "condition = threading.Condition()\n",
    "# Producer function\n",
    "def producer():\n",
    "    global items\n",
    "    for i in range(5):\n",
    "        with condition:\n",
    "            print(f'Producing item {i}')\n",
    "            items.append(i)\n",
    "            # Notify the consumer thread that a new item is available\n",
    "            condition.notify()\n",
    "            # Simulate some delay\n",
    "            condition.wait_for(lambda: len(items) == 0)\n",
    "# Consumer function\n",
    "def consumer():\n",
    "    global items\n",
    "    for _ in range(5):\n",
    "        with condition:\n",
    "            while not items:\n",
    "                # Wait until an item is available\n",
    "                condition.wait()\n",
    "            item = items.pop(0)\n",
    "            print(f'Consuming item {item}')\n",
    "            # Notify the producer thread to produce more items\n",
    "            condition.notify()\n",
    "\n",
    "# Create producer and consumer threads\n",
    "producer_thread = threading.Thread(target=producer)\n",
    "consumer_thread = threading.Thread(target=consumer)\n",
    "\n",
    "producer_thread.start()\n",
    "consumer_thread.start()\n",
    "\n",
    "# Wait for both threads to complete\n",
    "producer_thread.join()\n",
    "consumer_thread.join()\n"
   ]
  },
  {
   "cell_type": "code",
   "execution_count": null,
   "id": "6e8820b4-b740-4ffc-aa8d-69937921984e",
   "metadata": {},
   "outputs": [],
   "source": []
  }
 ],
 "metadata": {
  "kernelspec": {
   "display_name": "Python 3 (ipykernel)",
   "language": "python",
   "name": "python3"
  },
  "language_info": {
   "codemirror_mode": {
    "name": "ipython",
    "version": 3
   },
   "file_extension": ".py",
   "mimetype": "text/x-python",
   "name": "python",
   "nbconvert_exporter": "python",
   "pygments_lexer": "ipython3",
   "version": "3.12.2"
  }
 },
 "nbformat": 4,
 "nbformat_minor": 5
}
