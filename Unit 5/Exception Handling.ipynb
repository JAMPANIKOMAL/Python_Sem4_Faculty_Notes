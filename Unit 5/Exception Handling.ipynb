{
 "cells": [
  {
   "cell_type": "markdown",
   "id": "27ab6aab-2de8-4d78-8cbb-9fb099c5bc48",
   "metadata": {},
   "source": [
    "## Python Exception Handling"
   ]
  },
  {
   "cell_type": "markdown",
   "id": "824f58db-d653-4e15-815b-197fb315236f",
   "metadata": {},
   "source": [
    "Python exception handling allows you to manage errors and other exceptional conditions in your code in a controlled way. Here's a breakdown of how to handle exceptions using 'try', 'except', 'else', and 'finally' blocks in Python, with examples."
   ]
  },
  {
   "cell_type": "markdown",
   "id": "3ad5817c-679d-483f-af9f-96a384c3c6b6",
   "metadata": {},
   "source": [
    "### Basic Exception Handling\n",
    "The basic structure to handle exceptions involves 'try' and 'except' blocks. Here is an example:"
   ]
  },
  {
   "cell_type": "code",
   "execution_count": 2,
   "id": "b3fb2870-3ba6-4f25-a4d8-9b0e73c283bb",
   "metadata": {},
   "outputs": [
    {
     "ename": "ZeroDivisionError",
     "evalue": "division by zero",
     "output_type": "error",
     "traceback": [
      "\u001b[1;31m---------------------------------------------------------------------------\u001b[0m",
      "\u001b[1;31mZeroDivisionError\u001b[0m                         Traceback (most recent call last)",
      "Cell \u001b[1;32mIn[2], line 1\u001b[0m\n\u001b[1;32m----> 1\u001b[0m result \u001b[38;5;241m=\u001b[39m \u001b[38;5;241;43m10\u001b[39;49m\u001b[43m \u001b[49m\u001b[38;5;241;43m/\u001b[39;49m\u001b[43m \u001b[49m\u001b[38;5;241;43m0\u001b[39;49m\n\u001b[0;32m      2\u001b[0m \u001b[38;5;28mprint\u001b[39m(result)\n",
      "\u001b[1;31mZeroDivisionError\u001b[0m: division by zero"
     ]
    }
   ],
   "source": [
    "result = 10 / 0\n",
    "print(result)"
   ]
  },
  {
   "cell_type": "code",
   "execution_count": 8,
   "id": "3e3dc21d-1068-4ae2-85a0-d0bbd53cb32b",
   "metadata": {},
   "outputs": [
    {
     "name": "stdout",
     "output_type": "stream",
     "text": [
      "Caught a general exception: division by zero\n"
     ]
    }
   ],
   "source": [
    "try:\n",
    "    result = 10 / 0\n",
    "except Exception as e:\n",
    "    print(\"Caught a general exception:\", e)\n"
   ]
  },
  {
   "cell_type": "code",
   "execution_count": 1,
   "id": "5e6f6d50-b0dc-4c4e-8787-34e90b0ee52b",
   "metadata": {},
   "outputs": [
    {
     "name": "stdout",
     "output_type": "stream",
     "text": [
      "Caught a ValueError: invalid literal for int() with base 10: 'String'\n"
     ]
    }
   ],
   "source": [
    "try:\n",
    "    result = int(\"String\")\n",
    "except ZeroDivisionError as e:\n",
    "    print(\"Caught a ZeroDivisionError:\", e)\n",
    "except ValueError as e:\n",
    "    print(\"Caught a ValueError:\", e)\n",
    "except Exception as e:\n",
    "    print(\"Caught a general exception:\", e)"
   ]
  },
  {
   "cell_type": "code",
   "execution_count": 9,
   "id": "62e33f39-3ac2-401f-8cbb-2dec42252803",
   "metadata": {},
   "outputs": [
    {
     "name": "stdout",
     "output_type": "stream",
     "text": [
      "Error: Cannot divide by zero!\n",
      "Exception message: division by zero\n"
     ]
    }
   ],
   "source": [
    "try:\n",
    "    # Code that may raise an exception\n",
    "    result = 10 / 0\n",
    "except ZeroDivisionError as e:\n",
    "    # Code to handle the exception\n",
    "    print(\"Error: Cannot divide by zero!\")\n",
    "    print(f\"Exception message: {e}\")\n"
   ]
  },
  {
   "cell_type": "markdown",
   "id": "9e47852b-c0b1-45cd-a798-b417616bdea0",
   "metadata": {},
   "source": [
    "### Handling Multiple Exceptions\n",
    "You can handle multiple exceptions by specifying them in separate 'except' blocks or by grouping them in a tuple."
   ]
  },
  {
   "cell_type": "code",
   "execution_count": 15,
   "id": "7e3c21f8-31c4-44bb-9fa4-4341d647d8c0",
   "metadata": {},
   "outputs": [
    {
     "name": "stdout",
     "output_type": "stream",
     "text": [
      "ValueError occurred: invalid literal for int() with base 10: 'not a number'\n"
     ]
    }
   ],
   "source": [
    "try:\n",
    "    # Code that may raise exceptions\n",
    "    result = int(\"not a number\")\n",
    "except ValueError as e:\n",
    "    # Handle ValueError\n",
    "    print(\"ValueError occurred:\", e)\n",
    "except ZeroDivisionError as e:\n",
    "    # Handle ZeroDivisionError\n",
    "    print(\"ZeroDivisionError occurred:\", e)"
   ]
  },
  {
   "cell_type": "code",
   "execution_count": 14,
   "id": "382584c6-0bf7-4ac5-bc25-81e856a190be",
   "metadata": {},
   "outputs": [
    {
     "name": "stdout",
     "output_type": "stream",
     "text": [
      "ValueError or TypeError occurred: invalid literal for int() with base 10: 'not a number'\n"
     ]
    }
   ],
   "source": [
    "try:\n",
    "    # Code that may raise exceptions\n",
    "    result = int(\"not a number\")\n",
    "except (ValueError, TypeError) as e:\n",
    "    # Handle multiple exceptions\n",
    "    print(\"ValueError or TypeError occurred:\", e)"
   ]
  },
  {
   "cell_type": "markdown",
   "id": "f6e09404-3e7b-4c0e-806b-6fa9ded2cba9",
   "metadata": {},
   "source": [
    "### Using else and finally\n",
    "The 'else' block can be used to 'execute' code if no exceptions were raised, and finally is used for code that should run regardless of whether an exception was raised or not."
   ]
  },
  {
   "cell_type": "code",
   "execution_count": 4,
   "id": "686212fe-646e-489a-8100-1b1fceaad891",
   "metadata": {},
   "outputs": [
    {
     "name": "stdout",
     "output_type": "stream",
     "text": [
      "No exceptions occurred, result is: 5.0\n",
      "This block will always execute\n"
     ]
    }
   ],
   "source": [
    "try:\n",
    "    result = 10 / 2\n",
    "except ZeroDivisionError as e:\n",
    "    print(\"Error: Cannot divide by zero!\")\n",
    "else:\n",
    "    print(\"No exceptions occurred, result is:\", result)\n",
    "finally:\n",
    "    print(\"This block will always execute\")"
   ]
  },
  {
   "cell_type": "markdown",
   "id": "0fbe831b-98bf-4975-9ec1-40ecece79c0e",
   "metadata": {},
   "source": [
    "### Raising Exceptions\n",
    "You can also raise exceptions using the 'raise' statement."
   ]
  },
  {
   "cell_type": "code",
   "execution_count": 13,
   "id": "cbeba621-8233-4ac7-bb9f-429deac9db26",
   "metadata": {},
   "outputs": [
    {
     "name": "stdout",
     "output_type": "stream",
     "text": [
      "Exception: Age must be 18 or older\n"
     ]
    }
   ],
   "source": [
    "def check_age(age):\n",
    "    if age < 18:\n",
    "        raise Exception(\"Age must be 18 or older\")\n",
    "    return \"Age is fine\"\n",
    "try:\n",
    "    asdf=check_age(16)\n",
    "except Exception as e:\n",
    "    print(\"Exception:\", e)\n",
    "else:\n",
    "    print(asdf)"
   ]
  },
  {
   "cell_type": "markdown",
   "id": "3e0f6d00-7a2a-4f8b-ba1f-47e3d4962708",
   "metadata": {},
   "source": [
    "### Custom Exceptions\n",
    "You can define your exceptions by subclassing the built-in 'Exception' class."
   ]
  },
  {
   "cell_type": "code",
   "execution_count": 14,
   "id": "34a8f8c9-7eaa-4236-b0b2-43664369adeb",
   "metadata": {},
   "outputs": [
    {
     "name": "stdout",
     "output_type": "stream",
     "text": [
      "Caught custom exception: This is a custom error\n"
     ]
    }
   ],
   "source": [
    "class CustomError(Exception):\n",
    "    pass\n",
    "def some_function():\n",
    "    raise CustomError(\"This is a custom error\")\n",
    "try:\n",
    "    some_function()\n",
    "except CustomError as e:\n",
    "    print(\"Caught custom exception:\", e)"
   ]
  },
  {
   "cell_type": "markdown",
   "id": "f7edf6a6-c2e0-4f88-b5ce-bf0fe6c0b925",
   "metadata": {},
   "source": [
    "### Full code"
   ]
  },
  {
   "cell_type": "code",
   "execution_count": 2,
   "id": "10508c29-bc11-45d6-b172-8ee79aaa78f6",
   "metadata": {},
   "outputs": [
    {
     "name": "stdout",
     "output_type": "stream",
     "text": [
      "All operations succeeded, result is: 5.0\n",
      "Execution completed\n"
     ]
    }
   ],
   "source": [
    "class CustomError(Exception):\n",
    "    pass\n",
    "def divide_numbers(a, b):\n",
    "    if b == 0:\n",
    "        raise ZeroDivisionError(\"You can't divide by zero!\")\n",
    "    return a / b\n",
    "def check_value(value):\n",
    "    if value < 0:\n",
    "        raise CustomError(\"-ve value not allowed!\")\n",
    "    return value\n",
    "try:\n",
    "    result = divide_numbers(10, 2)\n",
    "    value = check_value(result)\n",
    "except ZeroDivisionError as e:\n",
    "    print(\"Caught a ZeroDivisionError:\", e)\n",
    "except CustomError as e:\n",
    "    print(\"Caught a CustomError:\", e)\n",
    "else:\n",
    "    print(\"All operations succeeded, result is:\", result)\n",
    "finally:\n",
    "    print(\"Execution completed\")"
   ]
  },
  {
   "cell_type": "code",
   "execution_count": null,
   "id": "bfa5e61b-dfb6-4ecb-8dd2-fc46fc2a1a7e",
   "metadata": {},
   "outputs": [],
   "source": []
  }
 ],
 "metadata": {
  "kernelspec": {
   "display_name": "Python 3 (ipykernel)",
   "language": "python",
   "name": "python3"
  },
  "language_info": {
   "codemirror_mode": {
    "name": "ipython",
    "version": 3
   },
   "file_extension": ".py",
   "mimetype": "text/x-python",
   "name": "python",
   "nbconvert_exporter": "python",
   "pygments_lexer": "ipython3",
   "version": "3.12.2"
  }
 },
 "nbformat": 4,
 "nbformat_minor": 5
}
