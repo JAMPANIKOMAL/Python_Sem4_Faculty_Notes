{
 "cells": [
  {
   "cell_type": "markdown",
   "id": "9924c7dd-ffce-4070-b9c2-6fed528767b6",
   "metadata": {},
   "source": [
    "# RegEx\n",
    "What is a Regular Expression? A Regular Expression (RegEx) is a sequence of characters that forms a search pattern. RegEx can be used to check if a string contains the specified search pattern.\r\n",
    "\r\n",
    "Python’s re Module Python has a built-in package called re, which can be used to work with Regular Expressios1. Here’s how you can import it:"
   ]
  },
  {
   "cell_type": "code",
   "execution_count": 1,
   "id": "56266973-5d63-42df-afe2-b320863ecc06",
   "metadata": {},
   "outputs": [],
   "source": [
    "import re"
   ]
  },
  {
   "cell_type": "markdown",
   "id": "c49f9ef8-2059-4cd2-9ba3-64334d6233cc",
   "metadata": {},
   "source": [
    "Basic RegEx Functions The re module offers a set of functions that allows us to search a string for a match:  \r\n",
    "- findall: Returns a list containing all matches.  \r\n",
    "- search: Returns a Match object if there is a match anywhere in the string.  \r\n",
    "- split: Returns a list where the string has been split at each match.  \r\n",
    "- sub: Replaces one or many matches with a string.  ring."
   ]
  },
  {
   "cell_type": "code",
   "execution_count": 7,
   "id": "f412e992-e262-45a5-bf08-187e13e7ae73",
   "metadata": {},
   "outputs": [
    {
     "name": "stdout",
     "output_type": "stream",
     "text": [
      "Pattern found!\n"
     ]
    }
   ],
   "source": [
    "pattern = 'apple'  # Pattern to search for\n",
    "text = 'I have an apple and an orange'\n",
    "match = re.search(pattern, text)\n",
    "if match:\n",
    "    print('Pattern found!')\n",
    "else:\n",
    "    print('Pattern not found!')"
   ]
  },
  {
   "cell_type": "code",
   "execution_count": 31,
   "id": "84a0f142-21bc-4ae9-97a4-c8f8e9ea7879",
   "metadata": {},
   "outputs": [
    {
     "name": "stdout",
     "output_type": "stream",
     "text": [
      "['3', '5']\n"
     ]
    }
   ],
   "source": [
    "pattern = r'\\d+'  # Matches one or more digits\n",
    "text = 'I have 3 apples and 5 oranges'\n",
    "matches = re.findall(pattern, text)\n",
    "print(matches)  # Output: ['3', '5']"
   ]
  },
  {
   "cell_type": "markdown",
   "id": "e7fcb855-7123-48af-8ef1-b65e585d97ac",
   "metadata": {},
   "source": [
    "#### The 'r' before the string signifies a raw string literal, ensuring that backslashes are treated as literal characters, which is a common practice when working with regular expressions in Python."
   ]
  },
  {
   "cell_type": "code",
   "execution_count": 33,
   "id": "3cfce37f-7a66-4276-8a2a-51adb0a723af",
   "metadata": {},
   "outputs": [
    {
     "name": "stdout",
     "output_type": "stream",
     "text": [
      "['apple', 'orange', 'banana', 'grape12', '34qwer']\n"
     ]
    }
   ],
   "source": [
    "pattern = r'\\W+'  # Matches one or more non-alphanumeric characters\n",
    "text = 'apple,orange;banana grape12 34qwer'\n",
    "split_text = re.split(pattern, text)\n",
    "print(split_text)  # Output: ['apple', 'orange', 'banana', 'grape']"
   ]
  },
  {
   "cell_type": "code",
   "execution_count": 12,
   "id": "e66a707a-efc4-489b-94ca-46d1462e1d27",
   "metadata": {},
   "outputs": [
    {
     "name": "stdout",
     "output_type": "stream",
     "text": [
      "I have X apples and X oranges\n"
     ]
    }
   ],
   "source": [
    "pattern = r'\\d+'  # Matches one or more digits\n",
    "text = 'I have 3 apples and 5 oranges'\n",
    "replacement = 'X'  # Replace digits with 'X'\n",
    "new_text = re.sub(pattern, replacement, text)\n",
    "print(new_text)  # Output: 'I have X apples and X oranges'"
   ]
  },
  {
   "cell_type": "markdown",
   "id": "60319750-d890-4b5b-845c-851f5b1d4e84",
   "metadata": {},
   "source": [
    "## Metacharacters"
   ]
  },
  {
   "cell_type": "markdown",
   "id": "979d0acf-07af-4fae-83bc-26328ae0ab1a",
   "metadata": {},
   "source": [
    ". (dot): Matches any single character except newline."
   ]
  },
  {
   "cell_type": "code",
   "execution_count": 34,
   "id": "8cc3b244-ee72-44c4-b88b-c7f131d63aa2",
   "metadata": {},
   "outputs": [
    {
     "name": "stdout",
     "output_type": "stream",
     "text": [
      "['cat', 'cut']\n"
     ]
    }
   ],
   "source": [
    "pattern = 'c.t'  # Matches 'cat', 'cot', 'cut', etc.\n",
    "text = 'The cat sat on the mat cut.'\n",
    "matches = re.findall(pattern, text)\n",
    "print(matches)  # Output: ['cat', 'cot']"
   ]
  },
  {
   "cell_type": "markdown",
   "id": "64606d2c-892a-4588-93ca-9c21a7ae2b1e",
   "metadata": {},
   "source": [
    "^ (caret): Matches the start of the string."
   ]
  },
  {
   "cell_type": "code",
   "execution_count": 37,
   "id": "f95ac15d-761a-439b-923c-9c812c9d4702",
   "metadata": {},
   "outputs": [
    {
     "name": "stdout",
     "output_type": "stream",
     "text": [
      "Pattern found at the start!\n"
     ]
    }
   ],
   "source": [
    "pattern = '^The'  # Matches 'The' only at the start of the string\n",
    "text = 'The cat sat on the mat.'\n",
    "if re.search(pattern, text):\n",
    "    print('Pattern found at the start!')"
   ]
  },
  {
   "cell_type": "markdown",
   "id": "51d8cdfe-7a46-435c-9694-b5b53578c5cf",
   "metadata": {},
   "source": [
    "$ (dollar): Matches the end of the string."
   ]
  },
  {
   "cell_type": "code",
   "execution_count": 39,
   "id": "46117918-d8d0-4277-b1c2-f3d6ab3ddd3e",
   "metadata": {},
   "outputs": [
    {
     "name": "stdout",
     "output_type": "stream",
     "text": [
      "Pattern found at the end!\n"
     ]
    }
   ],
   "source": [
    "pattern = 'mat.$'  # Matches 'mat.' only at the end of the string\n",
    "text = 'The cat sat on the mat.'\n",
    "if re.search(pattern, text):\n",
    "    print('Pattern found at the end!')"
   ]
  },
  {
   "cell_type": "markdown",
   "id": "746ae081-9e4b-4477-90a3-778bffb690d2",
   "metadata": {},
   "source": [
    "'*' (asterisk): Matches zero or more occurrences of the preceding character."
   ]
  },
  {
   "cell_type": "code",
   "execution_count": 41,
   "id": "54da9ec9-3b5c-43cf-8876-f8de48b3aa84",
   "metadata": {},
   "outputs": [
    {
     "name": "stdout",
     "output_type": "stream",
     "text": [
      "['cl', 'col', 'coooooooooool']\n"
     ]
    }
   ],
   "source": [
    "pattern = 'co*l'  # Matches 'col', 'cool', 'coool', etc.\n",
    "text = 'The cl col cat sat on the coooooooooool mat.'\n",
    "matches = re.findall(pattern, text)\n",
    "print(matches)  # Output: ['col', 'cool', 'coool']\n"
   ]
  },
  {
   "cell_type": "markdown",
   "id": "95a332a1-6416-4ba8-85ea-f2800ff9861f",
   "metadata": {},
   "source": [
    "'+' (plus): Matches one or more occurrences of the preceding character."
   ]
  },
  {
   "cell_type": "code",
   "execution_count": 42,
   "id": "1d3db5f9-d809-4dc8-9dbb-594311c7dff9",
   "metadata": {},
   "outputs": [
    {
     "name": "stdout",
     "output_type": "stream",
     "text": [
      "['col', 'coooooooooool']\n"
     ]
    }
   ],
   "source": [
    "pattern = 'co+l'  # Matches 'col', 'cool', 'coool', but not 'cl'\n",
    "text = 'The cl col cat sat on the coooooooooool mat.'\n",
    "matches = re.findall(pattern, text)\n",
    "print(matches)  # Output: ['col', 'cool', 'coool']\n"
   ]
  },
  {
   "cell_type": "markdown",
   "id": "7f88f50e-40b7-4063-9a1a-8600481b14f4",
   "metadata": {},
   "source": [
    "? (question mark): Matches zero or one occurrence of the preceding character."
   ]
  },
  {
   "cell_type": "code",
   "execution_count": 43,
   "id": "c9b21246-28ee-4510-ab93-f85dc19096fe",
   "metadata": {},
   "outputs": [
    {
     "name": "stdout",
     "output_type": "stream",
     "text": [
      "['color', 'colour']\n"
     ]
    }
   ],
   "source": [
    "pattern = 'colou?r'  # Matches 'color' or 'colour'\n",
    "text = 'The color is blue, but the colour is green.'\n",
    "matches = re.findall(pattern, text)\n",
    "print(matches)  # Output: ['color', 'colour']"
   ]
  },
  {
   "cell_type": "markdown",
   "id": "daa7d001-4438-4fd6-b9d2-d5427915b96a",
   "metadata": {},
   "source": [
    "[ ]: Matches any single character within the brackets."
   ]
  },
  {
   "cell_type": "code",
   "execution_count": 45,
   "id": "43c61b33-7845-4ede-abac-78746e2e203f",
   "metadata": {},
   "outputs": [
    {
     "name": "stdout",
     "output_type": "stream",
     "text": [
      "['gray', 'grmy']\n"
     ]
    }
   ],
   "source": [
    "pattern = 'gr[am]y'  # Matches 'gray' or 'grey'\n",
    "text = 'The sky is gray, but the cat is grey grmy.'\n",
    "matches = re.findall(pattern, text)\n",
    "print(matches)  # Output: ['gray', 'grey']"
   ]
  },
  {
   "cell_type": "markdown",
   "id": "d2a8b905-dc23-4daa-ad2a-bbee04889d80",
   "metadata": {},
   "source": [
    "| (pipe): Acts like a logical OR, matches either the expression before or after it."
   ]
  },
  {
   "cell_type": "code",
   "execution_count": 23,
   "id": "5e14995a-c8ac-4e3a-9338-6cb0d32842f2",
   "metadata": {},
   "outputs": [
    {
     "name": "stdout",
     "output_type": "stream",
     "text": [
      "['cat', 'dog']\n"
     ]
    }
   ],
   "source": [
    "pattern = 'cat|dog'  # Matches 'cat' or 'dog'\n",
    "text = 'I have a cat and a dog.'\n",
    "matches = re.findall(pattern, text)\n",
    "print(matches)  # Output: ['cat', 'dog']"
   ]
  },
  {
   "cell_type": "markdown",
   "id": "2f411ff4-fa7f-48c5-b8b4-c191c799e0b5",
   "metadata": {},
   "source": [
    "## Quantifiers"
   ]
  },
  {
   "cell_type": "markdown",
   "id": "964a8b5d-eca0-4344-a468-d4163b7e816a",
   "metadata": {},
   "source": [
    "'*': Zero or more occurrences.  \r\n",
    "\r\n",
    "Already explained in the dot example.  \r\n",
    "\r\n",
    "'+': One or more occurrences.  \r\n",
    "\r\n",
    "Already explained in the plus example.  \r\n",
    "\r\n",
    "'?': Zero or one occurrence.  \r\n",
    "\r\n",
    "Already explained in the question mark example.  \r\n",
    "\r\n",
    "{n}: Exactly n occurrences.  urrences."
   ]
  },
  {
   "cell_type": "code",
   "execution_count": 24,
   "id": "49ec5c46-4703-44e8-aa50-ce67faf38c6a",
   "metadata": {},
   "outputs": [
    {
     "name": "stdout",
     "output_type": "stream",
     "text": [
      "['cool']\n"
     ]
    }
   ],
   "source": [
    "pattern = r'co{2}l'  # Matches 'cool'\n",
    "text = 'The col cat sat on the cool mat.'\n",
    "matches = re.findall(pattern, text)\n",
    "print(matches)  # Output: ['cool']"
   ]
  },
  {
   "cell_type": "markdown",
   "id": "5ba2df3e-cee1-4ed8-a16b-d0a3c77caf43",
   "metadata": {},
   "source": [
    "{n,}: At least n occurrences."
   ]
  },
  {
   "cell_type": "code",
   "execution_count": 46,
   "id": "9b07dde2-9991-4c6b-91f2-bdff561c625a",
   "metadata": {},
   "outputs": [
    {
     "name": "stdout",
     "output_type": "stream",
     "text": [
      "['coooooooool', 'cool']\n"
     ]
    }
   ],
   "source": [
    "pattern = r'co{2,}l'  # Matches 'cool' and 'coool'\n",
    "text = 'The coooooooool cat sat on the cool mat.'\n",
    "matches = re.findall(pattern, text)\n",
    "print(matches)  # Output: ['cool', 'coool']"
   ]
  },
  {
   "cell_type": "markdown",
   "id": "01e5629b-8be4-47a0-b114-1e53a2e3fd09",
   "metadata": {},
   "source": [
    "{n,m}: Between n and m occurrences."
   ]
  },
  {
   "cell_type": "code",
   "execution_count": 47,
   "id": "972265cb-8759-43d1-860d-a21f58a33323",
   "metadata": {},
   "outputs": [
    {
     "name": "stdout",
     "output_type": "stream",
     "text": [
      "['col', 'cool']\n"
     ]
    }
   ],
   "source": [
    "pattern = 'co{1,2}l'  # Matches 'col' and 'cool'\n",
    "text = 'The col cat sat on the cool mat.'\n",
    "matches = re.findall(pattern, text)\n",
    "print(matches)  # Output: ['col', 'cool']"
   ]
  },
  {
   "cell_type": "markdown",
   "id": "d9e95d95-b768-485e-9503-f6d4664ec205",
   "metadata": {},
   "source": [
    "## Groups and Capturing:"
   ]
  },
  {
   "cell_type": "code",
   "execution_count": 48,
   "id": "30da7a8a-5b4f-4b27-8606-a72a5de570c9",
   "metadata": {},
   "outputs": [
    {
     "name": "stdout",
     "output_type": "stream",
     "text": [
      "('16', '05', '2024')\n",
      "Day: 16, Month: 05, Year: 2024\n"
     ]
    }
   ],
   "source": [
    "pattern = r'(\\d{2})-(\\d{2})-(\\d{4})'  # Matches date in the format DD-MM-YYYY\n",
    "text = 'Today is 16-05-2024.'\n",
    "matches = re.findall(pattern, text)\n",
    "print(match)\n",
    "for match in matches:\n",
    "    print(f\"Day: {match[0]}, Month: {match[1]}, Year: {match[2]}\")\n",
    "# Output: Day: 16, Month: 05, Year: 2024"
   ]
  },
  {
   "cell_type": "code",
   "execution_count": null,
   "id": "a56201c9-0ba0-42ab-b9d5-5b494d75ab31",
   "metadata": {},
   "outputs": [],
   "source": []
  }
 ],
 "metadata": {
  "kernelspec": {
   "display_name": "Python 3 (ipykernel)",
   "language": "python",
   "name": "python3"
  },
  "language_info": {
   "codemirror_mode": {
    "name": "ipython",
    "version": 3
   },
   "file_extension": ".py",
   "mimetype": "text/x-python",
   "name": "python",
   "nbconvert_exporter": "python",
   "pygments_lexer": "ipython3",
   "version": "3.12.2"
  }
 },
 "nbformat": 4,
 "nbformat_minor": 5
}
