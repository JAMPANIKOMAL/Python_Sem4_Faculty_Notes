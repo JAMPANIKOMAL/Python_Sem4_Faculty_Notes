{
 "cells": [
  {
   "cell_type": "markdown",
   "id": "8a4f6a15-f722-469f-be27-3bf740fc9c6e",
   "metadata": {},
   "source": [
    "# Lists\n",
    "- Mutable: Lists are mutable, meaning their elements can be modified after creation. You can add, remove, or modify elements in a list.\r\n",
    "- Syntax: Lists are defined using square brackets [ ].\r\n",
    "- Elements: Lists can contain elements of different data types (integers, strings, floats, other lists, etc.).\r\n",
    "- Operations: Lists support various operations such as append, remove, pop, extend, sort, and reverse, which can be used to manipulate the list.\r\n",
    "- Use Cases: Lists are commonly used when you need a collection of items that can be changed, reordered, or modified dynamically during the program execution. They are useful for storing collections of similar items or heterogeneous data."
   ]
  },
  {
   "cell_type": "code",
   "execution_count": 1,
   "id": "82b15520-6baa-46fd-86cb-8f1be0631b5e",
   "metadata": {},
   "outputs": [
    {
     "name": "stdout",
     "output_type": "stream",
     "text": [
      "['apple', 'banana', 'cherry']\n"
     ]
    }
   ],
   "source": [
    "# Defining a list\n",
    "my_list = ['apple', 'banana', 'cherry']\n",
    "print(my_list)"
   ]
  },
  {
   "cell_type": "code",
   "execution_count": 3,
   "id": "660646d7-be0b-4e34-9adf-1cc726622bbd",
   "metadata": {},
   "outputs": [
    {
     "name": "stdout",
     "output_type": "stream",
     "text": [
      "apple\n",
      "banana\n"
     ]
    }
   ],
   "source": [
    "# Accessing elements in a list\n",
    "print(my_list[0])  # Output: apple\n",
    "print(my_list[1])  # Output: banana"
   ]
  },
  {
   "cell_type": "code",
   "execution_count": 4,
   "id": "138309ad-e9e1-40eb-8c2f-c729e6997723",
   "metadata": {},
   "outputs": [
    {
     "name": "stdout",
     "output_type": "stream",
     "text": [
      "['banana', 'cherry']\n"
     ]
    }
   ],
   "source": [
    "# List slicing\n",
    "print(my_list[1:3])  # Output: ['banana', 'cherry']"
   ]
  },
  {
   "cell_type": "code",
   "execution_count": 5,
   "id": "1b708b74-d3ce-479d-89a7-8da771953b45",
   "metadata": {},
   "outputs": [
    {
     "name": "stdout",
     "output_type": "stream",
     "text": [
      "cherry\n",
      "banana\n"
     ]
    }
   ],
   "source": [
    "# Negative indexing\n",
    "print(my_list[-1])  # Output: cherry\n",
    "print(my_list[-2])  # Output: banana"
   ]
  },
  {
   "cell_type": "code",
   "execution_count": 6,
   "id": "d4715e7d-dfbb-4d3c-b096-a4287a0c5ec9",
   "metadata": {},
   "outputs": [
    {
     "name": "stdout",
     "output_type": "stream",
     "text": [
      "['apple', 'blueberry', 'cherry']\n"
     ]
    }
   ],
   "source": [
    "# Modifying elements in a list\n",
    "my_list[1] = 'blueberry'\n",
    "print(my_list)  # Output: ['apple', 'blueberry', 'cherry']"
   ]
  },
  {
   "cell_type": "code",
   "execution_count": 7,
   "id": "2047c4e2-4dfa-4b8c-b821-9a23e6f957b8",
   "metadata": {},
   "outputs": [
    {
     "name": "stdout",
     "output_type": "stream",
     "text": [
      "List of numbers: [1, 2, 3, 4, 5]\n",
      "List of fruits: ['apple', 'banana', 'orange', 'kiwi']\n",
      "Mixed list: [1, 'apple', True, 3.14]\n"
     ]
    }
   ],
   "source": [
    "# Define a list of integers\n",
    "numbers = [1, 2, 3, 4, 5]\n",
    "print(\"List of numbers:\", numbers)\n",
    "\n",
    "# Define a list of strings\n",
    "fruits = ['apple', 'banana', 'orange', 'kiwi']\n",
    "print(\"List of fruits:\", fruits)\n",
    "\n",
    "# Define a list of mixed types\n",
    "mixed_list = [1, 'apple', True, 3.14]\n",
    "print(\"Mixed list:\", mixed_list)"
   ]
  },
  {
   "cell_type": "code",
   "execution_count": 11,
   "id": "9da9dbe5-dca4-4397-851b-f9166a8c2c29",
   "metadata": {},
   "outputs": [
    {
     "name": "stdout",
     "output_type": "stream",
     "text": [
      "<class 'list'>\n",
      "<class 'list'>\n",
      "<class 'list'>\n"
     ]
    }
   ],
   "source": [
    "print(type(numbers))\n",
    "print(type(fruits))\n",
    "print(type(mixed_list))"
   ]
  },
  {
   "cell_type": "code",
   "execution_count": 12,
   "id": "b7628b67-a577-4f31-b5ed-0958ab095d6d",
   "metadata": {},
   "outputs": [
    {
     "name": "stdout",
     "output_type": "stream",
     "text": [
      "First three elements: [1, 2, 3]\n",
      "Elements from index 2 to 5: [3, 4, 5, 6]\n",
      "Last three elements: [8, 9, 10]\n",
      "Every second element: [1, 3, 5, 7, 9]\n",
      "Reverse the list: [10, 9, 8, 7, 6, 5, 4, 3, 2, 1]\n"
     ]
    }
   ],
   "source": [
    "# Define a list\n",
    "numbers = [1, 2, 3, 4, 5, 6, 7, 8, 9, 10]\n",
    "\n",
    "# Slice the list to get a portion of it\n",
    "print(\"First three elements:\", numbers[:3])  # Output: [1, 2, 3]\n",
    "print(\"Elements from index 2 to 5:\", numbers[2:6])  # Output: [3, 4, 5, 6]\n",
    "print(\"Last three elements:\", numbers[-3:])  # Output: [8, 9, 10]\n",
    "print(\"Every second element:\", numbers[::2])  # Output: [1, 3, 5, 7, 9]\n",
    "print(\"Reverse the list:\", numbers[::-1])  # Output: [10, 9, 8, 7, 6, 5, 4, 3, 2, 1]\n"
   ]
  },
  {
   "cell_type": "code",
   "execution_count": 14,
   "id": "45ea0dcf-21eb-4772-801a-89d258372e16",
   "metadata": {},
   "outputs": [
    {
     "name": "stdout",
     "output_type": "stream",
     "text": [
      "Copy of numbers: [1, 2, 3, 4, 5, 6, 7, 8, 9, 10]\n"
     ]
    }
   ],
   "source": [
    "# Using slicing to copy a list\n",
    "copy_of_numbers = numbers[:]  # Copying the entire list\n",
    "print(\"Copy of numbers:\", copy_of_numbers)"
   ]
  },
  {
   "cell_type": "code",
   "execution_count": 13,
   "id": "ecb11091-ab0c-427d-bb70-6f4898941a0e",
   "metadata": {},
   "outputs": [
    {
     "name": "stdout",
     "output_type": "stream",
     "text": [
      "List of characters: ['a', 'b', 'c', 'd', 'e']\n",
      "Nested list: [[1, 2, 3], [4, 5, 6], [7, 8, 9]]\n",
      "Empty list: []\n"
     ]
    }
   ],
   "source": [
    "# Define a list of characters\n",
    "characters = ['a', 'b', 'c', 'd', 'e']\n",
    "print(\"List of characters:\", characters)\n",
    "\n",
    "# Define a list of lists (nested list)\n",
    "nested_list = [[1, 2, 3], [4, 5, 6], [7, 8, 9]]\n",
    "print(\"Nested list:\", nested_list)\n",
    "\n",
    "# Define an empty list\n",
    "empty_list = []\n",
    "print(\"Empty list:\", empty_list)"
   ]
  },
  {
   "cell_type": "code",
   "execution_count": 15,
   "id": "3159bdb8-3bc3-46b1-ab03-d6dc7b73d638",
   "metadata": {},
   "outputs": [
    {
     "name": "stdout",
     "output_type": "stream",
     "text": [
      "Original list: [10, 20, 30, 40, 50, 60, 70, 80, 90, 100]\n"
     ]
    }
   ],
   "source": [
    "# Define a list of numbers\n",
    "numbers = [10, 20, 30, 40, 50, 60, 70, 80, 90, 100]\n",
    "\n",
    "# Print the original list\n",
    "print(f\"Original list: {numbers}\")"
   ]
  },
  {
   "cell_type": "code",
   "execution_count": 16,
   "id": "a833ebb1-2f8d-4340-be76-1ae2ecc5497c",
   "metadata": {},
   "outputs": [
    {
     "name": "stdout",
     "output_type": "stream",
     "text": [
      "List after reversing: [100, 90, 80, 70, 60, 50, 40, 30, 20, 10]\n",
      "First half of the list: [100, 90, 80, 70, 60]\n",
      "Second half of the list: [50, 40, 30, 20, 10]\n"
     ]
    }
   ],
   "source": [
    "# Reverse the list\n",
    "numbers.reverse()\n",
    "print(f\"List after reversing: {numbers}\")\n",
    "\n",
    "# Slice the list to get the first half and second half\n",
    "first_half = numbers[:len(numbers)//2]\n",
    "second_half = numbers[len(numbers)//2:]\n",
    "print(f\"First half of the list: {first_half}\")\n",
    "print(f\"Second half of the list: {second_half}\")"
   ]
  },
  {
   "cell_type": "code",
   "execution_count": 17,
   "id": "6ac50bfe-a734-4cbd-8f21-76ba234dce8c",
   "metadata": {},
   "outputs": [
    {
     "name": "stdout",
     "output_type": "stream",
     "text": [
      "First half sorted in ascending order: [60, 70, 80, 90, 100]\n",
      "Second half sorted in descending order: [50, 40, 30, 20, 10]\n"
     ]
    }
   ],
   "source": [
    "# Sort the first half in ascending order and the second half in descending order\n",
    "first_half.sort()\n",
    "second_half.sort(reverse=True)\n",
    "print(f\"First half sorted in ascending order: {first_half}\")\n",
    "print(f\"Second half sorted in descending order: {second_half}\")"
   ]
  },
  {
   "cell_type": "code",
   "execution_count": 18,
   "id": "1f2c2e6c-a59e-4bff-9fea-779f1b1b1a03",
   "metadata": {},
   "outputs": [
    {
     "name": "stdout",
     "output_type": "stream",
     "text": [
      "Final list: [60, 70, 80, 90, 100, 50, 40, 30, 20, 10]\n"
     ]
    }
   ],
   "source": [
    "# Merge the two halves and print the final list\n",
    "final_list = first_half + second_half\n",
    "print(f\"Final list: {final_list}\")"
   ]
  },
  {
   "cell_type": "code",
   "execution_count": 1,
   "id": "25044c3d-306d-4e93-8fff-e1a8acfa13a7",
   "metadata": {},
   "outputs": [
    {
     "name": "stdout",
     "output_type": "stream",
     "text": [
      "The whole school:  [['John', 'Emma', 'Sam'], ['Amy', 'Tom', 'Tim'], ['Sara', 'Anna', 'Mia']]\n",
      "Class  1 :  ['John', 'Emma', 'Sam']\n",
      "Class  2 :  ['Amy', 'Tom', 'Tim']\n",
      "Class  3 :  ['Sara', 'Anna', 'Mia']\n",
      "Student  1  in Class  1 :  John\n",
      "Student  2  in Class  1 :  Emma\n",
      "Student  3  in Class  1 :  Sam\n",
      "Student  1  in Class  2 :  Amy\n",
      "Student  2  in Class  2 :  Tom\n",
      "Student  3  in Class  2 :  Tim\n",
      "Student  1  in Class  3 :  Sara\n",
      "Student  2  in Class  3 :  Anna\n",
      "Student  3  in Class  3 :  Mia\n"
     ]
    }
   ],
   "source": [
    "# Creating a nested list\n",
    "school = [[\"John\", \"Emma\", \"Sam\"],  # Class 1\n",
    "          [\"Amy\", \"Tom\", \"Tim\"],   # Class 2\n",
    "          [\"Sara\", \"Anna\", \"Mia\"]] # Class 3\n",
    "\n",
    "# Accessing elements in the nested list\n",
    "print(\"The whole school: \", school)\n",
    "\n",
    "# Accessing each class\n",
    "for i in range(len(school)):\n",
    "    print(\"Class \", i+1, \": \", school[i])\n",
    "\n",
    "# Accessing each student\n",
    "for i in range(len(school)):\n",
    "    for j in range(len(school[i])):\n",
    "        print(\"Student \", j+1, \" in Class \", i+1, \": \", school[i][j])"
   ]
  },
  {
   "cell_type": "code",
   "execution_count": 2,
   "id": "f6ae3310-0e26-4c8b-8f91-c72585cd24c5",
   "metadata": {},
   "outputs": [
    {
     "name": "stdout",
     "output_type": "stream",
     "text": [
      "Sublist 0:\n",
      "  Element 0: 1\n",
      "  Element 1: 2\n",
      "  Element 2: 3\n",
      "Sublist 1:\n",
      "  Element 0: a\n",
      "  Element 1: b\n",
      "  Element 2: c\n",
      "Sublist 2:\n",
      "  Element 0: True\n",
      "  Element 1: False\n",
      "  Element 2: True\n"
     ]
    }
   ],
   "source": [
    "# Define a nested list containing some data\n",
    "nested_list = [\n",
    "    [1, 2, 3],\n",
    "    ['a', 'b', 'c'],\n",
    "    [True, False, True]\n",
    "]\n",
    "# Iterate over each sublist\n",
    "for sublist_index, sublist in enumerate(nested_list):\n",
    "    print(f\"Sublist {sublist_index}:\")\n",
    "    # Iterate over each element in the sublist\n",
    "    for element_index, element in enumerate(sublist):\n",
    "        print(f\"  Element {element_index}: {element}\")\n",
    "# Inside the loops, we use enumerate to get both the index and the element itself for easier understanding and demonstration."
   ]
  },
  {
   "cell_type": "code",
   "execution_count": null,
   "id": "2d86f8b6-de89-4602-9154-60e17877cc4b",
   "metadata": {},
   "outputs": [],
   "source": []
  }
 ],
 "metadata": {
  "kernelspec": {
   "display_name": "Python 3 (ipykernel)",
   "language": "python",
   "name": "python3"
  },
  "language_info": {
   "codemirror_mode": {
    "name": "ipython",
    "version": 3
   },
   "file_extension": ".py",
   "mimetype": "text/x-python",
   "name": "python",
   "nbconvert_exporter": "python",
   "pygments_lexer": "ipython3",
   "version": "3.12.2"
  }
 },
 "nbformat": 4,
 "nbformat_minor": 5
}
