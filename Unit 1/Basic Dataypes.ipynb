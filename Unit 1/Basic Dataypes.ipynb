{
 "cells": [
  {
   "cell_type": "markdown",
   "id": "56f2f4a3-b891-4124-901e-d5e161f04fe5",
   "metadata": {},
   "source": [
    "# Python Data Types: Declaring and using Numeric data types: int, float, complex, Using string data type and string operations."
   ]
  },
  {
   "cell_type": "code",
   "execution_count": 1,
   "id": "79f72e47-52d0-400c-82cf-9555ae5fe50e",
   "metadata": {},
   "outputs": [
    {
     "name": "stdout",
     "output_type": "stream",
     "text": [
      "Sum of 10 and 20 is: 30\n"
     ]
    }
   ],
   "source": [
    "# Program to demonstrate integer data type\n",
    "num1 = 10\n",
    "num2 = 20\n",
    "sum_int = num1 + num2\n",
    "print(\"Sum of\", num1, \"and\", num2, \"is:\", sum_int)\n"
   ]
  },
  {
   "cell_type": "code",
   "execution_count": 2,
   "id": "f46df329-e399-4bc3-9bfa-640943f9802f",
   "metadata": {},
   "outputs": [
    {
     "name": "stdout",
     "output_type": "stream",
     "text": [
      "10\n",
      "<class 'int'>\n"
     ]
    }
   ],
   "source": [
    "# Program 1: Declare and print an integer variable\n",
    "x = 10\n",
    "print(x)\n",
    "print(type(x))\n"
   ]
  },
  {
   "cell_type": "code",
   "execution_count": 3,
   "id": "0511c54b-29db-4349-a521-40aee0b3192a",
   "metadata": {},
   "outputs": [
    {
     "name": "stdout",
     "output_type": "stream",
     "text": [
      "Product of 10.5 and 5.3 is: 55.65\n"
     ]
    }
   ],
   "source": [
    "# Program to demonstrate float data type\n",
    "num1 = 10.5\n",
    "num2 = 5.3\n",
    "product_float = num1 * num2\n",
    "print(\"Product of\", num1, \"and\", num2, \"is:\", product_float)\n"
   ]
  },
  {
   "cell_type": "code",
   "execution_count": 4,
   "id": "2661766f-69c4-4c12-b2da-223cc8edf50a",
   "metadata": {},
   "outputs": [
    {
     "name": "stdout",
     "output_type": "stream",
     "text": [
      "3.14\n",
      "<class 'float'>\n"
     ]
    }
   ],
   "source": [
    "# Program 2: Declare and print a float variable\n",
    "y = 3.14\n",
    "print(y)\n",
    "print(type(y))"
   ]
  },
  {
   "cell_type": "code",
   "execution_count": 4,
   "id": "b2e81429-830b-44d0-838b-41a0a80a3f82",
   "metadata": {},
   "outputs": [
    {
     "name": "stdout",
     "output_type": "stream",
     "text": [
      "a + b = 13\n",
      "a - b = 7\n",
      "a * b = 30\n",
      "a / b = 3.3333333333333335\n",
      "a // b = 3\n",
      "a % b = 1\n",
      "a ** b = 1000\n"
     ]
    }
   ],
   "source": [
    "# Program to demonstrate numeric operations\n",
    "a = 10\n",
    "b = 3\n",
    "print(\"a + b =\", a + b)\n",
    "print(\"a - b =\", a - b)\n",
    "print(\"a * b =\", a * b)\n",
    "print(\"a / b =\", a / b)\n",
    "print(\"a // b =\", a // b)  # Floor division\n",
    "print(\"a % b =\", a % b)    # Modulus\n",
    "print(\"a ** b =\", a ** b)  # Exponentiation"
   ]
  },
  {
   "cell_type": "code",
   "execution_count": 5,
   "id": "a45c1a95-3927-4354-b7c3-950ead187615",
   "metadata": {},
   "outputs": [
    {
     "name": "stdout",
     "output_type": "stream",
     "text": [
      "7.5 2.5 12.5 2.0 55.90169943749474 0.0 2.0\n"
     ]
    }
   ],
   "source": [
    "# Program 4: Perform arithmetic operations on numeric variables\n",
    "a = 5\n",
    "b = 2.5\n",
    "c = a + b # addition\n",
    "d = a - b # subtraction\n",
    "e = a * b # multiplication\n",
    "f = a / b # division\n",
    "g = a ** b # exponentiation\n",
    "h = a % b # modulus\n",
    "i = a // b # floor division\n",
    "print(c, d, e, f, g, h, i)"
   ]
  },
  {
   "cell_type": "code",
   "execution_count": 6,
   "id": "8af9b1d9-ca55-4daf-9d47-6337d096e31d",
   "metadata": {},
   "outputs": [
    {
     "name": "stdout",
     "output_type": "stream",
     "text": [
      "Integer 10 converted to float: 10.0\n",
      "Float 15.7 converted to integer: 15\n"
     ]
    }
   ],
   "source": [
    "# Program to demonstrate conversion between numeric types\n",
    "num_int = 10\n",
    "num_float = float(num_int)\n",
    "print(\"Integer\", num_int, \"converted to float:\", num_float)\n",
    "\n",
    "num_float = 15.7\n",
    "num_int = int(num_float)\n",
    "print(\"Float\", num_float, \"converted to integer:\", num_int)\n"
   ]
  },
  {
   "cell_type": "code",
   "execution_count": 7,
   "id": "5e0c918b-1588-4268-a7c2-51bd460b2f12",
   "metadata": {},
   "outputs": [
    {
     "name": "stdout",
     "output_type": "stream",
     "text": [
      "(2+5j)\n",
      "<class 'complex'>\n"
     ]
    }
   ],
   "source": [
    "# Program 3: Declare and print a complex variable\n",
    "z = 2 + 5j\n",
    "print(z)\n",
    "print(type(z))"
   ]
  },
  {
   "cell_type": "code",
   "execution_count": 8,
   "id": "10c324c1-759f-4ff9-8bb1-f57003daf976",
   "metadata": {},
   "outputs": [
    {
     "name": "stdout",
     "output_type": "stream",
     "text": [
      "3 4.0 (5+6j) (7.8+9.1j) 5 9.1\n"
     ]
    }
   ],
   "source": [
    "# Program 5: Convert between numeric data types\n",
    "j = int(3.5) # convert float to int\n",
    "k = float(4) # convert int to float\n",
    "l = complex(5, 6) # convert int to complex\n",
    "m = complex(7.8, 9.1) # convert float to complex\n",
    "n = int(l.real) # get the real part of complex as int\n",
    "o = float(m.imag) # get the imaginary part of complex as float\n",
    "print(j, k, l, m, n, o)"
   ]
  },
  {
   "cell_type": "code",
   "execution_count": 9,
   "id": "1c03b552-2613-48ed-aedc-e3f62195eed0",
   "metadata": {},
   "outputs": [
    {
     "name": "stdout",
     "output_type": "stream",
     "text": [
      "Hello, world!\n",
      "<class 'str'>\n"
     ]
    }
   ],
   "source": [
    "# Program 1: Declare and print a string variable\n",
    "s = \"Hello, world!\"\n",
    "print(s)\n",
    "print(type(s))"
   ]
  },
  {
   "cell_type": "code",
   "execution_count": 10,
   "id": "96891977-33f2-47e5-ad1d-a4b0ab55ce81",
   "metadata": {},
   "outputs": [
    {
     "name": "stdout",
     "output_type": "stream",
     "text": [
      "P\n",
      "n\n",
      "thon\n",
      "Pyth\n",
      "is fun\n"
     ]
    }
   ],
   "source": [
    "# Program 2: Access and slice a string\n",
    "t = \"Python is fun\"\n",
    "print(t[0]) # get the first character\n",
    "print(t[-1]) # get the last character\n",
    "print(t[2:6]) # get a substring from index 2 to 5\n",
    "print(t[:4]) # get a substring from the beginning to index 3\n",
    "print(t[7:]) # get a substring from index 7 to the end"
   ]
  },
  {
   "cell_type": "code",
   "execution_count": 12,
   "id": "3a76d5e3-714a-42d5-852e-fff01e15ec2b",
   "metadata": {},
   "outputs": [
    {
     "name": "stdout",
     "output_type": "stream",
     "text": [
      "13\n"
     ]
    }
   ],
   "source": [
    "print(len(t))"
   ]
  },
  {
   "cell_type": "code",
   "execution_count": 16,
   "id": "5be9b938-cb5f-4a92-b09d-6cc75724aaf3",
   "metadata": {},
   "outputs": [
    {
     "name": "stdout",
     "output_type": "stream",
     "text": [
      "Hello World\n"
     ]
    }
   ],
   "source": [
    "# Program to demonstrate string concatenation\n",
    "str1 = \"Hello\"\n",
    "str2 = \"World\"\n",
    "concatenated_str = str1 +\" \"+ str2\n",
    "print(concatenated_str)\n"
   ]
  },
  {
   "cell_type": "code",
   "execution_count": 17,
   "id": "4d495e8c-e616-443a-a4d0-4ffce348cf98",
   "metadata": {},
   "outputs": [
    {
     "name": "stdout",
     "output_type": "stream",
     "text": [
      "Hello Python\n",
      "HiHiHi\n"
     ]
    }
   ],
   "source": [
    "# Program 3: Concatenate and repeat strings\n",
    "u = \"Hello\" + \" \" + \"Python\" # concatenate strings with +\n",
    "v = \"Hi\" * 3 # repeat a string with *\n",
    "print(u)\n",
    "print(v)"
   ]
  },
  {
   "cell_type": "code",
   "execution_count": 18,
   "id": "a7e8d67c-1f94-4223-b14f-5e0a73f7265b",
   "metadata": {},
   "outputs": [
    {
     "name": "stdout",
     "output_type": "stream",
     "text": [
      "Length of the string is: 13\n"
     ]
    }
   ],
   "source": [
    "# Program to demonstrate finding string length\n",
    "str1 = \"Hello, World!\"\n",
    "print(\"Length of the string is:\", len(str1))\n"
   ]
  },
  {
   "cell_type": "code",
   "execution_count": 15,
   "id": "ae7aa651-6292-4059-8d02-86e59a0d34a9",
   "metadata": {},
   "outputs": [
    {
     "name": "stdout",
     "output_type": "stream",
     "text": [
      "First character: P\n",
      "Last character: n\n"
     ]
    }
   ],
   "source": [
    "# Program to demonstrate string indexing\n",
    "str1 = \"Python\"\n",
    "print(\"First character:\", str1[0])\n",
    "print(\"Last character:\", str1[-1])\n"
   ]
  },
  {
   "cell_type": "code",
   "execution_count": 20,
   "id": "f2d3d8cc-81df-4e3c-89e3-1455512d6c64",
   "metadata": {},
   "outputs": [
    {
     "name": "stdout",
     "output_type": "stream",
     "text": [
      "First five characters: tnrrm\n",
      "Last five characters: mming\n"
     ]
    }
   ],
   "source": [
    "# Program to demonstrate string slicing\n",
    "str1 = \"Python Porgramming\"\n",
    "print(\"First five characters:\", str1[2:15:3])\n",
    "print(\"Last five characters:\", str1[-5:])\n"
   ]
  },
  {
   "cell_type": "code",
   "execution_count": 22,
   "id": "b25617bd-18d3-4b66-93ae-e037918ac961",
   "metadata": {},
   "outputs": [
    {
     "name": "stdout",
     "output_type": "stream",
     "text": [
      "My name is Alice, I'm 30 years old, and my height is 5.611 feet.\n"
     ]
    }
   ],
   "source": [
    "# Program to demonstrate string formatting\n",
    "name = \"Alice\"\n",
    "age = 30\n",
    "height = 5.611\n",
    "formatted_str = \"My name is {}, I'm {} years old, and my height is {:.3f} feet.\".format(name, age, height)\n",
    "print(formatted_str)\n"
   ]
  },
  {
   "cell_type": "code",
   "execution_count": 18,
   "id": "b6c1d74c-22dc-4867-b94f-be0f0aa1cd91",
   "metadata": {},
   "outputs": [
    {
     "name": "stdout",
     "output_type": "stream",
     "text": [
      "THIS IS A STRING\n",
      "this is a string\n",
      "This is another string\n",
      "['This', 'is', 'a', 'string']\n",
      "True\n",
      "True\n",
      "2\n",
      "2\n",
      "16\n",
      "False\n",
      "False\n",
      "False\n"
     ]
    }
   ],
   "source": [
    "# Program 4: Use string methods and properties\n",
    "w = \"This is a string\"\n",
    "print(w.upper()) # convert to uppercase\n",
    "print(w.lower()) # convert to lowercase\n",
    "print(w.replace(\"a\", \"another\")) # replace a substring with another\n",
    "print(w.split()) # split a string into a list of words\n",
    "print(w.startswith(\"This\")) # check if a string starts with a substring\n",
    "print(w.endswith(\"string\")) # check if a string ends with a substring\n",
    "print(w.find(\"is\")) # find the index of the first occurrence of a substring\n",
    "print(w.count(\"is\")) # count the number of occurrences of a substring\n",
    "print(len(w)) # get the length of a string\n",
    "print(w.isalpha()) # check if a string contains only alphabetic characters\n",
    "print(w.isdigit()) # check if a string contains only numeric characters\n",
    "print(w.isspace()) # check if a string contains only whitespace characters"
   ]
  },
  {
   "cell_type": "code",
   "execution_count": 19,
   "id": "842f204f-d6f6-4097-b37e-bf6effdd7d44",
   "metadata": {},
   "outputs": [
    {
     "name": "stdout",
     "output_type": "stream",
     "text": [
      "x is 10, y is 3.14, and z is Python\n",
      "x is 10, y is 3.14, and z is Python\n",
      "x is 10, y is 3.14, and z is Python\n",
      "x is 10, y is 3.14, and z is Python\n"
     ]
    }
   ],
   "source": [
    "# Program 5: Format a string with placeholders\n",
    "x = 10\n",
    "y = 3.14\n",
    "z = \"Python\"\n",
    "print(\"x is {}, y is {}, and z is {}\".format(x, y, z)) # use {} as placeholders\n",
    "print(\"x is {0}, y is {1}, and z is {2}\".format(x, y, z)) # use {n} as placeholders with index\n",
    "print(\"x is {a}, y is {b}, and z is {c}\".format(a=x, b=y, c=z)) # use {name} as placeholders with keyword arguments\n",
    "print(f\"x is {x}, y is {y}, and z is {z}\") # use f-strings with expressions inside {}"
   ]
  }
 ],
 "metadata": {
  "kernelspec": {
   "display_name": "Python 3 (ipykernel)",
   "language": "python",
   "name": "python3"
  },
  "language_info": {
   "codemirror_mode": {
    "name": "ipython",
    "version": 3
   },
   "file_extension": ".py",
   "mimetype": "text/x-python",
   "name": "python",
   "nbconvert_exporter": "python",
   "pygments_lexer": "ipython3",
   "version": "3.12.2"
  }
 },
 "nbformat": 4,
 "nbformat_minor": 5
}
