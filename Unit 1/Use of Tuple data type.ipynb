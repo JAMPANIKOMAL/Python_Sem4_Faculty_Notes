{
 "cells": [
  {
   "cell_type": "markdown",
   "id": "cc5bf0bd-dd48-4931-b21c-19d3d42f1c1a",
   "metadata": {},
   "source": [
    "# Tuples\r\n",
    "- **Immutable**: Tuples are immutable, meaning once created, their elements cannot be modified or changed. You cannot add, remove, or modify elements in a tuple.\r\n",
    "- **Syntax**: Tuples are defined using parentheses ( ).\r\n",
    "- **Element**: Tuples can contain elements of different data types (integers, strings, floats, other tuples, etc).\r\n",
    "- **Operations**: Tuples support limited operations compared to lists, mainly indexing, and slicing.\r\n",
    "- **UseCaes**: Tuples are often used when you need an immutable collection of items. They are suitable for situations where you want to ensure that the data remains unchanged, such as representing fixed collections like coordinates, database records, or configurations.ions.ns."
   ]
  },
  {
   "cell_type": "code",
   "execution_count": 15,
   "id": "16bd5fe9-da24-4f22-a741-7e0c36bd72c7",
   "metadata": {},
   "outputs": [
    {
     "name": "stdout",
     "output_type": "stream",
     "text": [
      "('apple', 'banana', 'cherry')\n"
     ]
    }
   ],
   "source": [
    "# Defining a tuple\n",
    "my_tuple = ('apple', 'banana', 'cherry')\n",
    "print(my_tuple)"
   ]
  },
  {
   "cell_type": "code",
   "execution_count": 2,
   "id": "bc3967fc-1580-44d5-8c20-ae21eee77d86",
   "metadata": {},
   "outputs": [
    {
     "name": "stdout",
     "output_type": "stream",
     "text": [
      "apple\n",
      "banana\n"
     ]
    }
   ],
   "source": [
    "# Accessing elements in a tuple\n",
    "print(my_tuple[0])  # Output: apple\n",
    "print(my_tuple[1])  # Output: banana"
   ]
  },
  {
   "cell_type": "code",
   "execution_count": 3,
   "id": "b02e06cb-6aaa-4318-a634-60d2938a031a",
   "metadata": {},
   "outputs": [
    {
     "name": "stdout",
     "output_type": "stream",
     "text": [
      "('banana', 'cherry')\n"
     ]
    }
   ],
   "source": [
    "# Tuple slicing\n",
    "print(my_tuple[1:3])  # Output: ('banana', 'cherry')"
   ]
  },
  {
   "cell_type": "code",
   "execution_count": 4,
   "id": "97cc189e-c0ea-4608-8247-41eb2222b6b5",
   "metadata": {},
   "outputs": [
    {
     "name": "stdout",
     "output_type": "stream",
     "text": [
      "cherry\n",
      "banana\n"
     ]
    }
   ],
   "source": [
    "# Negative indexing\n",
    "print(my_tuple[-1])  # Output: cherry\n",
    "print(my_tuple[-2])  # Output: banana\n"
   ]
  },
  {
   "cell_type": "code",
   "execution_count": 6,
   "id": "4b1f4152-76d7-42ef-8998-26a28a706345",
   "metadata": {},
   "outputs": [
    {
     "ename": "TypeError",
     "evalue": "'tuple' object does not support item assignment",
     "output_type": "error",
     "traceback": [
      "\u001b[1;31m---------------------------------------------------------------------------\u001b[0m",
      "\u001b[1;31mTypeError\u001b[0m                                 Traceback (most recent call last)",
      "Cell \u001b[1;32mIn[6], line 2\u001b[0m\n\u001b[0;32m      1\u001b[0m \u001b[38;5;66;03m# Trying to modify elements in a tuple\u001b[39;00m\n\u001b[1;32m----> 2\u001b[0m \u001b[43mmy_tuple\u001b[49m\u001b[43m[\u001b[49m\u001b[38;5;241;43m1\u001b[39;49m\u001b[43m]\u001b[49m \u001b[38;5;241m=\u001b[39m \u001b[38;5;124m'\u001b[39m\u001b[38;5;124mblueberry\u001b[39m\u001b[38;5;124m'\u001b[39m  \u001b[38;5;66;03m# This will raise a TypeError\u001b[39;00m\n",
      "\u001b[1;31mTypeError\u001b[0m: 'tuple' object does not support item assignment"
     ]
    }
   ],
   "source": [
    "# Trying to modify elements in a tuple\n",
    "my_tuple[1] = 'blueberry'  # This will raise a TypeError"
   ]
  },
  {
   "cell_type": "code",
   "execution_count": 8,
   "id": "0523c3de-ed18-4af6-8d39-d3ebcfc1b1fb",
   "metadata": {},
   "outputs": [
    {
     "name": "stdout",
     "output_type": "stream",
     "text": [
      "Tuple of integers: (1, 2, 3, 4, 5)\n",
      "Tuple of strings: ('apple', 'banana', 'orange', 'kiwi')\n",
      "Mixed tuple: (1, 'apple', True, 3.14)\n"
     ]
    }
   ],
   "source": [
    "# Define a tuple of integers\n",
    "tuple_of_integers = (1, 2, 3, 4, 5)\n",
    "print(\"Tuple of integers:\", tuple_of_integers)\n",
    "\n",
    "# Define a tuple of strings\n",
    "tuple_of_strings = ('apple', 'banana', 'orange', 'kiwi')\n",
    "print(\"Tuple of strings:\", tuple_of_strings)\n",
    "\n",
    "# Define a tuple of mixed types\n",
    "mixed_tuple = (1, 'apple', True, 3.14)\n",
    "print(\"Mixed tuple:\", mixed_tuple)\n"
   ]
  },
  {
   "cell_type": "code",
   "execution_count": 9,
   "id": "772fa3b9-9086-4e09-9828-d24d8d9d2250",
   "metadata": {},
   "outputs": [
    {
     "name": "stdout",
     "output_type": "stream",
     "text": [
      "First three elements: (1, 2, 3)\n",
      "Elements from index 2 to 5: (3, 4, 5, 6)\n",
      "Last three elements: (8, 9, 10)\n",
      "Every second element: (1, 3, 5, 7, 9)\n",
      "Reverse the tuple: (10, 9, 8, 7, 6, 5, 4, 3, 2, 1)\n"
     ]
    }
   ],
   "source": [
    "# Define a tuple\n",
    "tuple_of_numbers = (1, 2, 3, 4, 5, 6, 7, 8, 9, 10)\n",
    "\n",
    "# Slice the tuple to get a portion of it\n",
    "print(\"First three elements:\", tuple_of_numbers[:3])  # Output: (1, 2, 3)\n",
    "print(\"Elements from index 2 to 5:\", tuple_of_numbers[2:6])  # Output: (3, 4, 5, 6)\n",
    "print(\"Last three elements:\", tuple_of_numbers[-3:])  # Output: (8, 9, 10)\n",
    "print(\"Every second element:\", tuple_of_numbers[::2])  # Output: (1, 3, 5, 7, 9)\n",
    "print(\"Reverse the tuple:\", tuple_of_numbers[::-1])  # Output: (10, 9, 8, 7, 6, 5, 4, 3, 2, 1)\n"
   ]
  },
  {
   "cell_type": "code",
   "execution_count": 10,
   "id": "10395e6a-82ae-4baa-a72d-29b690822442",
   "metadata": {},
   "outputs": [
    {
     "name": "stdout",
     "output_type": "stream",
     "text": [
      "Original tuple: (10, 20, 30, 40, 50, 60, 70, 80, 90, 100)\n"
     ]
    }
   ],
   "source": [
    "# Define a tuple of numbers\n",
    "numbers = (10, 20, 30, 40, 50, 60, 70, 80, 90, 100)\n",
    "\n",
    "# Print the original tuple\n",
    "print(f\"Original tuple: {numbers}\")"
   ]
  },
  {
   "cell_type": "code",
   "execution_count": 11,
   "id": "38c6b051-bbe3-4356-ab5a-1b7964849854",
   "metadata": {},
   "outputs": [
    {
     "name": "stdout",
     "output_type": "stream",
     "text": [
      "Tuple after reversing: (100, 90, 80, 70, 60, 50, 40, 30, 20, 10)\n",
      "First half of the tuple: (100, 90, 80, 70, 60)\n",
      "Second half of the tuple: (50, 40, 30, 20, 10)\n"
     ]
    }
   ],
   "source": [
    "\n",
    "# Reverse the tuple\n",
    "reversed_tuple = numbers[::-1]\n",
    "print(f\"Tuple after reversing: {reversed_tuple}\")\n",
    "\n",
    "# Slice the tuple to get the first half and second half\n",
    "first_half = reversed_tuple[:len(reversed_tuple)//2]\n",
    "second_half = reversed_tuple[len(reversed_tuple)//2:]\n",
    "print(f\"First half of the tuple: {first_half}\")\n",
    "print(f\"Second half of the tuple: {second_half}\")"
   ]
  },
  {
   "cell_type": "code",
   "execution_count": 12,
   "id": "95c84df1-3c11-4cf7-9e01-0ad39feedaaa",
   "metadata": {},
   "outputs": [
    {
     "name": "stdout",
     "output_type": "stream",
     "text": [
      "First half sorted in ascending order: (60, 70, 80, 90, 100)\n",
      "Second half sorted in descending order: (50, 40, 30, 20, 10)\n"
     ]
    }
   ],
   "source": [
    "\n",
    "# Sort the first half in ascending order and the second half in descending order\n",
    "# Since tuples are immutable, we need to convert them to lists before sorting\n",
    "first_half = list(first_half)\n",
    "second_half = list(second_half)\n",
    "first_half.sort()\n",
    "second_half.sort(reverse=True)\n",
    "print(f\"First half sorted in ascending order: {tuple(first_half)}\")\n",
    "print(f\"Second half sorted in descending order: {tuple(second_half)}\")"
   ]
  },
  {
   "cell_type": "code",
   "execution_count": 13,
   "id": "c7b62e41-f8d7-4470-a470-b74185b50515",
   "metadata": {},
   "outputs": [
    {
     "name": "stdout",
     "output_type": "stream",
     "text": [
      "Final tuple: (60, 70, 80, 90, 100, 50, 40, 30, 20, 10)\n"
     ]
    }
   ],
   "source": [
    "# Merge the two halves and print the final tuple\n",
    "# We need to convert them back to tuples after sorting\n",
    "final_tuple = tuple(first_half + second_half)\n",
    "print(f\"Final tuple: {final_tuple}\")"
   ]
  },
  {
   "cell_type": "code",
   "execution_count": null,
   "id": "5f25c2c5-31d9-477b-9f28-6e0eabdff515",
   "metadata": {},
   "outputs": [],
   "source": []
  }
 ],
 "metadata": {
  "kernelspec": {
   "display_name": "Python 3 (ipykernel)",
   "language": "python",
   "name": "python3"
  },
  "language_info": {
   "codemirror_mode": {
    "name": "ipython",
    "version": 3
   },
   "file_extension": ".py",
   "mimetype": "text/x-python",
   "name": "python",
   "nbconvert_exporter": "python",
   "pygments_lexer": "ipython3",
   "version": "3.12.2"
  }
 },
 "nbformat": 4,
 "nbformat_minor": 5
}
