{
 "cells": [
  {
   "cell_type": "markdown",
   "id": "7dc889bf-53a7-425b-a8f6-96417a248717",
   "metadata": {},
   "source": [
    "# Set\r\n",
    "- **Unordered Collection**: Sets in Python are an unordered collection of unique elements. They are used to store multiple items in a single variable.\r\n",
    "- **Mutable**: Sets are mutable, meaning you can add and remove items from them. However, the elements in a set must be immutable.\r\n",
    "- **No Duplicates**: Sets cannot have duplicate values. Duplicate values will be ignored.\r\n",
    "- **Not Indexed**: Sets are not indexed, meaning the items have no defined order, and we cannot refer to them by index number.\r\n",
    "- **Supports Mathematical Operations**: Sets support mathematical operations like union, intersection, difference, and symmetric difference.ence."
   ]
  },
  {
   "cell_type": "code",
   "execution_count": 7,
   "id": "8c456e9f-a47f-4caa-8823-89fd9a4ebe72",
   "metadata": {},
   "outputs": [
    {
     "name": "stdout",
     "output_type": "stream",
     "text": [
      "Set created using curly braces: {50, 20, 40, 10, 30}\n",
      "Set created using set() constructor: {5, 6, 7, 8, 9}\n"
     ]
    }
   ],
   "source": [
    "# Creating a set using curly braces\n",
    "my_set = {10, 20, 30, 40, 50}\n",
    "print(\"Set created using curly braces:\", my_set)\n",
    "\n",
    "# Creating a set using the set() constructor\n",
    "another_set = set([5, 6, 7, 8, 9])\n",
    "print(\"Set created using set() constructor:\", another_set)\n"
   ]
  },
  {
   "cell_type": "code",
   "execution_count": 8,
   "id": "25d875d0-256e-4a42-8711-4f6c1fd72b2b",
   "metadata": {},
   "outputs": [
    {
     "name": "stdout",
     "output_type": "stream",
     "text": [
      "After adding element 6: {50, 20, 6, 40, 10, 30}\n",
      "After removing element 3: {50, 20, 6, 40, 10}\n"
     ]
    }
   ],
   "source": [
    "# Adding elements to a set\n",
    "my_set.add(6)\n",
    "print(\"After adding element 6:\", my_set)\n",
    "\n",
    "# Removing elements from a set\n",
    "my_set.remove(30)\n",
    "print(\"After removing element 3:\", my_set)"
   ]
  },
  {
   "cell_type": "code",
   "execution_count": 9,
   "id": "859870ee-dfcc-4a97-a0e9-a665cfbd0805",
   "metadata": {},
   "outputs": [
    {
     "name": "stdout",
     "output_type": "stream",
     "text": [
      "{'cherry', 'apple', 'banana'}\n"
     ]
    }
   ],
   "source": [
    "# Creating a set\n",
    "fruits = {\"apple\", \"banana\", \"cherry\"}\n",
    "print(fruits)  # Output: {'apple', 'banana', 'cherry'}"
   ]
  },
  {
   "cell_type": "code",
   "execution_count": 10,
   "id": "3716bb75-eecf-49e6-bc29-9afc573c6ddd",
   "metadata": {},
   "outputs": [
    {
     "name": "stdout",
     "output_type": "stream",
     "text": [
      "{'orange', 'cherry', 'apple', 'banana'}\n",
      "{'orange', 'cherry', 'apple'}\n"
     ]
    }
   ],
   "source": [
    "# Adding an element to the set\n",
    "fruits.add(\"orange\")\n",
    "print(fruits)  # Output: {'orange', 'apple', 'banana', 'cherry'}\n",
    "\n",
    "# Removing an element from the set\n",
    "fruits.remove(\"banana\")\n",
    "print(fruits)  # Output: {'orange', 'apple', 'cherry'}"
   ]
  },
  {
   "cell_type": "code",
   "execution_count": 12,
   "id": "51272753-a1db-4547-a29b-26b135ac0ed9",
   "metadata": {},
   "outputs": [
    {
     "name": "stdout",
     "output_type": "stream",
     "text": [
      "Is 2 present in my_set? False\n",
      "Is 7 present in my_set? False\n",
      "Length of my_set: 5\n"
     ]
    }
   ],
   "source": [
    "# Checking membership in a set\n",
    "print(\"Is 2 present in my_set?\", 2 in my_set)\n",
    "print(\"Is 7 present in my_set?\", 7 in my_set)\n",
    "\n",
    "# Length of a set\n",
    "print(\"Length of my_set:\", len(my_set))"
   ]
  },
  {
   "cell_type": "code",
   "execution_count": 13,
   "id": "d24b274e-acda-4403-b24d-36962d8d6ecb",
   "metadata": {},
   "outputs": [
    {
     "name": "stdout",
     "output_type": "stream",
     "text": [
      "True\n",
      "False\n"
     ]
    }
   ],
   "source": [
    "# Checking if an element is in the set\n",
    "print(\"apple\" in fruits)  # Output: True\n",
    "print(\"banana\" in fruits)  # Output: False"
   ]
  },
  {
   "cell_type": "code",
   "execution_count": 14,
   "id": "cf2f6a1a-83df-4a92-90e0-945c5da606ed",
   "metadata": {},
   "outputs": [
    {
     "name": "stdout",
     "output_type": "stream",
     "text": [
      "Iterating over my_set:\n",
      "50\n",
      "20\n",
      "6\n",
      "40\n",
      "10\n"
     ]
    }
   ],
   "source": [
    "# Iterating over a set\n",
    "print(\"Iterating over my_set:\")\n",
    "for element in my_set:\n",
    "    print(element)"
   ]
  },
  {
   "cell_type": "markdown",
   "id": "65e7a5b4-2c25-4ae7-9e14-3e5212279a25",
   "metadata": {},
   "source": [
    "### Frozenset\n",
    "A frozenset is an immutable version of a set. Once a frozenset is created, you cannot add or remove elements from it."
   ]
  },
  {
   "cell_type": "code",
   "execution_count": 15,
   "id": "dbd8936f-1f48-48ff-9c79-3a72c555f4cb",
   "metadata": {},
   "outputs": [
    {
     "name": "stdout",
     "output_type": "stream",
     "text": [
      "Frozen set: frozenset({1, 2, 3, 4, 5})\n"
     ]
    }
   ],
   "source": [
    "# Creating a frozenset\n",
    "frozen_set = frozenset([1, 2, 3, 4, 5])\n",
    "print(\"Frozen set:\", frozen_set)"
   ]
  },
  {
   "cell_type": "code",
   "execution_count": 16,
   "id": "50fcec4c-5fe6-4ade-bf0b-55ebea1c6139",
   "metadata": {},
   "outputs": [
    {
     "name": "stdout",
     "output_type": "stream",
     "text": [
      "{'cherry', 'orange', 'lemon', 'lime', 'apple', 'banana'}\n",
      "set()\n",
      "{'cherry', 'apple', 'banana'}\n",
      "{'cherry', 'orange', 'lemon', 'banana', 'lime', 'apple'}\n"
     ]
    }
   ],
   "source": [
    "# Creating two sets\n",
    "fruits = {\"apple\", \"banana\", \"cherry\"}\n",
    "citrus = {\"orange\", \"lemon\", \"lime\"}\n",
    "\n",
    "# Union of two sets\n",
    "print(fruits.union(citrus))  # Output: {'orange', 'apple', 'cherry', 'banana', 'lime', 'lemon'}\n",
    "\n",
    "# Intersection of two sets\n",
    "print(fruits.intersection(citrus))  # Output: set()\n",
    "\n",
    "# Difference of two sets\n",
    "print(fruits.difference(citrus))  # Output: {'apple', 'cherry', 'banana'}\n",
    "\n",
    "# Symmetric difference of two sets\n",
    "print(fruits.symmetric_difference(citrus))  # Output: {'orange', 'apple', 'cherry', 'banana', 'lime', 'lemon'}"
   ]
  },
  {
   "cell_type": "code",
   "execution_count": 17,
   "id": "e7700336-7ec0-40bc-ab4c-aa4adf85b762",
   "metadata": {},
   "outputs": [
    {
     "name": "stdout",
     "output_type": "stream",
     "text": [
      "Union of set1 and set2: {1, 2, 3, 4, 5}\n"
     ]
    }
   ],
   "source": [
    "set1 = {1, 2, 3}\n",
    "set2 = {3, 4, 5}\n",
    "union_set = set1.union(set2)\n",
    "print(\"Union of set1 and set2:\", union_set)"
   ]
  },
  {
   "cell_type": "code",
   "execution_count": 18,
   "id": "32bb852a-4801-4a17-9bd6-4757313a044d",
   "metadata": {},
   "outputs": [
    {
     "name": "stdout",
     "output_type": "stream",
     "text": [
      "Intersection of set1 and set2: {3}\n"
     ]
    }
   ],
   "source": [
    "intersection_set = set1.intersection(set2)\n",
    "print(\"Intersection of set1 and set2:\", intersection_set)"
   ]
  },
  {
   "cell_type": "markdown",
   "id": "3062c423-c42d-4605-bc52-78d03369c86c",
   "metadata": {},
   "source": [
    "### Difference\r\n",
    "The difference between two sets A and B (denoted as A - B) is a set containing elements that are only in A but not in B."
   ]
  },
  {
   "cell_type": "code",
   "execution_count": 19,
   "id": "840b72ac-3a9d-4b1b-8df5-c03a6e15dc53",
   "metadata": {},
   "outputs": [
    {
     "name": "stdout",
     "output_type": "stream",
     "text": [
      "Difference of set1 and set2: {1, 2}\n"
     ]
    }
   ],
   "source": [
    "difference_set = set1.difference(set2)\n",
    "print(\"Difference of set1 and set2:\", difference_set)"
   ]
  },
  {
   "cell_type": "markdown",
   "id": "f9094ff2-e3f3-4679-a84d-c228e03e8383",
   "metadata": {},
   "source": [
    "### Symmetric Difference\r\n",
    "The symmetric difference between two sets A and B is a set containing elements that are in either of the sets but not in their intersection."
   ]
  },
  {
   "cell_type": "code",
   "execution_count": 20,
   "id": "ec858e6a-f063-4498-a3bb-8d3eaac6452e",
   "metadata": {},
   "outputs": [
    {
     "name": "stdout",
     "output_type": "stream",
     "text": [
      "Symmetric difference of set1 and set2: {1, 2, 4, 5}\n"
     ]
    }
   ],
   "source": [
    "symmetric_difference_set = set1.symmetric_difference(set2)\n",
    "print(\"Symmetric difference of set1 and set2:\", symmetric_difference_set)"
   ]
  },
  {
   "cell_type": "code",
   "execution_count": 21,
   "id": "ae8f73be-4fe6-48c9-a18d-18274816ea6e",
   "metadata": {},
   "outputs": [
    {
     "name": "stdout",
     "output_type": "stream",
     "text": [
      "Is set1 a subset of set2? False\n"
     ]
    }
   ],
   "source": [
    "subset_check = set1.issubset(set2)\n",
    "print(\"Is set1 a subset of set2?\", subset_check)"
   ]
  },
  {
   "cell_type": "code",
   "execution_count": 22,
   "id": "f0e0c6df-d514-4d6c-90e3-b4c781ff9b4a",
   "metadata": {},
   "outputs": [
    {
     "name": "stdout",
     "output_type": "stream",
     "text": [
      "Is set1 a superset of set2? False\n"
     ]
    }
   ],
   "source": [
    "superset_check = set1.issuperset(set2)\n",
    "print(\"Is set1 a superset of set2?\", superset_check)"
   ]
  },
  {
   "cell_type": "markdown",
   "id": "ff2b13be-f2d6-4207-999c-aa5c31f3aedd",
   "metadata": {},
   "source": [
    "### Disjoint\r\n",
    "Two sets are disjoint if they have no common elements."
   ]
  },
  {
   "cell_type": "code",
   "execution_count": 23,
   "id": "03c4c81c-051c-43a4-835b-72d5a372ea0c",
   "metadata": {},
   "outputs": [
    {
     "name": "stdout",
     "output_type": "stream",
     "text": [
      "Are set1 and set2 disjoint? False\n"
     ]
    }
   ],
   "source": [
    "disjoint_check = set1.isdisjoint(set2)\n",
    "print(\"Are set1 and set2 disjoint?\", disjoint_check)\n"
   ]
  }
 ],
 "metadata": {
  "kernelspec": {
   "display_name": "Python 3 (ipykernel)",
   "language": "python",
   "name": "python3"
  },
  "language_info": {
   "codemirror_mode": {
    "name": "ipython",
    "version": 3
   },
   "file_extension": ".py",
   "mimetype": "text/x-python",
   "name": "python",
   "nbconvert_exporter": "python",
   "pygments_lexer": "ipython3",
   "version": "3.12.2"
  }
 },
 "nbformat": 4,
 "nbformat_minor": 5
}
