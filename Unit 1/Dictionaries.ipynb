{
 "cells": [
  {
   "cell_type": "markdown",
   "id": "03acc9fd-9517-4bc3-b81e-2f3f20ebd744",
   "metadata": {},
   "source": [
    "# Dictionaries \r\n",
    "- **Unordered Collection**: Dictionaries in Python are an unordered collection of data values that are used to store data values like a map.\r\n",
    "- **Key-Value Pairs**: Unlike other Data Types that hold only a single value as an element, dictionaries hold key:value pair.\r\n",
    "- **Keys are Unique**: In a dictionary, the keys must be unique. If you try to use a duplicate key, the old value for that key is replaced by the new one.\r\n",
    "- **Keys are Immutable**: The keys of a dictionary are immutable, meaning they cannot be changed. They must be of a type that is hashable, such as strings, numbers, or tuples.\r\n",
    "- **Values are Mutable**: The values in a dictionary can be of any type and they are mutable, meaning they can be changed.\r\n",
    "- **Dynamic Size**: Dictionaries are dynamic in size, meaning they can grow and shrink as needed.\r\n",
    "- **Accessing Values**: You can access the value of a dictionary by referring to its key inside square brackets.\r\n",
    "- **Built-in Methods**: Python provides a range of methods to manipulate dictionaries, including methods to add a new key-value pair, to delete a key-value pair, to get the list of keys, values or items (key-value pairs), etc."
   ]
  },
  {
   "cell_type": "code",
   "execution_count": 1,
   "id": "5272dc92-1ef4-4e9b-8d1b-3d44b6851dde",
   "metadata": {},
   "outputs": [
    {
     "name": "stdout",
     "output_type": "stream",
     "text": [
      "{'name': 'John', 'age': 30, 'city': 'New York'}\n"
     ]
    }
   ],
   "source": [
    "# Creating a dictionary\n",
    "person = {\"name\": \"John\", \"age\": 30, \"city\": \"New York\"}\n",
    "print(person)  # Output: {'name': 'John', 'age': 30, 'city': 'New York'}"
   ]
  },
  {
   "cell_type": "code",
   "execution_count": 2,
   "id": "9fc27a7e-f186-4f17-881f-d9a1fc7260e5",
   "metadata": {},
   "outputs": [
    {
     "name": "stdout",
     "output_type": "stream",
     "text": [
      "Another dictionary: {'name': 'Bob', 'age': 25, 'city': 'San Francisco'}\n"
     ]
    }
   ],
   "source": [
    "\n",
    "# Creating a dictionary using dict() constructor\n",
    "another_dict = dict(name='Bob', age=25, city='San Francisco')\n",
    "print(\"Another dictionary:\", another_dict)"
   ]
  },
  {
   "cell_type": "code",
   "execution_count": 5,
   "id": "118be955-c10a-4622-ab21-11f9b8af0c77",
   "metadata": {},
   "outputs": [
    {
     "name": "stdout",
     "output_type": "stream",
     "text": [
      "John\n"
     ]
    }
   ],
   "source": [
    "# Accessing an element of the dictionary\n",
    "print(person[\"name\"])  # Output: John"
   ]
  },
  {
   "cell_type": "code",
   "execution_count": 4,
   "id": "3917795d-3462-4711-a16a-98b2ae3a16c6",
   "metadata": {},
   "outputs": [
    {
     "name": "stdout",
     "output_type": "stream",
     "text": [
      "Name: Bob\n",
      "Age: 25\n"
     ]
    }
   ],
   "source": [
    "# Accessing values using square brackets\n",
    "print(\"Name:\", another_dict['name'])\n",
    "\n",
    "# Accessing values using the get() method\n",
    "print(\"Age:\", another_dict.get('age'))"
   ]
  },
  {
   "cell_type": "code",
   "execution_count": 6,
   "id": "4ce0ed27-30d5-46c1-a55f-f6d6cf6b32da",
   "metadata": {},
   "outputs": [
    {
     "name": "stdout",
     "output_type": "stream",
     "text": [
      "{'name': 'John', 'age': 30, 'city': 'New York', 'profession': 'Engineer'}\n"
     ]
    }
   ],
   "source": [
    "# Adding a new key-value pair to the dictionary\n",
    "person[\"profession\"] = \"Engineer\"\n",
    "print(person)  # Output: {'name': 'John', 'age': 30, 'city': 'New York', 'profession': 'Engineer'}"
   ]
  },
  {
   "cell_type": "code",
   "execution_count": 8,
   "id": "1d38edde-0462-4cb1-8f08-b15f7c80a1be",
   "metadata": {},
   "outputs": [
    {
     "name": "stdout",
     "output_type": "stream",
     "text": [
      "After adding gender: {'name': 'Bob', 'age': 25, 'city': 'San Francisco', 'gender': 'Female'}\n",
      "After updating age: {'name': 'Bob', 'age': 35, 'city': 'San Francisco', 'gender': 'Female'}\n"
     ]
    }
   ],
   "source": [
    "# Adding a new key-value pair\n",
    "another_dict['gender'] = 'Female'\n",
    "print(\"After adding gender:\", another_dict)\n",
    "\n",
    "# Updating the value of an existing key\n",
    "another_dict['age'] = 35\n",
    "print(\"After updating age:\", another_dict)"
   ]
  },
  {
   "cell_type": "code",
   "execution_count": 9,
   "id": "aa4dbbb9-99a0-4816-8754-ab196b031a58",
   "metadata": {},
   "outputs": [
    {
     "name": "stdout",
     "output_type": "stream",
     "text": [
      "{'name': 'John', 'city': 'New York', 'profession': 'Engineer'}\n"
     ]
    }
   ],
   "source": [
    "# Removing a key-value pair from the dictionary\n",
    "del person[\"age\"]\n",
    "print(person)  # Output: {'name': 'John', 'city': 'New York', 'profession': 'Engineer'}"
   ]
  },
  {
   "cell_type": "code",
   "execution_count": 10,
   "id": "204a2fad-c1fe-49dc-8f49-c343efef26af",
   "metadata": {},
   "outputs": [
    {
     "name": "stdout",
     "output_type": "stream",
     "text": [
      "True\n",
      "False\n"
     ]
    }
   ],
   "source": [
    "# Checking if a key is in the dictionary\n",
    "print(\"name\" in person)  # Output: True\n",
    "print(\"age\" in person)  # Output: False"
   ]
  },
  {
   "cell_type": "code",
   "execution_count": 12,
   "id": "9b8d73ae-b4a5-4cf7-9721-9bf832c589b7",
   "metadata": {},
   "outputs": [
    {
     "name": "stdout",
     "output_type": "stream",
     "text": [
      "Keys: dict_keys(['name', 'age', 'city', 'gender'])\n",
      "Values: dict_values(['Bob', 35, 'San Francisco', 'Female'])\n",
      "Items: dict_items([('name', 'Bob'), ('age', 35), ('city', 'San Francisco'), ('gender', 'Female')])\n",
      "Is 'age' a key in my_dict? True\n",
      "Is 30 a value in my_dict? False\n",
      "Length of my_dict: 4\n"
     ]
    }
   ],
   "source": [
    "# Getting keys\n",
    "keys = another_dict.keys()\n",
    "print(\"Keys:\", keys)\n",
    "\n",
    "# Getting values\n",
    "values = another_dict.values()\n",
    "print(\"Values:\", values)\n",
    "\n",
    "# Getting key-value pairs (items)\n",
    "items = another_dict.items()\n",
    "print(\"Items:\", items)\n",
    "\n",
    "# Checking membership\n",
    "print(\"Is 'age' a key in my_dict?\", 'age' in another_dict)\n",
    "print(\"Is 30 a value in my_dict?\", 30 in another_dict.values())\n",
    "\n",
    "# Length of the dictionary\n",
    "print(\"Length of my_dict:\", len(another_dict))\n"
   ]
  },
  {
   "cell_type": "code",
   "execution_count": null,
   "id": "bb5be3bd-229d-4da2-b514-9bc923aaa307",
   "metadata": {},
   "outputs": [],
   "source": []
  }
 ],
 "metadata": {
  "kernelspec": {
   "display_name": "Python 3 (ipykernel)",
   "language": "python",
   "name": "python3"
  },
  "language_info": {
   "codemirror_mode": {
    "name": "ipython",
    "version": 3
   },
   "file_extension": ".py",
   "mimetype": "text/x-python",
   "name": "python",
   "nbconvert_exporter": "python",
   "pygments_lexer": "ipython3",
   "version": "3.12.2"
  }
 },
 "nbformat": 4,
 "nbformat_minor": 5
}
