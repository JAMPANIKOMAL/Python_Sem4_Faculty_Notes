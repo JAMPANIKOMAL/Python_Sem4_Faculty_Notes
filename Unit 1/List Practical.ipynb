{
 "cells": [
  {
   "cell_type": "markdown",
   "id": "b0ecf908-c91a-4daa-a4df-5371302a9f04",
   "metadata": {},
   "source": [
    "## You are a librarian and you have a list of books in your library. Each book is represented as a string. Your task is to write a Python program to find out how many books in the library have a title longer than 25 characters."
   ]
  },
  {
   "cell_type": "code",
   "execution_count": 4,
   "id": "304d699f-8a83-4e41-87b9-781070029d4d",
   "metadata": {},
   "outputs": [
    {
     "name": "stdout",
     "output_type": "stream",
     "text": [
      "The number of books with a title longer than 10 characters is 5\n"
     ]
    }
   ],
   "source": [
    "# List of books\n",
    "books = [\"Introduction to Algorithms\",  \"Structure and Interpretation of Computer Programs\",\"The Pragmatic Programmer\", \"Artificial Intelligence: A Modern Approach\", \"Clean Code: A Handbook of Agile Software Craftsmanship\", \"Computer Networking: Principles, Protocols and Practice\",\"Data Science for Business\" ]\n",
    "\n",
    "# Initialize counter\n",
    "long_titles = 0\n",
    "\n",
    "# Loop through the list\n",
    "for book in books:\n",
    "    if len(book) > 25:\n",
    "        long_titles += 1\n",
    "\n",
    "print(f\"The number of books with a title longer than 10 characters is {long_titles}\")\n"
   ]
  },
  {
   "cell_type": "markdown",
   "id": "b7660335-eb06-4883-a97f-c836b31a4517",
   "metadata": {},
   "source": [
    "## You are a sports coach and you have the heights of your players in centimeters. The heights are stored in a list. Your task is to write a Python program to calculate the average height and find out how many players are taller than the average."
   ]
  },
  {
   "cell_type": "code",
   "execution_count": 2,
   "id": "2bc4a1d4-9551-492c-8513-f26a20cecdb3",
   "metadata": {},
   "outputs": [
    {
     "name": "stdout",
     "output_type": "stream",
     "text": [
      "The average height is 183.88888888888889 cm\n",
      "The number of players who are taller than the average is 5\n"
     ]
    }
   ],
   "source": [
    "# List of heights\n",
    "heights = [180, 192, 175, 183, 188, 195, 185, 173, 184]\n",
    "\n",
    "# Calculate the average height\n",
    "total_height = 0\n",
    "for height in heights:\n",
    "    total_height += height\n",
    "average_height = total_height / len(heights)\n",
    "print(f\"The average height is {average_height} cm\")\n",
    "\n",
    "# Count the number of players who are taller than the average\n",
    "taller_than_average = 0\n",
    "for height in heights:\n",
    "    if height > average_height:\n",
    "        taller_than_average += 1\n",
    "\n",
    "print(f\"The number of players who are taller than the average is {taller_than_average}\")\n"
   ]
  },
  {
   "cell_type": "markdown",
   "id": "988f95f1-cc43-43ad-8bbc-091055b03589",
   "metadata": {},
   "source": [
    "## You are a teacher and you have the scores of your students on a test. The scores are stored in a list. Your task is to write a Python program to find the median score. If the number of scores is even, the median is the average of the two middle scores."
   ]
  },
  {
   "cell_type": "code",
   "execution_count": 3,
   "id": "525773a0-2869-4d94-8cce-55c9000e99f9",
   "metadata": {},
   "outputs": [
    {
     "name": "stdout",
     "output_type": "stream",
     "text": [
      "The median score is 86.5\n"
     ]
    }
   ],
   "source": [
    "# List of scores\n",
    "scores = [85, 90, 78, 92, 88, 76, 95, 89, 84, 82]\n",
    "\n",
    "# Sort the scores\n",
    "scores.sort()\n",
    "\n",
    "# Calculate the median\n",
    "if len(scores) % 2 == 0:  # If there are an even number of scores\n",
    "    median = (scores[len(scores) // 2 - 1] + scores[len(scores) // 2]) / 2\n",
    "else:  # If there are an odd number of scores\n",
    "    median = scores[len(scores) // 2]\n",
    "\n",
    "print(f\"The median score is {median}\")\n"
   ]
  }
 ],
 "metadata": {
  "kernelspec": {
   "display_name": "Python 3 (ipykernel)",
   "language": "python",
   "name": "python3"
  },
  "language_info": {
   "codemirror_mode": {
    "name": "ipython",
    "version": 3
   },
   "file_extension": ".py",
   "mimetype": "text/x-python",
   "name": "python",
   "nbconvert_exporter": "python",
   "pygments_lexer": "ipython3",
   "version": "3.12.2"
  }
 },
 "nbformat": 4,
 "nbformat_minor": 5
}
