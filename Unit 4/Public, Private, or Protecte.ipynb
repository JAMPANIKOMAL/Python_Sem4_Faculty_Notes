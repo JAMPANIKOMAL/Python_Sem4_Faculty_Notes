{
 "cells": [
  {
   "cell_type": "markdown",
   "id": "ceee0fb5-6adb-4afb-9572-240d5200f4cf",
   "metadata": {},
   "source": [
    "## Public Attributes and Methods:\r\n",
    "- By default, all attributes and methods in Python classes are public.\r\n",
    "- They can be accessed from outside the class.s."
   ]
  },
  {
   "cell_type": "markdown",
   "id": "5230f496-9fba-4bf6-a1dc-c0702564e760",
   "metadata": {},
   "source": [
    "## Private Attributes and Methods:\n",
    "- In Python, attributes and methods can be made \"private\" by prefixing their names with double underscores (__).\n",
    "- This makes them harder to access from outside the class.\n",
    "- However, they can still be accessed using name mangling (i.e., object._ClassName__private_attribute)."
   ]
  },
  {
   "cell_type": "code",
   "execution_count": 2,
   "id": "20184cd5-cec1-46a9-ab21-120712fbd9fa",
   "metadata": {},
   "outputs": [
    {
     "name": "stdout",
     "output_type": "stream",
     "text": [
      "10\n"
     ]
    }
   ],
   "source": [
    "class MyClass:\n",
    "    def __init__(self):\n",
    "        self.__private_attr = 10\n",
    "    def __private_method(self):\n",
    "        print(\"Private method\")\n",
    "    def method(self):\n",
    "        print(self.__private_attr)\n",
    "obj = MyClass()\n",
    "obj.method()"
   ]
  },
  {
   "cell_type": "code",
   "execution_count": 3,
   "id": "eeeae522-1b38-4389-8a86-0bfd70b4c0e3",
   "metadata": {},
   "outputs": [
    {
     "name": "stdout",
     "output_type": "stream",
     "text": [
      "10\n",
      "Private method\n"
     ]
    }
   ],
   "source": [
    "print(obj._MyClass__private_attr)  # Accessing private attribute using name mangling\n",
    "obj._MyClass__private_method()     # Accessing private method using name mangling"
   ]
  },
  {
   "cell_type": "markdown",
   "id": "cbd21343-1f8e-4152-a1ec-adcd60c75cfa",
   "metadata": {},
   "source": [
    "## Protected Attributes and Methods:\n",
    "- In Python, attributes and methods can be made \"protected\" by prefixing their names with a single underscore (_).\n",
    "- This is more of a convention and indicates that the attribute or method is intended for internal use or for subclasses."
   ]
  },
  {
   "cell_type": "code",
   "execution_count": 2,
   "id": "fb6011d2-2230-4751-b872-4d20d221f367",
   "metadata": {},
   "outputs": [
    {
     "name": "stdout",
     "output_type": "stream",
     "text": [
      "20\n",
      "Protected method\n"
     ]
    }
   ],
   "source": [
    "class MyClass:\n",
    "    def __init__(self):\n",
    "        self._protected_attr = 20\n",
    "\n",
    "    def _protected_method(self):\n",
    "        print(\"Protected method\")\n",
    "\n",
    "obj = MyClass()\n",
    "print(obj._protected_attr)  # Accessing protected attribute\n",
    "obj._protected_method()     # Accessing protected method\n"
   ]
  },
  {
   "cell_type": "markdown",
   "id": "442ea8bd-5505-4030-bc79-57a8c5c13d19",
   "metadata": {},
   "source": [
    "## Employee Management System\n",
    "Create a base class Employee with public, private, and protected attributes representing employee details such as name, employee ID, and salary. Implement methods to display employee details and calculate salary. Then create subclasses Manager and Developer that inherit from Employee and demonstrate access to different types of attributes and methods."
   ]
  },
  {
   "cell_type": "code",
   "execution_count": null,
   "id": "22d861a6-22cf-4576-88a5-47eecbd5c1a7",
   "metadata": {},
   "outputs": [],
   "source": []
  },
  {
   "cell_type": "code",
   "execution_count": 16,
   "id": "012781e6-f573-4506-98a0-5175dfbe8b19",
   "metadata": {},
   "outputs": [],
   "source": [
    "class Employee:\n",
    "    def __init__(self, name, employee_id, salary):\n",
    "        self.name = name            # Public attribute\n",
    "        self._employee_id = employee_id   # Protected attribute\n",
    "        self.__salary = salary      # Private attribute\n",
    "    def display_details(self):\n",
    "        print(\"Name:\", self.name)\n",
    "        print(\"Employee ID:\", self._employee_id)\n",
    "        print(\"Salary:\", self.__salary)\n",
    "    def calculate_salary(self):\n",
    "        return self.__salary\n",
    "\n",
    "class Manager(Employee):\n",
    "    def __init__(self, name, employee_id, salary, department):\n",
    "        super().__init__(name, employee_id, salary)\n",
    "        self.department = department\n",
    "    def display_details(self):\n",
    "        super().display_details()\n",
    "        print(\"Department:\", self.department)\n",
    "\n",
    "class Developer(Employee):\n",
    "    def __init__(self, name, employee_id, salary, programming_language):\n",
    "        super().__init__(name, employee_id, salary)\n",
    "        self.programming_language = programming_language\n",
    "    def display_details(self):\n",
    "        super().display_details()\n",
    "        print(\"Programming Language:\", self.programming_language)"
   ]
  },
  {
   "cell_type": "code",
   "execution_count": 17,
   "id": "c248fa91-afff-495e-929a-5f6b764f26c5",
   "metadata": {},
   "outputs": [],
   "source": [
    "# Create objects of Manager and Developer classes\n",
    "manager = Manager(\"John Doe\", \"M001\", 70000, \"Engineering\")\n",
    "developer = Developer(\"Jane Smith\", \"D001\", 60000, \"Python\")"
   ]
  },
  {
   "cell_type": "code",
   "execution_count": 18,
   "id": "ce3a9d6b-6e8a-4fcc-a081-aeafb8a010c7",
   "metadata": {},
   "outputs": [
    {
     "name": "stdout",
     "output_type": "stream",
     "text": [
      "Name: John Doe\n",
      "Employee ID: M001\n",
      "Salary: 70000\n",
      "Department: Engineering\n",
      "Name: Jane Smith\n",
      "Employee ID: D001\n",
      "Salary: 60000\n",
      "Programming Language: Python\n"
     ]
    }
   ],
   "source": [
    "# Display employee details\n",
    "manager.display_details()\n",
    "developer.display_details()"
   ]
  },
  {
   "cell_type": "code",
   "execution_count": null,
   "id": "aff45b8d-eaf8-460e-96f9-cbe5516418c3",
   "metadata": {},
   "outputs": [],
   "source": []
  }
 ],
 "metadata": {
  "kernelspec": {
   "display_name": "Python 3 (ipykernel)",
   "language": "python",
   "name": "python3"
  },
  "language_info": {
   "codemirror_mode": {
    "name": "ipython",
    "version": 3
   },
   "file_extension": ".py",
   "mimetype": "text/x-python",
   "name": "python",
   "nbconvert_exporter": "python",
   "pygments_lexer": "ipython3",
   "version": "3.12.2"
  }
 },
 "nbformat": 4,
 "nbformat_minor": 5
}
