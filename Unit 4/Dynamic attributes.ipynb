{
 "cells": [
  {
   "cell_type": "markdown",
   "id": "dc665b4a-b300-449e-af95-96485472716c",
   "metadata": {},
   "source": [
    "## Dynamic attributes  \r\n",
    "\r\n",
    "A dynamic attribute in Python refers to an attribute that is added to an object or class instance at runtime, rather than being explicitly defined in the class definition. This allows you to extend the attributes of objects or instances dynamically during the execution of your program.  \r\n",
    "  Here's a breakdown of what dynamic attributes mean:  \r\n",
    "1. __Added at Runtime:__ Dynamic attributes are not predefined in the class definition but are created and assigned values during the execution of the program.\r\n",
    "2. __No Explicit Declaration:__ Unlike regular attributes, which are declared within the class definition using __self.attribute_name__, dynamic attributes are assigned directly to instances using the dot notation (instance.attribute_name = value) without needing to modify the class definition.\r\n",
    "3. __Flexible and Adaptable:__ Dynamic attributes provide flexibility and adaptability to your code, allowing you to add new properties or behaviors to objects or instances as needed, based on runtime conditions or requirements.\r\n",
    "4. __Usage Scenarios:__ Dynamic attributes are commonly used in situations where the structure of objects or instances needs to be modified dynamically, such as when working with user-defined data or when extending the functionality of existing classes without modifying their source code.e code. code. code."
   ]
  },
  {
   "cell_type": "code",
   "execution_count": 16,
   "id": "aa95bd86-f74c-4125-898c-4b4c2f498833",
   "metadata": {},
   "outputs": [
    {
     "name": "stdout",
     "output_type": "stream",
     "text": [
      "Altroz\n",
      "8031\n"
     ]
    }
   ],
   "source": [
    "class vehicle:\n",
    "    def __init__(self,name,number):\n",
    "        self.name = name\n",
    "        self.number = number\n",
    "V1=vehicle(\"Altroz\",8031)\n",
    "print(V1.name)\n",
    "print(V1.number)"
   ]
  },
  {
   "cell_type": "code",
   "execution_count": 18,
   "id": "e5186c5e-2392-40f3-af93-7d53dfb708cb",
   "metadata": {},
   "outputs": [
    {
     "name": "stdin",
     "output_type": "stream",
     "text": [
      "Which attribute you want to access? number\n"
     ]
    },
    {
     "name": "stdout",
     "output_type": "stream",
     "text": [
      "8031\n"
     ]
    }
   ],
   "source": [
    "choice = input(\"Which attribute you want to access?\")\n",
    "if choice == \"name\":\n",
    "    print(V1.name)\n",
    "elif choice == \"number\":\n",
    "    print(V1.number)\n",
    "else:\n",
    "    print(\"--invalid--\")"
   ]
  },
  {
   "cell_type": "markdown",
   "id": "1221b214-86ca-4175-ac0b-19df055de0e8",
   "metadata": {},
   "source": [
    "### Special Methods for Dynamic Attribute Handling:\n",
    "\n",
    "1. __setattr__(self, name, value): Called when an attribute is set on an instance. It allows you to customize the behavior of attribute assignments.\r\n",
    "2. __getattr__(self, name): Called when an attribute is accessed but not found on an instance. It allows you to customize the behavior of attribute retrieval.\r\n",
    "3. __delattr__(self, name): Called when an attribute is deleted from an instance. It allows you to customize the behavior of attribute deletioor."
   ]
  },
  {
   "cell_type": "code",
   "execution_count": 22,
   "id": "3d3dc911-0a36-4b04-addb-0f38ea1d7803",
   "metadata": {},
   "outputs": [
    {
     "name": "stdin",
     "output_type": "stream",
     "text": [
      "Which attribute you want to access? name\n"
     ]
    },
    {
     "name": "stdout",
     "output_type": "stream",
     "text": [
      "Altroz\n"
     ]
    }
   ],
   "source": [
    "choice = input(\"Which attribute you want to access?\")\n",
    "print(getattr(V1,choice,\"--invalid--\"))"
   ]
  },
  {
   "cell_type": "code",
   "execution_count": 25,
   "id": "2e8d75dd-762a-4568-b5d3-9463fc26f556",
   "metadata": {},
   "outputs": [
    {
     "name": "stdin",
     "output_type": "stream",
     "text": [
      "Which attribute you want to change= colour\n",
      "what attribute do you want to change this to= Gray\n"
     ]
    },
    {
     "name": "stdout",
     "output_type": "stream",
     "text": [
      "Nexon\n",
      "8031\n"
     ]
    }
   ],
   "source": [
    "choice = input(\"Which attribute you want to change=\")\n",
    "value = input(\"what attribute do you want to change this to=\")\n",
    "setattr(V1,choice,value)\n",
    "print(V1.name)\n",
    "print(V1.number)"
   ]
  },
  {
   "cell_type": "code",
   "execution_count": 26,
   "id": "8d93f802-a608-4b38-a700-763dc297d520",
   "metadata": {},
   "outputs": [
    {
     "name": "stdout",
     "output_type": "stream",
     "text": [
      "Gray\n"
     ]
    }
   ],
   "source": [
    "print(V1.colour)"
   ]
  },
  {
   "cell_type": "code",
   "execution_count": 28,
   "id": "6b8c9315-bffb-4894-b0c2-24ccc5e0d951",
   "metadata": {},
   "outputs": [
    {
     "name": "stdout",
     "output_type": "stream",
     "text": [
      "False\n"
     ]
    }
   ],
   "source": [
    "print(hasattr(V1,\"asdf\"))"
   ]
  },
  {
   "cell_type": "code",
   "execution_count": 30,
   "id": "23afd9ab-d064-4c75-8b68-f6bee5aaf793",
   "metadata": {},
   "outputs": [],
   "source": [
    "delattr(V1,\"name\")"
   ]
  },
  {
   "cell_type": "code",
   "execution_count": 31,
   "id": "f2231031-7607-4073-9294-b71d433723fa",
   "metadata": {},
   "outputs": [
    {
     "ename": "AttributeError",
     "evalue": "'vehicle' object has no attribute 'name'",
     "output_type": "error",
     "traceback": [
      "\u001b[1;31m---------------------------------------------------------------------------\u001b[0m",
      "\u001b[1;31mAttributeError\u001b[0m                            Traceback (most recent call last)",
      "Cell \u001b[1;32mIn[31], line 1\u001b[0m\n\u001b[1;32m----> 1\u001b[0m \u001b[38;5;28mprint\u001b[39m(\u001b[43mV1\u001b[49m\u001b[38;5;241;43m.\u001b[39;49m\u001b[43mname\u001b[49m)\n\u001b[0;32m      2\u001b[0m \u001b[38;5;28mprint\u001b[39m(V1\u001b[38;5;241m.\u001b[39mnumber)\n",
      "\u001b[1;31mAttributeError\u001b[0m: 'vehicle' object has no attribute 'name'"
     ]
    }
   ],
   "source": [
    "print(V1.name)\n",
    "print(V1.number)"
   ]
  },
  {
   "cell_type": "code",
   "execution_count": 33,
   "id": "624c592a-df8f-4226-9cde-23d2c459f63c",
   "metadata": {},
   "outputs": [
    {
     "name": "stdout",
     "output_type": "stream",
     "text": [
      "Setting attribute 'asdf' to '100'\n",
      "Dynamic attribute: 100\n",
      "Deleting attribute 'asdf'\n"
     ]
    }
   ],
   "source": [
    "class MyClass:\n",
    "    def __setattr__(self, name, value):\n",
    "        print(f\"Setting attribute '{name}' to '{value}'\")\n",
    "        super().__setattr__(name, value)\n",
    "    def __delattr__(self, name):\n",
    "        print(f\"Deleting attribute '{name}'\")\n",
    "        super().__delattr__(name)\n",
    "# Create an instance of MyClass\n",
    "obj = MyClass()\n",
    "# Adding dynamic attribute\n",
    "obj.asdf = 100\n",
    "# Retrieving dynamic attribute\n",
    "print(\"Dynamic attribute:\", obj.asdf)\n",
    "# Deleting dynamic attribute\n",
    "del obj.asdf"
   ]
  },
  {
   "cell_type": "code",
   "execution_count": null,
   "id": "f9412492-e4f4-45a9-bc31-02fd2cfb047f",
   "metadata": {},
   "outputs": [],
   "source": []
  }
 ],
 "metadata": {
  "kernelspec": {
   "display_name": "Python 3 (ipykernel)",
   "language": "python",
   "name": "python3"
  },
  "language_info": {
   "codemirror_mode": {
    "name": "ipython",
    "version": 3
   },
   "file_extension": ".py",
   "mimetype": "text/x-python",
   "name": "python",
   "nbconvert_exporter": "python",
   "pygments_lexer": "ipython3",
   "version": "3.12.2"
  }
 },
 "nbformat": 4,
 "nbformat_minor": 5
}
