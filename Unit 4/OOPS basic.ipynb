{
 "cells": [
  {
   "cell_type": "markdown",
   "id": "74a3ff45-f113-4f90-99c6-aa278d424055",
   "metadata": {},
   "source": [
    "# Object-Oriented Programming (OOP) in Python"
   ]
  },
  {
   "cell_type": "markdown",
   "id": "ff94a685-d60d-4502-87be-3f4b985899cf",
   "metadata": {},
   "source": [
    "\n",
    "### Class:\r\n",
    "- A class is a blueprint for creating objects. It defines the attributes (data) and methods (functions) that all objects of that class will have.  \r\n",
    "- Classes are defined using the class keyword followed by the class name.e."
   ]
  },
  {
   "cell_type": "code",
   "execution_count": 2,
   "id": "2681bafb-a4a0-4054-ac29-8ed9d773f60f",
   "metadata": {},
   "outputs": [],
   "source": [
    "class Car:\n",
    "    pass"
   ]
  },
  {
   "cell_type": "markdown",
   "id": "fe447fa0-2318-423d-a4ae-dddb224e0836",
   "metadata": {},
   "source": [
    "### Object (Instance):\r\n",
    "- An object is an instance of a class. It represents a specific instance of the class, with its unique data and behavior.  \r\n",
    "- Objects are created using the class as a template. This process is called instantiation."
   ]
  },
  {
   "cell_type": "code",
   "execution_count": 3,
   "id": "f15d66f2-daf0-4e95-bbfe-0958c1d365df",
   "metadata": {},
   "outputs": [],
   "source": [
    "car1 = Car()"
   ]
  },
  {
   "cell_type": "markdown",
   "id": "63e67d89-fd39-4ff9-b479-f2af47679073",
   "metadata": {},
   "source": [
    "### Attributes:\n",
    "- Attributes are the properties or data associated with objects. They represent the state of an object.  \n",
    "- Attributes are accessed using dot notation (object. attribute).\n"
   ]
  },
  {
   "cell_type": "code",
   "execution_count": 5,
   "id": "32476f26-16b1-44c9-a626-7950675e0e4d",
   "metadata": {},
   "outputs": [],
   "source": [
    "car1.make = \"Toyota\"\n",
    "car1.model = \"Camry\""
   ]
  },
  {
   "cell_type": "markdown",
   "id": "32be11fa-013c-4c1f-bfea-1ebd308014f9",
   "metadata": {},
   "source": [
    "### Methods:\n",
    "- Methods are functions defined within a class that operate on the object's data.  \n",
    "- They represent the behavior of the objects.  \n",
    "- Methods are called using dot notation (object. method())."
   ]
  },
  {
   "cell_type": "code",
   "execution_count": 6,
   "id": "966efe91-35d9-4711-86ff-ee70553296e8",
   "metadata": {},
   "outputs": [],
   "source": [
    "class Car:\n",
    "    def drive(self):\n",
    "        print(\"Car is driving...\")\n"
   ]
  },
  {
   "cell_type": "markdown",
   "id": "d728b2ba-598a-46f4-838b-96587b6a2f36",
   "metadata": {},
   "source": [
    "### Constructor (__init__ method):\n",
    "- The __init__ method is a special method in Python classes that is called automatically when a new object is created.\n",
    "- It is used to initialize the object's attributes with values provided during object creation."
   ]
  },
  {
   "cell_type": "code",
   "execution_count": 7,
   "id": "e3ab8735-06d0-4fdc-bea1-815759ab2a27",
   "metadata": {},
   "outputs": [],
   "source": [
    "class Car:\n",
    "    def __init__(self, make, model):\n",
    "        self.make = make\n",
    "        self.model = model"
   ]
  },
  {
   "cell_type": "markdown",
   "id": "7bb04ee6-24b6-4630-b0fb-1e55c45cee0a",
   "metadata": {},
   "source": [
    "Here's why we write self in constructor and member function arguments:\r\n",
    "\r\n",
    "__Accessing Object Attributes__:\r\n",
    "- Within class methods, you need a way to refer to the specific instance of the class (object) that the method is being called on.\r\n",
    "- By convention, the first parameter of all instance methods in Python classes is self. It refers to the instance of the class and allows you to access its attributes and methods.    \r\n",
    "\r\n",
    "__Object Initialization (Constructor)__:\r\n",
    "- In the constructor (__init__ method), self is used to initialize the object's attributes with values provided during object creation.\r\n",
    "- When you create an object of the class, self refers to that specific object, and you use it to set the initial state (attributes) of the object.  \r\n",
    "\r\n",
    "__Calling Object Methods__:\r\n",
    "- When you call a method on an object, Python automatically passes the object itself as the first argument to the method. This allows you to access the object's attributes and call other methods on it.\r\n",
    "- By convention, you name this parameter self, but you can name it anything you like (although using self is a widely accepted convention).nvention)."
   ]
  },
  {
   "cell_type": "markdown",
   "id": "f598fc0d-f151-4d3d-b189-7c290ead19ca",
   "metadata": {},
   "source": [
    "### Example 1"
   ]
  },
  {
   "cell_type": "code",
   "execution_count": 1,
   "id": "6b49fc89-18fe-4f8d-a5f6-02c2933b16d2",
   "metadata": {},
   "outputs": [
    {
     "name": "stdout",
     "output_type": "stream",
     "text": [
      "Buddy is 3 years old.\n",
      "Buddy says Woof!\n"
     ]
    }
   ],
   "source": [
    "class Dog:\n",
    "    def __init__(self, name, age):\n",
    "        self.name = name\n",
    "        self.age = age\n",
    "\n",
    "    def bark(self):\n",
    "        print(f\"{self.name} says Woof!\")\n",
    "\n",
    "# Creating an object of the Dog class\n",
    "dog1 = Dog(\"Buddy\", 3)\n",
    "\n",
    "# Accessing attributes and calling methods of the object\n",
    "print(f\"{dog1.name} is {dog1.age} years old.\")\n",
    "dog1.bark()\n"
   ]
  },
  {
   "cell_type": "markdown",
   "id": "92fa6876-df18-4fbc-9b9e-cb9a7aef6fbb",
   "metadata": {},
   "source": [
    "__Explanation__:\n",
    "\n",
    "- We define a Dog class with an __init__ method to initialize the name and age attributes of the dog.\n",
    "- The bark method prints a message indicating that the dog is barking.\n",
    "- We create an object dog1 of the Dog class with the name \"Buddy\" and age 3.\n",
    "- We access the attributes (name and age) of the object dog1 and call its bark method."
   ]
  },
  {
   "cell_type": "markdown",
   "id": "9ce19b2b-8de8-4954-ac89-b2981d8d2375",
   "metadata": {},
   "source": [
    "### Example 2"
   ]
  },
  {
   "cell_type": "code",
   "execution_count": 9,
   "id": "2d31ae35-7d4f-4f29-9b68-ad4333998349",
   "metadata": {},
   "outputs": [
    {
     "name": "stdout",
     "output_type": "stream",
     "text": [
      "Area of circle 1: 78.5\n",
      "Area of circle 2: 153.86\n"
     ]
    }
   ],
   "source": [
    "class Circle:\n",
    "    pi = 3.14  # Class attribute\n",
    "\n",
    "    def __init__(self, radius):\n",
    "        self.radius = radius\n",
    "\n",
    "    def calculate_area(self):\n",
    "        return self.pi * self.radius ** 2\n",
    "\n",
    "# Creating objects of the Circle class\n",
    "circle1 = Circle(5)\n",
    "circle2 = Circle(7)\n",
    "\n",
    "# Calculating and printing the area of circles\n",
    "print(\"Area of circle 1:\", circle1.calculate_area())\n",
    "print(\"Area of circle 2:\", circle2.calculate_area())\n"
   ]
  },
  {
   "cell_type": "markdown",
   "id": "454f1d49-695c-48da-ac56-1465f5286571",
   "metadata": {},
   "source": [
    "__Explanation__:\n",
    "\n",
    "- We define a Circle class with a class attribute pi representing the value of pi.\n",
    "- The __init__ method initializes the radius attribute of the circle.\n",
    "- The calculate_area method calculates the area of the circle using the formula πr^2.\n",
    "- We create two objects circle1 and circle2 of the Circle class with different radii.\n",
    "- We call the calculate_area method for each object to calculate and print the area of the circles."
   ]
  },
  {
   "cell_type": "markdown",
   "id": "52389fae-ff4a-4a42-9de8-77ceda19447e",
   "metadata": {},
   "source": [
    "### Example 3"
   ]
  },
  {
   "cell_type": "code",
   "execution_count": 10,
   "id": "cc942980-beed-48ed-8a3d-09683c1a4e47",
   "metadata": {},
   "outputs": [],
   "source": [
    "class BankAccount:\n",
    "    def __init__(self, account_number, balance):\n",
    "        self.account_number = account_number\n",
    "        self.balance = balance\n",
    "    def deposit(self, amount):\n",
    "        if amount > 0:\n",
    "            self.balance += amount\n",
    "            print(f\"Deposited ${amount}. New balance: ${self.balance}\")\n",
    "        else:\n",
    "            print(\"Invalid deposit amount.\")\n",
    "    def withdraw(self, amount):\n",
    "        if amount > 0 and amount <= self.balance:\n",
    "            self.balance -= amount\n",
    "            print(f\"Withdrew ${amount}. New balance: ${self.balance}\")\n",
    "        else:\n",
    "            print(\"Invalid withdrawal amount or insufficient funds.\")\n",
    "    def display_balance(self):\n",
    "        print(f\"Account Number: {self.account_number}\\nCurrent Balance: ${self.balance}\")"
   ]
  },
  {
   "cell_type": "code",
   "execution_count": 11,
   "id": "cca26dbf-0526-4225-a21a-e60acdbadfe9",
   "metadata": {},
   "outputs": [],
   "source": [
    "# Create an instance of the BankAccount class\n",
    "account1 = BankAccount(\"123456789\", 1000)"
   ]
  },
  {
   "cell_type": "code",
   "execution_count": 12,
   "id": "da2104cb-ac14-4d9b-bb2f-611706f27842",
   "metadata": {},
   "outputs": [
    {
     "name": "stdout",
     "output_type": "stream",
     "text": [
      "Deposited $500. New balance: $1500\n"
     ]
    }
   ],
   "source": [
    "# Deposit some money\n",
    "account1.deposit(500)"
   ]
  },
  {
   "cell_type": "code",
   "execution_count": 13,
   "id": "3ca0c3b7-0074-4d4e-b33d-a24fb016dbf9",
   "metadata": {},
   "outputs": [
    {
     "name": "stdout",
     "output_type": "stream",
     "text": [
      "Withdrew $200. New balance: $1300\n"
     ]
    }
   ],
   "source": [
    "# Withdraw some money\n",
    "account1.withdraw(200)"
   ]
  },
  {
   "cell_type": "code",
   "execution_count": 14,
   "id": "c5f574b2-a31a-4284-bb4c-a8463d43c12f",
   "metadata": {},
   "outputs": [
    {
     "name": "stdout",
     "output_type": "stream",
     "text": [
      "Account Number: 123456789\n",
      "Current Balance: $1300\n"
     ]
    }
   ],
   "source": [
    "# Display the current balance\n",
    "account1.display_balance()"
   ]
  }
 ],
 "metadata": {
  "kernelspec": {
   "display_name": "Python 3 (ipykernel)",
   "language": "python",
   "name": "python3"
  },
  "language_info": {
   "codemirror_mode": {
    "name": "ipython",
    "version": 3
   },
   "file_extension": ".py",
   "mimetype": "text/x-python",
   "name": "python",
   "nbconvert_exporter": "python",
   "pygments_lexer": "ipython3",
   "version": "3.12.2"
  }
 },
 "nbformat": 4,
 "nbformat_minor": 5
}
