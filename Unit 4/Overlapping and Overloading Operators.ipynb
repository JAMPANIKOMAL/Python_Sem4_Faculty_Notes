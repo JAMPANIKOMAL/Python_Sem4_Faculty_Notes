{
 "cells": [
  {
   "cell_type": "markdown",
   "id": "9dcdd244-4696-4005-8339-e19ce01a8649",
   "metadata": {},
   "source": [
    "# Overlapping and Overloading Operators"
   ]
  },
  {
   "cell_type": "code",
   "execution_count": 9,
   "id": "121d5678-eb21-4246-9808-209d101249c1",
   "metadata": {},
   "outputs": [
    {
     "ename": "TypeError",
     "evalue": "Calculator.add() missing 1 required positional argument: 'c'",
     "output_type": "error",
     "traceback": [
      "\u001b[1;31m---------------------------------------------------------------------------\u001b[0m",
      "\u001b[1;31mTypeError\u001b[0m                                 Traceback (most recent call last)",
      "Cell \u001b[1;32mIn[9], line 12\u001b[0m\n\u001b[0;32m      9\u001b[0m calc \u001b[38;5;241m=\u001b[39m Calculator()\n\u001b[0;32m     11\u001b[0m \u001b[38;5;66;03m# Overlapping methods\u001b[39;00m\n\u001b[1;32m---> 12\u001b[0m \u001b[38;5;28mprint\u001b[39m(\u001b[38;5;124m\"\u001b[39m\u001b[38;5;124mAdding two numbers:\u001b[39m\u001b[38;5;124m\"\u001b[39m, \u001b[43mcalc\u001b[49m\u001b[38;5;241;43m.\u001b[39;49m\u001b[43madd\u001b[49m\u001b[43m(\u001b[49m\u001b[38;5;241;43m2\u001b[39;49m\u001b[43m,\u001b[49m\u001b[43m \u001b[49m\u001b[38;5;241;43m3\u001b[39;49m\u001b[43m)\u001b[49m)  \u001b[38;5;66;03m# Output: 5\u001b[39;00m\n\u001b[0;32m     13\u001b[0m \u001b[38;5;28mprint\u001b[39m(\u001b[38;5;124m\"\u001b[39m\u001b[38;5;124mAdding three numbers:\u001b[39m\u001b[38;5;124m\"\u001b[39m, calc\u001b[38;5;241m.\u001b[39madd(\u001b[38;5;241m2\u001b[39m, \u001b[38;5;241m3\u001b[39m, \u001b[38;5;241m4\u001b[39m))  \u001b[38;5;66;03m# Output: 9\u001b[39;00m\n",
      "\u001b[1;31mTypeError\u001b[0m: Calculator.add() missing 1 required positional argument: 'c'"
     ]
    }
   ],
   "source": [
    "class Calculator:\n",
    "    def add(self, a, b):\n",
    "        return a + b\n",
    "    def add(self, a, b, c):\n",
    "        return a + b + c\n",
    "# Create a calculator instance\n",
    "calc = Calculator()\n",
    "\n",
    "# Overlapping methods\n",
    "print(\"Adding two numbers:\", calc.add(2, 3))  # Output: 5\n",
    "print(\"Adding three numbers:\", calc.add(2, 3, 4))  # Output: 9\n"
   ]
  },
  {
   "cell_type": "markdown",
   "id": "47e0561e-1ef8-491c-9e32-c4bbc684387b",
   "metadata": {},
   "source": [
    "\n",
    "In Python, you cannot define multiple methods with the same name in a class where the method signatures (number and types of parameters) are identical or nearly identical."
   ]
  },
  {
   "cell_type": "code",
   "execution_count": 10,
   "id": "7ce9f8f0-f46e-4b94-bdc7-57d0e34948c1",
   "metadata": {},
   "outputs": [
    {
     "name": "stdout",
     "output_type": "stream",
     "text": [
      "Adding two numbers: 5\n",
      "Adding three numbers: 9\n"
     ]
    }
   ],
   "source": [
    "class Calculator:\n",
    "    def add(self, a, b, c=None): # default parameter 'c'\n",
    "        if c is not None:\n",
    "            return a + b + c\n",
    "        else:\n",
    "            return a + b\n",
    "# Create a calculator instance\n",
    "calc = Calculator()\n",
    "# Overlapping methods\n",
    "print(\"Adding two numbers:\", calc.add(2, 3)) \n",
    "print(\"Adding three numbers:\", calc.add(2, 3, 4))  "
   ]
  },
  {
   "cell_type": "markdown",
   "id": "cf492c9d-06c4-417a-b05f-3c112a59e5e1",
   "metadata": {},
   "source": [
    "### Special Methods (Magic Methods):\r\n",
    "Python provides a set of special methods (also known as magic methods or dunder methods) that can be defined in custom classes to enable operator overloading.  \r\n",
    "These methods have double underscores ( __ ) before and after their names.  \r\n",
    "For example, to overload the addition operator (+), you define the __ add __ method in your class.  .  ss."
   ]
  },
  {
   "cell_type": "code",
   "execution_count": 7,
   "id": "94a95586-69b9-404d-848e-63f1df265fb0",
   "metadata": {},
   "outputs": [
    {
     "name": "stdout",
     "output_type": "stream",
     "text": [
      "4 6\n",
      "Not Equal\n"
     ]
    }
   ],
   "source": [
    "class Point:\n",
    "    def __init__(self, x, y):\n",
    "        self.x = x\n",
    "        self.y = y\n",
    "    def __add__(self, other):\n",
    "        return Point(self.x + other.x, self.y + other.y)\n",
    "    def __sub__(self, other):\n",
    "        return Point(self.x - other.x, self.y - other.y)\n",
    "    def __eq__(self, other):\n",
    "        return self.x == other.x and self.y == other.y\n",
    "# Usage\n",
    "p1 = Point(1, 2)\n",
    "p2 = Point(3, 4)\n",
    "p3 = p1 + p2\n",
    "# p3 = p1 - p2\n",
    "print(p3.x, p3.y)  \n",
    "if p1 == p2:\n",
    "    print(\"Equal\")\n",
    "else:\n",
    "    print(\"Not Equal\")"
   ]
  },
  {
   "cell_type": "code",
   "execution_count": 11,
   "id": "ce84ffe4-41a9-4b5f-936d-1af517569dd5",
   "metadata": {},
   "outputs": [
    {
     "name": "stdout",
     "output_type": "stream",
     "text": [
      "Addition: 8\n",
      "Subtraction: 2\n",
      "Multiplication: 15\n",
      "Division: 1.6666666666666667\n",
      "Equality: False\n",
      "Less Than: False\n",
      "Greater Than: True\n"
     ]
    }
   ],
   "source": [
    "class MyClass:\n",
    "    def __init__(self, value):\n",
    "        self.value = value\n",
    "    def __add__(self, other):     # Addition (+)\n",
    "        return self.value + other.value\n",
    "    def __sub__(self, other):    # Subtraction (-)\n",
    "        return self.value - other.value\n",
    "    def __mul__(self, other):    # Multiplication (*)\n",
    "        return self.value * other.value\n",
    "    def __truediv__(self, other):    # Division (/)\n",
    "        return self.value / other.value\n",
    "    def __eq__(self, other):    # Equality (==)\n",
    "        return self.value == other.value\n",
    "    def __lt__(self, other):    # Less Than (<)\n",
    "        return self.value < other.value\n",
    "    def __gt__(self, other):    # Greater Than (>)\n",
    "        return self.value > other.value\n",
    "# Create instances\n",
    "obj1 = MyClass(5)\n",
    "obj2 = MyClass(3)\n",
    "# Overloaded operators\n",
    "print(\"Addition:\", obj1 + obj2)  # Output: 8\n",
    "print(\"Subtraction:\", obj1 - obj2)  # Output: 2\n",
    "print(\"Multiplication:\", obj1 * obj2)  # Output: 15\n",
    "print(\"Division:\", obj1 / obj2)  # Output: 1.6666666666666667\n",
    "print(\"Equality:\", obj1 == obj2)  # Output: False\n",
    "print(\"Less Than:\", obj1 < obj2)  # Output: False\n",
    "print(\"Greater Than:\", obj1 > obj2)  # Output: True"
   ]
  },
  {
   "cell_type": "code",
   "execution_count": 5,
   "id": "fcb100ce-707b-4630-97ea-5bb6ca89daeb",
   "metadata": {},
   "outputs": [
    {
     "name": "stdout",
     "output_type": "stream",
     "text": [
      "Custom string concatenation: Hello---World\n"
     ]
    }
   ],
   "source": [
    "class CustomString:\n",
    "    def __init__(self, string):\n",
    "        self.string = string\n",
    "    def __add__(self, other):\n",
    "        return CustomString(f\"{self.string}---{other.string}\")\n",
    "    def __str__(self):\n",
    "        return self.string\n",
    "# Problem: Concatenate two strings with a special delimiter\n",
    "s1 = CustomString(\"Hello\")\n",
    "s2 = CustomString(\"World\")\n",
    "s3 = s1 + s2\n",
    "print(\"Custom string concatenation:\", s3)  # Output: Hello---World"
   ]
  },
  {
   "cell_type": "markdown",
   "id": "ee808d96-c3f9-47a5-b1d5-50560a52905b",
   "metadata": {},
   "source": [
    "In this program, we define a class CustomString representing strings with special concatenation behavior.  \n",
    "The __ add __ method is overridden to define the behavior of the + operator for instances of CustomString.  \n",
    "When two CustomString instances are added together, the __ add __ method is called, which concatenates the strings with a special delimiter (--- in this case).  \n",
    "This demonstrates operator overloading, where the behavior of the + operator is defined for instances of the CustomString class.  "
   ]
  },
  {
   "cell_type": "markdown",
   "id": "718576a0-9ff2-49c9-bd4c-9205dc12d419",
   "metadata": {},
   "source": [
    "__ add __(self, other):  \r\n",
    "This method is called when two instances of CustomString are added using the + operator.  \r\n",
    "The method takes two parameters: self (the instance on which the method is called) and other (the other operand of the addition).  \r\n",
    "In this implementation, other represents another instance of CustomString.  \r\n",
    "Inside the method, a new CustomString object is created by concatenating the strings from self.string and other.string with a special delimiter (---).  \r\n",
    "The new CustomString object is then returned as the result of the addition operation.  \r\n",
    "__ str __(self):  \r\n",
    "This method is called when the str() function is applied to an instance of CustomString, or when the instance is used in a context where a string representation is required (e.g., when printing the instance).  \r\n",
    "The method takes only one parameter: self.  \r\n",
    "Inside the method, it returns the string representation of the CustomString instance, which is simply the value of self.string.  \r\n",
    "This allows instances of CustomString to be used in string contexts seamlessly.  "
   ]
  }
 ],
 "metadata": {
  "kernelspec": {
   "display_name": "Python 3 (ipykernel)",
   "language": "python",
   "name": "python3"
  },
  "language_info": {
   "codemirror_mode": {
    "name": "ipython",
    "version": 3
   },
   "file_extension": ".py",
   "mimetype": "text/x-python",
   "name": "python",
   "nbconvert_exporter": "python",
   "pygments_lexer": "ipython3",
   "version": "3.12.2"
  }
 },
 "nbformat": 4,
 "nbformat_minor": 5
}
