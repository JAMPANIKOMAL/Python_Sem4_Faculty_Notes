{
 "cells": [
  {
   "cell_type": "markdown",
   "id": "22287a84-c7ea-4eb7-a910-fa9ae2867db7",
   "metadata": {},
   "source": [
    "### Employee Salary Calculation:\r\n",
    "Create a class Employee with methods to input hours worked and calculate salary. Perform these operations for an employee object."
   ]
  },
  {
   "cell_type": "code",
   "execution_count": 1,
   "id": "b7be56b4-22a8-4fac-b454-f3b70a346941",
   "metadata": {},
   "outputs": [],
   "source": [
    "class Employee:\n",
    "    def __init__(self, rate_per_hour):\n",
    "        self.rate_per_hour = rate_per_hour\n",
    "    def input_hours_worked(self):\n",
    "        self.hours_worked = float(input(\"Enter hours worked: \"))\n",
    "    def calculate_salary(self):\n",
    "        return self.hours_worked * self.rate_per_hour"
   ]
  },
  {
   "cell_type": "code",
   "execution_count": 2,
   "id": "13106dc3-0586-4dcf-bf6c-787c06759f84",
   "metadata": {},
   "outputs": [],
   "source": [
    "# Create an object of Employee class\n",
    "employee1 = Employee(10)"
   ]
  },
  {
   "cell_type": "code",
   "execution_count": 3,
   "id": "0577afd1-56f1-457e-b623-e9c1b0040edb",
   "metadata": {},
   "outputs": [
    {
     "name": "stdin",
     "output_type": "stream",
     "text": [
      "Enter hours worked:  2\n"
     ]
    },
    {
     "name": "stdout",
     "output_type": "stream",
     "text": [
      "Salary: 20.0\n"
     ]
    }
   ],
   "source": [
    "# Perform operations\n",
    "employee1.input_hours_worked()\n",
    "print(\"Salary:\", employee1.calculate_salary())"
   ]
  },
  {
   "cell_type": "markdown",
   "id": "2d210f5d-682a-4ba9-a1ee-8d1dcc1ced11",
   "metadata": {},
   "source": [
    "### Student Grade Calculation:\r\n",
    "Create a class Student with methods to input marks, calculate he ttotal, and calculate gradse. Perform these operations for a student object."
   ]
  },
  {
   "cell_type": "code",
   "execution_count": 7,
   "id": "e9d94d5a-b2c3-4441-a6a3-26141c6c7f80",
   "metadata": {},
   "outputs": [],
   "source": [
    "class Student:\n",
    "    def __init__(self):\n",
    "        self.marks = []\n",
    "    def input_marks(self):\n",
    "        n = int(input(\"Enter the number of subjects: \"))\n",
    "        for i in range(n):\n",
    "            mark = float(input(\"Enter mark: \"))\n",
    "            self.marks.append(mark)\n",
    "    def calculate_total(self):\n",
    "        return sum(self.marks)\n",
    "    def calculate_grade(self):\n",
    "        total = self.calculate_total()\n",
    "        if total >= 80:\n",
    "            return \"A\"\n",
    "        elif total >= 60:\n",
    "            return \"B\"\n",
    "        elif total >= 40:\n",
    "            return \"C\"\n",
    "        else:\n",
    "            return \"Fail\""
   ]
  },
  {
   "cell_type": "code",
   "execution_count": 8,
   "id": "35f5cd10-0cd0-4b44-8e3f-fc9dd91a30ce",
   "metadata": {},
   "outputs": [],
   "source": [
    "# Create an object of Student class\n",
    "student1 = Student()"
   ]
  },
  {
   "cell_type": "code",
   "execution_count": 9,
   "id": "b2972464-ee08-410f-9d78-4fd3953f87ed",
   "metadata": {},
   "outputs": [
    {
     "name": "stdin",
     "output_type": "stream",
     "text": [
      "Enter the number of subjects:  2\n",
      "Enter mark:  30\n",
      "Enter mark:  20\n"
     ]
    },
    {
     "name": "stdout",
     "output_type": "stream",
     "text": [
      "Total marks: 50.0\n",
      "Grade: C\n"
     ]
    }
   ],
   "source": [
    "# Perform operations\n",
    "student1.input_marks()\n",
    "total_marks = student1.calculate_total()\n",
    "print(\"Total marks:\", total_marks)\n",
    "print(\"Grade:\", student1.calculate_grade())"
   ]
  },
  {
   "cell_type": "markdown",
   "id": "56258680-4e5f-4d98-99a3-9531c739bade",
   "metadata": {
    "jp-MarkdownHeadingCollapsed": true
   },
   "source": [
    "### Library Book Management:\r\n",
    "Create a class Book to represent a book with attributes such as title, author, and status (whether the book is available or borrowed). Implement methods to borrow and return the book, as well as display book information."
   ]
  },
  {
   "cell_type": "code",
   "execution_count": 10,
   "id": "c8015cd6-df89-4ca5-abd0-82d26dd37e96",
   "metadata": {},
   "outputs": [],
   "source": [
    "class Book:\n",
    "    def __init__(self, title, author):\n",
    "        self.title = title\n",
    "        self.author = author\n",
    "        self.available = True\n",
    "    def borrow_book(self):\n",
    "        if self.available:\n",
    "            self.available = False\n",
    "            print(f\"{self.title} by {self.author} has been borrowed.\")\n",
    "        else:\n",
    "            print(\"Sorry, the book is not available.\")\n",
    "    def return_book(self):\n",
    "        if not self.available:\n",
    "            self.available = True\n",
    "            print(f\"{self.title} by {self.author} has been returned.\")\n",
    "        else:\n",
    "            print(\"The book is already available.\")\n",
    "    def display_info(self):\n",
    "        status = \"Available\" if self.available else \"Borrowed\"\n",
    "        print(f\"Title: {self.title}\\nAuthor: {self.author}\\nStatus: {status}\")"
   ]
  },
  {
   "cell_type": "code",
   "execution_count": 11,
   "id": "e98325e1-e10c-4b44-a107-471121f1184b",
   "metadata": {},
   "outputs": [],
   "source": [
    "# Create objects of Book class\n",
    "book1 = Book(\"The Great Gatsby\", \"F. Scott Fitzgerald\")\n",
    "book2 = Book(\"To Kill a Mockingbird\", \"Harper Lee\")"
   ]
  },
  {
   "cell_type": "code",
   "execution_count": 12,
   "id": "3d174b45-e946-4c89-9b69-b5c58d76b09e",
   "metadata": {},
   "outputs": [
    {
     "name": "stdout",
     "output_type": "stream",
     "text": [
      "Title: The Great Gatsby\n",
      "Author: F. Scott Fitzgerald\n",
      "Status: Available\n",
      "The Great Gatsby by F. Scott Fitzgerald has been borrowed.\n",
      "Title: The Great Gatsby\n",
      "Author: F. Scott Fitzgerald\n",
      "Status: Borrowed\n",
      "Sorry, the book is not available.\n",
      "The Great Gatsby by F. Scott Fitzgerald has been returned.\n",
      "Title: The Great Gatsby\n",
      "Author: F. Scott Fitzgerald\n",
      "Status: Available\n"
     ]
    }
   ],
   "source": [
    "# Perform operations\n",
    "book1.display_info()\n",
    "book1.borrow_book()\n",
    "book1.display_info()\n",
    "book1.borrow_book()\n",
    "book1.return_book()\n",
    "book1.display_info()"
   ]
  }
 ],
 "metadata": {
  "kernelspec": {
   "display_name": "Python 3 (ipykernel)",
   "language": "python",
   "name": "python3"
  },
  "language_info": {
   "codemirror_mode": {
    "name": "ipython",
    "version": 3
   },
   "file_extension": ".py",
   "mimetype": "text/x-python",
   "name": "python",
   "nbconvert_exporter": "python",
   "pygments_lexer": "ipython3",
   "version": "3.12.2"
  }
 },
 "nbformat": 4,
 "nbformat_minor": 5
}
