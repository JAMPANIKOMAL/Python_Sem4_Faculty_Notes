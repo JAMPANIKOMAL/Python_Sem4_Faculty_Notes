{
 "cells": [
  {
   "cell_type": "markdown",
   "id": "ac10f9b7-024b-44fa-870f-b88728b9a8e9",
   "metadata": {},
   "source": [
    "# Inheritance\n",
    "Inheritance is a fundamental concept in object-oriented programming (OOP) where a class (subclass or child class) can inherit attributes and methods from another class (superclass or parent class). This allows for code reuse, extensibility, and the creation of a hierarchy of classes."
   ]
  },
  {
   "cell_type": "markdown",
   "id": "ddc35829-740b-4a6d-8390-cbc56769698e",
   "metadata": {},
   "source": [
    "1. Parent Class (Superclass):\n",
    "- The parent class is the class that is being inherited from.\n",
    "- It contains attributes and methods that are common to multiple subclasses.\n",
    "- It is also known as the superclass or base class.\n",
    "2. Child Class (Subclass):\n",
    "- The child class is the class that inherits from the parent class.\n",
    "- It can add additional attributes and methods or override existing ones.\n",
    "- It is also known as the subclass or derived class."
   ]
  },
  {
   "cell_type": "code",
   "execution_count": null,
   "id": "611b1a7e-b75c-4d7d-8fe1-5cb9a83c1042",
   "metadata": {},
   "outputs": [],
   "source": [
    "class ParentClass:\n",
    "    # Parent class definition\n",
    "\n",
    "class ChildClass(ParentClass):\n",
    "    # Child class definition"
   ]
  },
  {
   "cell_type": "markdown",
   "id": "3f838cf2-fb17-4934-9b29-ef4365c9b5fe",
   "metadata": {},
   "source": [
    "The ChildClass inherits all attributes and methods from the ParentClass. It can also define its own attributes and methods or override the ones inherited from the parent class."
   ]
  },
  {
   "cell_type": "code",
   "execution_count": 65,
   "id": "19f10f6e-796a-4907-af83-6737e35560d4",
   "metadata": {},
   "outputs": [],
   "source": [
    "class Animal:\n",
    "    def nam(self,species):\n",
    "        self.species = species\n",
    "    def make_sound(self):\n",
    "        print(\"Animal makes a sound\")\n",
    "\n",
    "class Dog(Animal):\n",
    "    def __init__(self, name):\n",
    "        super().nam(\"Dog\")\n",
    "        self.name = name\n",
    "    def make_sound(self):\n",
    "        super().make_sound()\n",
    "        print(\"Woof\")"
   ]
  },
  {
   "cell_type": "code",
   "execution_count": 66,
   "id": "64d9f50c-901b-4ec8-813b-1a3ce647d420",
   "metadata": {},
   "outputs": [],
   "source": [
    "# Create an object of the Dog class\n",
    "dog1 = Dog(\"Buddy\")"
   ]
  },
  {
   "cell_type": "code",
   "execution_count": 67,
   "id": "2322b33d-cd28-45c4-aef4-c1d88dc79956",
   "metadata": {},
   "outputs": [
    {
     "name": "stdout",
     "output_type": "stream",
     "text": [
      "Species: Dog\n",
      "Name: Buddy\n",
      "Animal makes a sound\n",
      "Woof\n"
     ]
    }
   ],
   "source": [
    "# Access attributes and methods from both parent and child classes\n",
    "print(\"Species:\", dog1.species)\n",
    "print(\"Name:\", dog1.name)\n",
    "dog1.make_sound()  # This will call the make_sound method of the Dog class"
   ]
  },
  {
   "cell_type": "code",
   "execution_count": 52,
   "id": "38dbfdf5-66bc-4c50-b2ed-7e50559e7009",
   "metadata": {},
   "outputs": [
    {
     "ename": "RuntimeError",
     "evalue": "super(): no arguments",
     "output_type": "error",
     "traceback": [
      "\u001b[1;31m---------------------------------------------------------------------------\u001b[0m",
      "\u001b[1;31mRuntimeError\u001b[0m                              Traceback (most recent call last)",
      "Cell \u001b[1;32mIn[52], line 1\u001b[0m\n\u001b[1;32m----> 1\u001b[0m \u001b[38;5;28;43msuper\u001b[39;49m\u001b[43m(\u001b[49m\u001b[43m)\u001b[49m\u001b[38;5;241m.\u001b[39mdog1\u001b[38;5;241m.\u001b[39mmake_sound()\n",
      "\u001b[1;31mRuntimeError\u001b[0m: super(): no arguments"
     ]
    }
   ],
   "source": []
  },
  {
   "cell_type": "markdown",
   "id": "9c037cc4-1ee5-4460-9027-c0d97054dc67",
   "metadata": {},
   "source": [
    "## Vehicle Hierarchy\n",
    "Create a base class Vehicle with attributes like make, model, and year, and a method to display vehicle information. Then create subclasses Car and Motorcycle that are inherited from the Vehicle and add their specific attributes like seating capacity or type of engine."
   ]
  },
  {
   "cell_type": "code",
   "execution_count": 36,
   "id": "9beaa6e0-dbc9-4243-94d2-94e9ae18cd67",
   "metadata": {},
   "outputs": [],
   "source": [
    "class Vehicle:\n",
    "    def __init__(self, make, model, year):\n",
    "        self.make = make\n",
    "        self.model = model\n",
    "        self.year = year\n",
    "    def display_info(self):\n",
    "        print(\"Make:\", self.make, \"Model:\", self.model, \"Year:\", self.year)"
   ]
  },
  {
   "cell_type": "code",
   "execution_count": 37,
   "id": "432ceee4-aeb7-4745-9c8a-3d8c54de31e5",
   "metadata": {},
   "outputs": [],
   "source": [
    "class Car(Vehicle):\n",
    "    def __init__(self, make, model, year, seating_capacity):\n",
    "        super().__init__(make, model, year)\n",
    "        self.seating_capacity = seating_capacity"
   ]
  },
  {
   "cell_type": "code",
   "execution_count": 38,
   "id": "98832163-f8c3-4ed0-82e7-08c21c289af2",
   "metadata": {},
   "outputs": [],
   "source": [
    "class Motorcycle(Vehicle):\n",
    "    def __init__(self, make, model, year, engine_type):\n",
    "        super().__init__(make, model, year)\n",
    "        self.engine_type = engine_type"
   ]
  },
  {
   "cell_type": "code",
   "execution_count": 39,
   "id": "7135d4de-d48a-4d32-95a3-951bcd2ebf8b",
   "metadata": {},
   "outputs": [],
   "source": [
    "# Create objects of Car and Motorcycle classes\n",
    "car = Car(\"Toyota\", \"Corolla\", 2020, 5)\n",
    "motorcycle = Motorcycle(\"Honda\", \"CBR500R\", 2021, \"Inline-four\")"
   ]
  },
  {
   "cell_type": "code",
   "execution_count": 40,
   "id": "0e046bf4-3f92-444e-9c4d-921243ef60db",
   "metadata": {},
   "outputs": [
    {
     "name": "stdout",
     "output_type": "stream",
     "text": [
      "Make: Toyota Model: Corolla Year: 2020\n",
      "Make: Honda Model: CBR500R Year: 2021\n"
     ]
    }
   ],
   "source": [
    "# Display vehicle information\n",
    "car.display_info()\n",
    "motorcycle.display_info()"
   ]
  },
  {
   "cell_type": "markdown",
   "id": "06a8954d-1bed-4b19-a136-242e64139702",
   "metadata": {},
   "source": [
    "## Employee Hierarchy\n",
    "Create a base class Employee with attributes like name, ID, and salary, and methods to calculate and display details. Then create subclasses Manager and Developer that inherit from Employee and add attributes like department or programming language."
   ]
  },
  {
   "cell_type": "code",
   "execution_count": 41,
   "id": "50468145-ec83-4a0e-aa8c-d318f3ff917f",
   "metadata": {},
   "outputs": [],
   "source": [
    "class Employee:\n",
    "    def __init__(self, name, employee_id, salary):\n",
    "        self.name = name\n",
    "        self.employee_id = employee_id\n",
    "        self.salary = salary\n",
    "    def calculate_salary(self):\n",
    "        return self.salary\n",
    "    def display_details(self):\n",
    "        print(\"Name:\", self.name)\n",
    "        print(\"Employee ID:\", self.employee_id)\n",
    "        print(\"Salary:\", self.salary)"
   ]
  },
  {
   "cell_type": "code",
   "execution_count": 42,
   "id": "53073f63-29b0-4b7a-affa-25cf872a6e02",
   "metadata": {},
   "outputs": [],
   "source": [
    "class Manager(Employee):\n",
    "    def __init__(self, name, employee_id, salary, department):\n",
    "        super().__init__(name, employee_id, salary)\n",
    "        self.department = department\n",
    "    def display_details(self):\n",
    "        super().display_details()\n",
    "        print(\"Department:\", self.department)"
   ]
  },
  {
   "cell_type": "code",
   "execution_count": 43,
   "id": "ad22864d-5efa-439c-9c7b-39073b628282",
   "metadata": {},
   "outputs": [],
   "source": [
    "class Developer(Employee):\n",
    "    def __init__(self, name, employee_id, salary, programming_language):\n",
    "        super().__init__(name, employee_id, salary)\n",
    "        self.programming_language = programming_language\n",
    "    def display_details(self):\n",
    "        super().display_details()\n",
    "        print(\"Programming Language:\", self.programming_language)"
   ]
  },
  {
   "cell_type": "code",
   "execution_count": 44,
   "id": "049f9886-1b75-48a9-b753-5f8e29c782fa",
   "metadata": {},
   "outputs": [],
   "source": [
    "# Create objects of Manager and Developer classes\n",
    "manager = Manager(\"John Doe\", \"M001\", 70000, \"Engineering\")\n",
    "developer = Developer(\"Jane Smith\", \"D001\", 60000, \"Python\")"
   ]
  },
  {
   "cell_type": "code",
   "execution_count": 45,
   "id": "aba63f8a-1f6c-48fa-b0e8-f98abf959272",
   "metadata": {},
   "outputs": [
    {
     "name": "stdout",
     "output_type": "stream",
     "text": [
      "Name: John Doe\n",
      "Employee ID: M001\n",
      "Salary: 70000\n",
      "Department: Engineering\n",
      "Name: Jane Smith\n",
      "Employee ID: D001\n",
      "Salary: 60000\n",
      "Programming Language: Python\n"
     ]
    }
   ],
   "source": [
    "# Display employee details\n",
    "manager.display_details()\n",
    "developer.display_details()"
   ]
  },
  {
   "cell_type": "code",
   "execution_count": null,
   "id": "f9367ace-e41f-41f9-957d-c6022d0b692c",
   "metadata": {},
   "outputs": [],
   "source": []
  }
 ],
 "metadata": {
  "kernelspec": {
   "display_name": "Python 3 (ipykernel)",
   "language": "python",
   "name": "python3"
  },
  "language_info": {
   "codemirror_mode": {
    "name": "ipython",
    "version": 3
   },
   "file_extension": ".py",
   "mimetype": "text/x-python",
   "name": "python",
   "nbconvert_exporter": "python",
   "pygments_lexer": "ipython3",
   "version": "3.12.2"
  }
 },
 "nbformat": 4,
 "nbformat_minor": 5
}
