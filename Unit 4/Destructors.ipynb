{
 "cells": [
  {
   "cell_type": "markdown",
   "id": "02d48f1c-7d65-48e0-b739-ff1b174e9f5f",
   "metadata": {},
   "source": [
    "# Destructors\n",
    "- In Python, the destructor method is called __ del__.  \r\n",
    "- It is automatically invoked when an object is about to be destroyed (i.e., when the object is no longer referenced or garbage collected).  \r\n",
    "- The primary purpose of the destructor is to perform cleanup actions such as releasing resources or closing files.  "
   ]
  },
  {
   "cell_type": "code",
   "execution_count": 1,
   "id": "d31445e2-65ee-4baf-aba4-e7750a528022",
   "metadata": {},
   "outputs": [
    {
     "name": "stdout",
     "output_type": "stream",
     "text": [
      "Destructor called, object deleted\n"
     ]
    }
   ],
   "source": [
    "class MyClass:\n",
    "    def __del__(self):\n",
    "        print(\"Destructor called, object deleted\")\n",
    "# Create an object of MyClass\n",
    "obj = MyClass()\n",
    "# Delete the object\n",
    "del obj"
   ]
  },
  {
   "cell_type": "code",
   "execution_count": 1,
   "id": "2c7948f8-2eb5-4ad3-afdf-01957ba8e208",
   "metadata": {},
   "outputs": [],
   "source": [
    "class BankAccount:\n",
    "    def __init__(self, balance=0):\n",
    "        self.balance = balance\n",
    "    def deposit(self, amount):\n",
    "        self.balance += amount\n",
    "    def withdraw(self, amount):\n",
    "        if amount > 0 and amount <= self.balance:\n",
    "            self.balance -= amount\n",
    "        else:\n",
    "            print(\"Invalid withdrawal amount or insufficient funds.\")\n",
    "    def display_balance(self):\n",
    "        print(\"Balance:\", self.balance)\n",
    "    def __del__(self):\n",
    "        print(\"Bank account object destroyed.\")"
   ]
  },
  {
   "cell_type": "code",
   "execution_count": 2,
   "id": "1e6845ff-f071-4bef-9b90-0a95d8e09f18",
   "metadata": {},
   "outputs": [],
   "source": [
    "# Create an object of BankAccount class\n",
    "account1 = BankAccount()"
   ]
  },
  {
   "cell_type": "code",
   "execution_count": 3,
   "id": "55134d9b-ccd9-4553-a925-e4184c65f7f7",
   "metadata": {},
   "outputs": [
    {
     "name": "stdout",
     "output_type": "stream",
     "text": [
      "Balance: 1000\n",
      "Balance: 500\n"
     ]
    }
   ],
   "source": [
    "# Perform operations\n",
    "account1.deposit(1000)\n",
    "account1.display_balance()\n",
    "account1.withdraw(500)\n",
    "account1.display_balance()\n",
    "# Destructor will be called automatically when the object is no longer referenced"
   ]
  },
  {
   "cell_type": "code",
   "execution_count": 4,
   "id": "d09d7929-35f6-4d7a-880a-6e9ab3d31ed1",
   "metadata": {},
   "outputs": [
    {
     "name": "stdout",
     "output_type": "stream",
     "text": [
      "Bank account object destroyed.\n"
     ]
    }
   ],
   "source": [
    "del account1"
   ]
  },
  {
   "cell_type": "code",
   "execution_count": null,
   "id": "8c03bc03-8589-4da0-a2b4-3ca202fb04f4",
   "metadata": {},
   "outputs": [],
   "source": []
  }
 ],
 "metadata": {
  "kernelspec": {
   "display_name": "Python 3 (ipykernel)",
   "language": "python",
   "name": "python3"
  },
  "language_info": {
   "codemirror_mode": {
    "name": "ipython",
    "version": 3
   },
   "file_extension": ".py",
   "mimetype": "text/x-python",
   "name": "python",
   "nbconvert_exporter": "python",
   "pygments_lexer": "ipython3",
   "version": "3.12.2"
  }
 },
 "nbformat": 4,
 "nbformat_minor": 5
}
