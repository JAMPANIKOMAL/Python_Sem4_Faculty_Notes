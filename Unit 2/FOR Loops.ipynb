{
 "cells": [
  {
   "cell_type": "markdown",
   "id": "53c5a597-c961-4041-9e44-8a29f41a4433",
   "metadata": {},
   "source": [
    "# Simple for Loops & using ranges in Python \r\n",
    "A for loop is used for iterating over a sequence (such as a list, tuple, dictionary, set, or string). It allows you to execute a set of statements once for each item in the sequence. Here are some examples:"
   ]
  },
  {
   "cell_type": "markdown",
   "id": "cb8cde8c-3a5a-4877-bd28-f5f7ab90d49f",
   "metadata": {},
   "source": [
    "### RANGE()\n",
    "The range() function in Python generates an immutable sequence of numbers. It allows you to create a range of integers from a specified starting point to a specified stopping point, with an optional step value. Here are the key points about range():\n"
   ]
  },
  {
   "cell_type": "code",
   "execution_count": 2,
   "id": "e1707bcf-37c7-497d-a003-c6a5846bcd8a",
   "metadata": {},
   "outputs": [
    {
     "name": "stdout",
     "output_type": "stream",
     "text": [
      "0\n",
      "1\n",
      "2\n",
      "3\n",
      "4\n",
      "5\n"
     ]
    }
   ],
   "source": [
    "x = range(6)\n",
    "for n in x:\n",
    "    print(n)"
   ]
  },
  {
   "cell_type": "markdown",
   "id": "32579d96-2f29-44da-a2a9-32c4ca7c16dc",
   "metadata": {},
   "source": [
    "#### Parameters:\r\n",
    "start (optional): An integer specifying the starting point of the range. If not provided, it defaults to 0.  \r\n",
    "stop (required): An integer specifying the stopping point (not included) of the range.  \r\n",
    "step (optional): An integer specifying the incrementation. By default, it increments by.   1."
   ]
  },
  {
   "cell_type": "code",
   "execution_count": 3,
   "id": "0f85e579-89fe-42f0-b985-a8da356beef8",
   "metadata": {},
   "outputs": [
    {
     "name": "stdout",
     "output_type": "stream",
     "text": [
      "3\n",
      "4\n",
      "5\n"
     ]
    }
   ],
   "source": [
    "x = range(3, 6)\n",
    "for n in x:\n",
    "    print(n)"
   ]
  },
  {
   "cell_type": "code",
   "execution_count": 4,
   "id": "65aaef0f-7a1a-49f5-b4e8-425775b6af82",
   "metadata": {},
   "outputs": [
    {
     "name": "stdout",
     "output_type": "stream",
     "text": [
      "3\n",
      "5\n",
      "7\n",
      "9\n",
      "11\n",
      "13\n",
      "15\n",
      "17\n",
      "19\n"
     ]
    }
   ],
   "source": [
    "x = range(3, 20, 2)\n",
    "for n in x:\n",
    "    print(n)"
   ]
  },
  {
   "cell_type": "code",
   "execution_count": 5,
   "id": "4ba63402-02b3-4007-8641-48edce31ef4c",
   "metadata": {},
   "outputs": [
    {
     "name": "stdout",
     "output_type": "stream",
     "text": [
      "25\n",
      "26\n",
      "27\n",
      "28\n"
     ]
    }
   ],
   "source": [
    "# Iterate over a range of numbers\n",
    "for i in range(25, 29):\n",
    "    print(i)"
   ]
  },
  {
   "cell_type": "code",
   "execution_count": 6,
   "id": "1eac8864-738a-4203-af4e-9314c5989dbb",
   "metadata": {},
   "outputs": [
    {
     "name": "stdout",
     "output_type": "stream",
     "text": [
      "apple\n",
      "banana\n",
      "cherry\n"
     ]
    }
   ],
   "source": [
    "# Iterate over items in a list\n",
    "my_list = ['apple', 'banana', 'cherry']\n",
    "for x in my_list:\n",
    "    print(x)\n"
   ]
  },
  {
   "cell_type": "code",
   "execution_count": 9,
   "id": "0c8b8145-251a-49e8-8a75-e4120333d27c",
   "metadata": {},
   "outputs": [
    {
     "name": "stdout",
     "output_type": "stream",
     "text": [
      "Index: 0, Fruit: apple\n",
      "Index: 1, Fruit: banana\n",
      "Index: 2, Fruit: cherry\n",
      "Index: 3, Fruit: date\n"
     ]
    }
   ],
   "source": [
    "# Looping with index and elements\n",
    "fruits = [\"apple\", \"banana\", \"cherry\", \"date\"]\n",
    "\n",
    "for index, fruit in enumerate(fruits):\n",
    "    print(f\"Index: {index}, Fruit: {fruit}\")\n"
   ]
  },
  {
   "cell_type": "markdown",
   "id": "42fcf9a4-9c93-49e1-93e1-23ca7a65912a",
   "metadata": {},
   "source": [
    "This loop iterates over each element in the fruits list along with its index.  \n",
    "\n",
    "The enumerate() function returns a tuple containing the index and the element in each iteration  \n",
    "\r\n",
    "Inside the loop, print(f\"Index: {index}, Fruit: {fruit}\") prints the index and the corresponding fruit for each iteration."
   ]
  },
  {
   "cell_type": "code",
   "execution_count": 10,
   "id": "d0c2c9bc-4a51-4b41-9456-eed833006a67",
   "metadata": {},
   "outputs": [
    {
     "name": "stdout",
     "output_type": "stream",
     "text": [
      "1 1\n",
      "1 2\n",
      "1 3\n",
      "2 1\n",
      "2 2\n",
      "2 3\n",
      "3 1\n",
      "3 2\n",
      "3 3\n"
     ]
    }
   ],
   "source": [
    "# Nested loops\n",
    "for i in range(1, 4):\n",
    "    for j in range(1, 4):\n",
    "        print(i, j)\n"
   ]
  },
  {
   "cell_type": "code",
   "execution_count": 11,
   "id": "83dfc6a8-7143-417f-bc1b-c2f6adbecd8d",
   "metadata": {},
   "outputs": [
    {
     "name": "stdout",
     "output_type": "stream",
     "text": [
      "name: John\n",
      "age: 30\n",
      "city: New York\n"
     ]
    }
   ],
   "source": [
    "# Looping through a dictionary\n",
    "person = {\"name\": \"John\", \"age\": 30, \"city\": \"New York\"}\n",
    "for key, value in person.items():\n",
    "    print(f\"{key}: {value}\")\n"
   ]
  },
  {
   "cell_type": "code",
   "execution_count": null,
   "id": "854d25db-d033-42fa-a6de-b48d23e4fee0",
   "metadata": {},
   "outputs": [],
   "source": []
  }
 ],
 "metadata": {
  "kernelspec": {
   "display_name": "Python 3 (ipykernel)",
   "language": "python",
   "name": "python3"
  },
  "language_info": {
   "codemirror_mode": {
    "name": "ipython",
    "version": 3
   },
   "file_extension": ".py",
   "mimetype": "text/x-python",
   "name": "python",
   "nbconvert_exporter": "python",
   "pygments_lexer": "ipython3",
   "version": "3.12.2"
  }
 },
 "nbformat": 4,
 "nbformat_minor": 5
}
