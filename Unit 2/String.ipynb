{
 "cells": [
  {
   "cell_type": "markdown",
   "id": "0283db92-bb7e-4c9b-a627-6488f398abd1",
   "metadata": {},
   "source": [
    "## What is a String in Python?\r\n",
    "A string in Python represents a sequence of characters. It’s an immutable data type, meaning once you create a string, you cannot change it.  \r\n",
    "Strings are widely used for storing and manipulating text data, representing names, addresses, and other types of information that can be expressed as text1.  \r\n",
    "### Creating a String:  \r\n",
    "You can define a string using single quotes (' '), double quotes (\" \"), or even triple quotes (\"\"\" \"\"\").  \r\n",
    "Triple quotes allow you to declare multiline strings in Python.ython"
   ]
  },
  {
   "cell_type": "code",
   "execution_count": 1,
   "id": "a220a313-b3e2-4b8b-9d7c-30d565ddbeb8",
   "metadata": {},
   "outputs": [
    {
     "name": "stdout",
     "output_type": "stream",
     "text": [
      "String with Single Quotes:  Welcome to the Geeks World\n",
      "\n",
      "String with Double Quotes:  I'm a Geek\n",
      "\n",
      "String with Triple Quotes:  I'm a Geek and I live in a world of \"Geeks\"\n",
      "\n",
      "Creating a multiline String:  Geeks For Life\n"
     ]
    }
   ],
   "source": [
    "String1 = 'Welcome to the Geeks World'\n",
    "print(\"String with Single Quotes: \", String1)\n",
    "String1 = \"I'm a Geek\"\n",
    "print(\"\\nString with Double Quotes: \", String1)\n",
    "String1 = '''I'm a Geek and I live in a world of \"Geeks\"'''\n",
    "print(\"\\nString with Triple Quotes: \", String1)\n",
    "String1 = '''Geeks For Life'''\n",
    "print(\"\\nCreating a multiline String: \", String1)"
   ]
  },
  {
   "cell_type": "markdown",
   "id": "67d2b156-8606-40e5-9543-1170966edc59",
   "metadata": {},
   "source": [
    "### Accessing Characters in a String:\r\n",
    "You can access individual characters using indexing.  \r\n",
    "Indexing allows both positive (from the start) and negative (from the end) references.  s."
   ]
  },
  {
   "cell_type": "code",
   "execution_count": 2,
   "id": "250a024f-1278-4d75-8d53-f39b23d653c7",
   "metadata": {},
   "outputs": [
    {
     "name": "stdout",
     "output_type": "stream",
     "text": [
      "Initial String:  GeeksForGeeks\n",
      "First character:  G\n",
      "Last character:  s\n"
     ]
    }
   ],
   "source": [
    "String1 = \"GeeksForGeeks\"\n",
    "print(\"Initial String: \", String1)\n",
    "print(\"First character: \", String1[0])\n",
    "print(\"Last character: \", String1[-1])\n"
   ]
  },
  {
   "cell_type": "markdown",
   "id": "7e88e250-1dcb-4350-9c4a-b350cd7dbad6",
   "metadata": {},
   "source": [
    "### String Slicing:\n",
    "Use the slicing operator (:) to access a range of characters in a string.  \n",
    "The sliced string includes the character at the start index but not the one at the last index."
   ]
  },
  {
   "cell_type": "code",
   "execution_count": 3,
   "id": "784cc31f-7f84-4bfd-8bad-687b98a416ea",
   "metadata": {},
   "outputs": [
    {
     "name": "stdout",
     "output_type": "stream",
     "text": [
      "Substring from index 7 to the end: World!\n",
      "Sliced String:  World\n",
      "el,Wr\n"
     ]
    }
   ],
   "source": [
    "String1 = \"Hello, World!\"\n",
    "print(\"Substring from index 7 to the end:\", String1[7:])\n",
    "print(\"Sliced String: \", String1[7:12])  # Outputs \"World\"\n",
    "print(String1[1:10:2])"
   ]
  },
  {
   "cell_type": "markdown",
   "id": "767aed71-8a00-488b-87eb-f4ab19e15d29",
   "metadata": {},
   "source": [
    "### Concatenation:\n",
    "You can combine two or more strings using the + operator."
   ]
  },
  {
   "cell_type": "code",
   "execution_count": 7,
   "id": "9187eee2-bc4e-471f-9b87-35496c01c7cd",
   "metadata": {},
   "outputs": [
    {
     "name": "stdout",
     "output_type": "stream",
     "text": [
      "Full Name: John Doe\n"
     ]
    }
   ],
   "source": [
    "first_name = \"John\"\n",
    "last_name = \"Doe\"\n",
    "full_name = first_name + \" \" + last_name\n",
    "print(\"Full Name:\", full_name)\n"
   ]
  },
  {
   "cell_type": "code",
   "execution_count": 14,
   "id": "95bce7b1-97b4-4c87-b653-f5b5a4856887",
   "metadata": {},
   "outputs": [
    {
     "name": "stdout",
     "output_type": "stream",
     "text": [
      "Concatenated string: John Wick!\n"
     ]
    }
   ],
   "source": [
    "new_string = first_name + \" Wick!\"  # Concatenates the original string with \" Welcome!\"\n",
    "print(\"Concatenated string:\", new_string)"
   ]
  },
  {
   "cell_type": "markdown",
   "id": "09aa9984-fda8-4be4-b840-f416abd7107f",
   "metadata": {},
   "source": [
    "### String Length:\n",
    "To find the length of a string, use the len() function."
   ]
  },
  {
   "cell_type": "code",
   "execution_count": 8,
   "id": "237ad409-60e1-41de-bbd0-8c46cd23b6a1",
   "metadata": {},
   "outputs": [
    {
     "name": "stdout",
     "output_type": "stream",
     "text": [
      "Length of the string: 13\n"
     ]
    }
   ],
   "source": [
    "message = \"Hello, World!\"\n",
    "print(\"Length of the string:\", len(message))\n"
   ]
  },
  {
   "cell_type": "markdown",
   "id": "62987c28-f88c-4f31-8b8c-f3a87f10dd60",
   "metadata": {},
   "source": [
    "### Changing Case:\n",
    "You can convert a string to uppercase or lowercase using the .upper() and .lower() methods."
   ]
  },
  {
   "cell_type": "code",
   "execution_count": 4,
   "id": "e4615c4f-f126-49ee-a9d8-d2ce1360a2bc",
   "metadata": {},
   "outputs": [
    {
     "name": "stdout",
     "output_type": "stream",
     "text": [
      "Uppercase: PYTHON IS FUN\n",
      "Lowercase: python is fun\n",
      "Python is Fun\n"
     ]
    }
   ],
   "source": [
    "text = \"Python is Fun\"\n",
    "print(\"Uppercase:\", text.upper())\n",
    "print(\"Lowercase:\", text.lower())\n",
    "print(text)"
   ]
  },
  {
   "cell_type": "markdown",
   "id": "a3b6700a-ffb2-4bb2-b0f1-b5c74af0480e",
   "metadata": {},
   "source": [
    "### Finding and Replacing:\r\n",
    "Use .find() to locate a substring within a string.  \r\n",
    "Use .replace() to replace a substring with another."
   ]
  },
  {
   "cell_type": "code",
   "execution_count": 8,
   "id": "6e912a82-697e-40e5-91ad-e904dedc9cf0",
   "metadata": {},
   "outputs": [
    {
     "name": "stdout",
     "output_type": "stream",
     "text": [
      "Index of 'Python': -1\n",
      "Updated Quote: Life is short, use JavaScript!\n"
     ]
    }
   ],
   "source": [
    "quote = \"Life is short, use Python!\"\n",
    "print(\"Index of 'Python':\", quote.find(\"Python\"))\n",
    "updated_quote = quote.replace(\"Python\", \"JavaScript\")\n",
    "print(\"Updated Quote:\", updated_quote)\n"
   ]
  },
  {
   "cell_type": "markdown",
   "id": "e669e6b6-968e-4dad-ae20-e35c5d61957c",
   "metadata": {},
   "source": [
    "### Multiline Strings:\n",
    "Create multiline strings using triple quotes (''' or \"\"\")."
   ]
  },
  {
   "cell_type": "code",
   "execution_count": 11,
   "id": "f4a73c21-a40d-421f-8228-490cf34967b9",
   "metadata": {},
   "outputs": [
    {
     "name": "stdout",
     "output_type": "stream",
     "text": [
      "\n",
      "Roses are red,\n",
      "Violets are blue,\n",
      "Sugar is sweet,\n",
      "And so are you.\n",
      "\n"
     ]
    }
   ],
   "source": [
    "poem = \"\"\"\n",
    "Roses are red,\n",
    "Violets are blue,\n",
    "Sugar is sweet,\n",
    "And so are you.\n",
    "\"\"\"\n",
    "print(poem)\n"
   ]
  },
  {
   "cell_type": "markdown",
   "id": "abe48b51-41b8-418a-8332-a87501ad2aca",
   "metadata": {},
   "source": [
    "### Split \n",
    "Split the string and store into a list  of substrings."
   ]
  },
  {
   "cell_type": "code",
   "execution_count": 12,
   "id": "9d66ff3b-15b9-42b9-b3ef-aaec5a08a4ce",
   "metadata": {},
   "outputs": [
    {
     "name": "stdout",
     "output_type": "stream",
     "text": [
      "Split string: ['\\nRoses', 'are', 'red,\\nViolets', 'are', 'blue,\\nSugar', 'is', 'sweet,\\nAnd', 'so', 'are', 'you.\\n']\n"
     ]
    }
   ],
   "source": [
    "# Splitting a string into a list of substring\n",
    "words = poem.split(\" \")  # Splits the string at each comma and space\n",
    "print(\"Split string:\", words) "
   ]
  },
  {
   "cell_type": "markdown",
   "id": "0fd27a45-273c-4e70-bd95-7ba4bd9b7a5d",
   "metadata": {},
   "source": [
    "### Checking Start/End"
   ]
  },
  {
   "cell_type": "code",
   "execution_count": 13,
   "id": "4694c8a2-f886-4b99-9d24-0cc0334c08b4",
   "metadata": {},
   "outputs": [
    {
     "name": "stdout",
     "output_type": "stream",
     "text": [
      "Original string: Hello, World!\n",
      "String starts with 'Hello'\n",
      "String ends with 'World!'\n"
     ]
    }
   ],
   "source": [
    "my_string = \"Hello, World!\"\n",
    "print(\"Original string:\", my_string)\n",
    "# Check if string starts with a prefix\n",
    "if my_string.startswith(\"Hello\"):\n",
    "    print(\"String starts with 'Hello'\")\n",
    "# Check if string ends with a suffix\n",
    "if my_string.endswith(\"World!\"):\n",
    "    print(\"String ends with 'World!'\")\n"
   ]
  },
  {
   "cell_type": "markdown",
   "id": "38d7bd25-f6ac-4443-b31b-1aa4bc3c918c",
   "metadata": {},
   "source": [
    "### Whitespace Stripping"
   ]
  },
  {
   "cell_type": "code",
   "execution_count": 17,
   "id": "c5237445-ff64-4b3c-9f84-85ad7710cf34",
   "metadata": {},
   "outputs": [
    {
     "name": "stdout",
     "output_type": "stream",
     "text": [
      "Original string:    Hello, World!   \n",
      "String after stripping leading whitespace: Hello, World!   \n",
      "String after stripping trailing whitespace:    Hello, World!\n",
      "String after stripping both leading and trailing whitespace: Hello, World!\n"
     ]
    }
   ],
   "source": [
    "my_string = \"   Hello, World!   \"\n",
    "print(\"Original string:\", my_string)\n",
    "# Remove leading whitespace\n",
    "stripped_left = my_string.lstrip()\n",
    "print(\"String after stripping leading whitespace:\", stripped_left)\n",
    "# Remove trailing whitespace\n",
    "stripped_right = my_string.rstrip()\n",
    "print(\"String after stripping trailing whitespace:\", stripped_right)\n",
    "# Remove leading and trailing whitespace\n",
    "stripped_both = my_string.strip()\n",
    "print(\"String after stripping both leading and trailing whitespace:\", stripped_both)"
   ]
  },
  {
   "cell_type": "markdown",
   "id": "7f8bd390-9dbb-491a-b82b-d7becdf75c0c",
   "metadata": {},
   "source": [
    "### Finding Substrings"
   ]
  },
  {
   "cell_type": "code",
   "execution_count": 18,
   "id": "4f1103a6-b7e4-4f42-81d9-e86ac19bc0d9",
   "metadata": {},
   "outputs": [
    {
     "name": "stdout",
     "output_type": "stream",
     "text": [
      "Original string: Hello, World!\n",
      "Index of 'World': 7\n",
      "Index of 'o' starting from position 5: 8\n",
      "Number of 'l's in the string: 3\n"
     ]
    }
   ],
   "source": [
    "my_string = \"Hello, World!\"\n",
    "print(\"Original string:\", my_string)\n",
    "# Find the index of a substring\n",
    "index = my_string.find(\"World\")\n",
    "print(\"Index of 'World':\", index)\n",
    "# Find the index of a substring starting from a specific position\n",
    "index = my_string.find(\"o\", 5)\n",
    "print(\"Index of 'o' starting from position 5:\", index)\n",
    "# Count occurrences of a substring\n",
    "count = my_string.count(\"l\")\n",
    "print(\"Number of 'l's in the string:\", count)"
   ]
  },
  {
   "cell_type": "code",
   "execution_count": null,
   "id": "c171f634-bcd2-4c7b-af51-b24ed8a4b3e8",
   "metadata": {},
   "outputs": [],
   "source": []
  }
 ],
 "metadata": {
  "kernelspec": {
   "display_name": "Python 3 (ipykernel)",
   "language": "python",
   "name": "python3"
  },
  "language_info": {
   "codemirror_mode": {
    "name": "ipython",
    "version": 3
   },
   "file_extension": ".py",
   "mimetype": "text/x-python",
   "name": "python",
   "nbconvert_exporter": "python",
   "pygments_lexer": "ipython3",
   "version": "3.12.2"
  }
 },
 "nbformat": 4,
 "nbformat_minor": 5
}
