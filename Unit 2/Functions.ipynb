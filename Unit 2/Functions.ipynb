{
 "cells": [
  {
   "cell_type": "markdown",
   "id": "63a2f26c-542d-43cc-96be-4d0ede3b08c6",
   "metadata": {},
   "source": [
    "# Python Functions\n",
    "A function is a block of code that only runs when called.  \r\n",
    "You can pass data, known as parameters, into a function.  \r\n",
    "A function can return data as a result."
   ]
  },
  {
   "cell_type": "code",
   "execution_count": 2,
   "id": "030ce4a1-03f9-4e95-83a1-79f3ad1f0c66",
   "metadata": {},
   "outputs": [],
   "source": [
    "def my_function():\n",
    "  print(\"Hello from a function\")"
   ]
  },
  {
   "cell_type": "code",
   "execution_count": 3,
   "id": "7dd7bfbc-06dd-4941-86cb-9e0ab992e75b",
   "metadata": {},
   "outputs": [
    {
     "name": "stdout",
     "output_type": "stream",
     "text": [
      "Hello from a function\n"
     ]
    }
   ],
   "source": [
    "my_function()"
   ]
  },
  {
   "cell_type": "markdown",
   "id": "d8a5a575-4dc7-497a-85bf-3edc1bec0ef8",
   "metadata": {},
   "source": [
    "## Arguments\n",
    "Information can be passed into functions as arguments.  \r\n",
    "Arguments are specified after the function name, inside the parentheses. You can add as many arguments as you want, just separate them with a comma.  \r\n",
    "The following example has a function with one argument (fname). When the function is called, we pass along a first name, which is used inside the function to print the full name:"
   ]
  },
  {
   "cell_type": "code",
   "execution_count": 4,
   "id": "a83b26f6-6179-4360-9e0e-c20cdcd25c5c",
   "metadata": {},
   "outputs": [],
   "source": [
    "def my_function(fname):\n",
    "  print(fname + \" Refsnes\")"
   ]
  },
  {
   "cell_type": "code",
   "execution_count": 5,
   "id": "b156dc64-2e12-4146-a292-8bf12dad93b2",
   "metadata": {},
   "outputs": [
    {
     "name": "stdout",
     "output_type": "stream",
     "text": [
      "Emil Refsnes\n",
      "Tobias Refsnes\n",
      "Linus Refsnes\n"
     ]
    }
   ],
   "source": [
    "my_function(\"Emil\")\n",
    "my_function(\"Tobias\")\n",
    "my_function(\"Linus\")"
   ]
  },
  {
   "cell_type": "code",
   "execution_count": 6,
   "id": "2d7e3c23-cfed-48be-b45d-6489d8354e4b",
   "metadata": {},
   "outputs": [
    {
     "name": "stdout",
     "output_type": "stream",
     "text": [
      "Emil Refsnes\n"
     ]
    }
   ],
   "source": [
    "def my_function(fname, lname):\n",
    "  print(fname + \" \" + lname)\n",
    "\n",
    "my_function(\"Emil\", \"Refsnes\")"
   ]
  },
  {
   "cell_type": "markdown",
   "id": "bc1d59a0-2fe4-45e2-a5e5-6e2da4042930",
   "metadata": {},
   "source": [
    "## Arbitrary Arguments, *args\n",
    "If you do not know how many arguments will be passed into your function, add a * before the parameter name in the function definition.  \r\n",
    "This way the function will receive a tuple of arguments and can access the items accordingly:"
   ]
  },
  {
   "cell_type": "code",
   "execution_count": 7,
   "id": "e547cc6a-21f6-40d0-82b8-9d3ec781ceb7",
   "metadata": {},
   "outputs": [
    {
     "name": "stdout",
     "output_type": "stream",
     "text": [
      "Emil\n",
      "Tobias\n",
      "Linus\n"
     ]
    }
   ],
   "source": [
    "def my_function(*kids):\n",
    "  for i in kids:\n",
    "      print(i)\n",
    "\n",
    "my_function(\"Emil\", \"Tobias\", \"Linus\")"
   ]
  },
  {
   "cell_type": "markdown",
   "id": "581f478f-5bb8-44b2-8a37-0a4da3a7b947",
   "metadata": {},
   "source": [
    "## Keyword Arguments\r\n",
    "You can also send arguments with the key = value syntax. \r\n",
    "This way the order of the arguments does not matter."
   ]
  },
  {
   "cell_type": "code",
   "execution_count": 7,
   "id": "aa6f3da1-00bc-4a2d-8d46-7c1d6311c8b2",
   "metadata": {},
   "outputs": [
    {
     "name": "stdout",
     "output_type": "stream",
     "text": [
      "The youngest child is Linus\n"
     ]
    }
   ],
   "source": [
    "def my_function(child3, child2, child1):\n",
    "  print(\"The youngest child is \" + child3)\n",
    "\n",
    "my_function(child1 = \"Emil\", child2 = \"Tobias\", child3 = \"Linus\")"
   ]
  },
  {
   "cell_type": "markdown",
   "id": "e8388588-d840-4b8a-bdeb-d5a4a18b0f64",
   "metadata": {},
   "source": [
    "## Default Parameter Value\n",
    "The following example shows how to use a default parameter value.  \n",
    "\r\n",
    "If we call the function without argument, it uses the default value:"
   ]
  },
  {
   "cell_type": "code",
   "execution_count": 8,
   "id": "35f1f92a-eb61-4149-88d5-2552afc9a93c",
   "metadata": {},
   "outputs": [],
   "source": [
    "def my_function(country = \"Norway\"):\n",
    "  print(\"I am from \" + country)"
   ]
  },
  {
   "cell_type": "code",
   "execution_count": 9,
   "id": "837f4dc5-48f7-4f75-ada3-040c8325fb3f",
   "metadata": {},
   "outputs": [
    {
     "name": "stdout",
     "output_type": "stream",
     "text": [
      "I am from Sweden\n",
      "I am from India\n",
      "I am from Norway\n",
      "I am from Brazil\n"
     ]
    }
   ],
   "source": [
    "my_function(\"Sweden\")\n",
    "my_function(\"India\")\n",
    "my_function()\n",
    "my_function(\"Brazil\")"
   ]
  },
  {
   "cell_type": "markdown",
   "id": "e3fad622-fb02-40ac-aa3f-2f1bf641af3f",
   "metadata": {},
   "source": [
    "## Passing a List as an Argument\n",
    "You can send any data types of argument to a function (string, number, list, dictionary etc.), and it will be treated as the same data type inside the function.\r\n",
    "\r\n",
    "E.g. if you send a List as an argument, it will still be a List when it reaches the function:"
   ]
  },
  {
   "cell_type": "code",
   "execution_count": 10,
   "id": "34e44fa6-4c16-4ea5-b008-ac978baef5b8",
   "metadata": {},
   "outputs": [],
   "source": [
    "def my_function(food):\n",
    "  for x in food:\n",
    "    print(x)"
   ]
  },
  {
   "cell_type": "code",
   "execution_count": 11,
   "id": "0187c4da-2c0c-417d-9ec1-bb408ff8754a",
   "metadata": {},
   "outputs": [
    {
     "name": "stdout",
     "output_type": "stream",
     "text": [
      "apple\n",
      "banana\n",
      "cherry\n"
     ]
    }
   ],
   "source": [
    "fruits = [\"apple\", \"banana\", \"cherry\"]\n",
    "my_function(fruits)"
   ]
  },
  {
   "cell_type": "markdown",
   "id": "7b7e8a82-5dee-4b44-8f37-71199d666dd0",
   "metadata": {},
   "source": [
    "## Return Values\r\n",
    "To let a function return a value, use the return statement:"
   ]
  },
  {
   "cell_type": "code",
   "execution_count": 12,
   "id": "2cfcbccb-c855-46bb-bf83-d3f5f0d02c32",
   "metadata": {},
   "outputs": [],
   "source": [
    "def my_function(x):\n",
    "  return 5 * x"
   ]
  },
  {
   "cell_type": "code",
   "execution_count": 13,
   "id": "d8e9a122-773b-4631-8101-62aa669f98db",
   "metadata": {},
   "outputs": [
    {
     "name": "stdout",
     "output_type": "stream",
     "text": [
      "15\n",
      "25\n",
      "45\n"
     ]
    }
   ],
   "source": [
    "print(my_function(3))\n",
    "print(my_function(5))\n",
    "print(my_function(9))"
   ]
  },
  {
   "cell_type": "markdown",
   "id": "4760e753-e842-472d-90ad-078037f97bdc",
   "metadata": {},
   "source": [
    "# Cube of given Numeber"
   ]
  },
  {
   "cell_type": "code",
   "execution_count": 14,
   "id": "a76b2d88-0416-4614-af5c-51d744f9f105",
   "metadata": {},
   "outputs": [],
   "source": [
    "def cube(x): \n",
    "    return x*x*x"
   ]
  },
  {
   "cell_type": "code",
   "execution_count": 15,
   "id": "ce7ac648-7c70-4cad-ad09-0b9ae33de87d",
   "metadata": {},
   "outputs": [
    {
     "name": "stdout",
     "output_type": "stream",
     "text": [
      "343\n"
     ]
    }
   ],
   "source": [
    "print(cube(7))"
   ]
  },
  {
   "cell_type": "markdown",
   "id": "64f37a2b-fc35-4b1c-847c-88b484c3e8fb",
   "metadata": {},
   "source": [
    "# Recursive Functions in Python\n",
    "## factorial"
   ]
  },
  {
   "cell_type": "code",
   "execution_count": 8,
   "id": "e5567743-e398-4324-9d7e-42d6e0347930",
   "metadata": {},
   "outputs": [],
   "source": [
    "def fact(a):\n",
    "    if a==1:\n",
    "        return 1\n",
    "    else:\n",
    "        return a*fact(a-1)"
   ]
  },
  {
   "cell_type": "code",
   "execution_count": 9,
   "id": "5561e1ad-435f-4ef2-8b77-832bf3d844f1",
   "metadata": {},
   "outputs": [
    {
     "name": "stdin",
     "output_type": "stream",
     "text": [
      "asdf 5\n"
     ]
    },
    {
     "data": {
      "text/plain": [
       "120"
      ]
     },
     "execution_count": 9,
     "metadata": {},
     "output_type": "execute_result"
    }
   ],
   "source": [
    "x= int(input(\"asdf\"))\n",
    "fact(x)"
   ]
  },
  {
   "cell_type": "markdown",
   "id": "41352d1f-b20c-4573-a9e5-674b1db900ab",
   "metadata": {},
   "source": [
    "# ??"
   ]
  },
  {
   "cell_type": "code",
   "execution_count": 10,
   "id": "78212735-3815-4ad3-9c53-f6124606eec1",
   "metadata": {},
   "outputs": [],
   "source": [
    "def swap(x, y):\n",
    "    temp = x\n",
    "    x = y\n",
    "    y = temp"
   ]
  },
  {
   "cell_type": "code",
   "execution_count": 11,
   "id": "e8c8100f-dfd5-4f6e-8029-d5d2520b523a",
   "metadata": {},
   "outputs": [
    {
     "name": "stdout",
     "output_type": "stream",
     "text": [
      "2\n",
      "3\n"
     ]
    }
   ],
   "source": [
    "x = 2\n",
    "y = 3\n",
    "swap(x, y)\n",
    "print(x)\n",
    "print(y)"
   ]
  },
  {
   "cell_type": "code",
   "execution_count": null,
   "id": "2aa6529a-d01c-4b02-853c-b7ea53edd505",
   "metadata": {},
   "outputs": [],
   "source": []
  }
 ],
 "metadata": {
  "kernelspec": {
   "display_name": "Python 3 (ipykernel)",
   "language": "python",
   "name": "python3"
  },
  "language_info": {
   "codemirror_mode": {
    "name": "ipython",
    "version": 3
   },
   "file_extension": ".py",
   "mimetype": "text/x-python",
   "name": "python",
   "nbconvert_exporter": "python",
   "pygments_lexer": "ipython3",
   "version": "3.12.2"
  }
 },
 "nbformat": 4,
 "nbformat_minor": 5
}
