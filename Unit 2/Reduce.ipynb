{
 "cells": [
  {
   "cell_type": "markdown",
   "id": "96279e7b-be04-44f6-8bb0-3d2104406c4a",
   "metadata": {},
   "source": [
    "# Reduce()"
   ]
  },
  {
   "cell_type": "markdown",
   "id": "89e5cc10-3a0a-4be2-b2b7-19529488ec10",
   "metadata": {},
   "source": [
    "The reduce() function in Python is a part of the functools module. It is used to apply a function to an iterable (such as a list) and reduce it to a single cumulative value. It continuously applies the function to pairs of elements from the iterable until it reaches the end, producing a single result."
   ]
  },
  {
   "cell_type": "code",
   "execution_count": null,
   "id": "7a20c55f-a57b-4690-a6bf-76b2f580fea0",
   "metadata": {},
   "outputs": [],
   "source": [
    "from functools import reduce\n",
    "reduce(function, iterable, initializer)"
   ]
  },
  {
   "cell_type": "markdown",
   "id": "465c1a18-369a-4128-aec7-63914560e851",
   "metadata": {},
   "source": [
    "- function: The function to be applied. It must take two arguments.  \r\n",
    "- iterable: The sequence to be reduced.  \r\n",
    "- initializer (optional): An initial value. If provided, the function will be applied with this as the first argument and the first element of the iterable as the second argument.  t."
   ]
  },
  {
   "cell_type": "code",
   "execution_count": 5,
   "id": "32135f64-4f09-4f5b-ae2f-8224ac4569bb",
   "metadata": {},
   "outputs": [
    {
     "name": "stdout",
     "output_type": "stream",
     "text": [
      "15\n"
     ]
    }
   ],
   "source": [
    "from functools import reduce\n",
    "numbers = [1, 2, 3, 4, 5]\n",
    "# Using reduce to find the sum\n",
    "sum_result = reduce(lambda x, y: x + y, numbers)\n",
    "print(sum_result)  "
   ]
  },
  {
   "cell_type": "markdown",
   "id": "636484e9-98f1-4326-acb0-76a6ba7ff274",
   "metadata": {},
   "source": [
    "- lambda x, y: x + y is the function passed to reduce(), which adds two numbers.\r\n",
    "- reduce() applies this function to the elements of the list, cumulatively adding them."
   ]
  },
  {
   "cell_type": "code",
   "execution_count": 6,
   "id": "e1f699b7-6c68-4a31-a71b-c57ff9bc433f",
   "metadata": {},
   "outputs": [
    {
     "name": "stdout",
     "output_type": "stream",
     "text": [
      "25\n"
     ]
    }
   ],
   "source": [
    "# Using reduce with an initializer\n",
    "sum_result = reduce(lambda x, y: x + y, numbers, 10)\n",
    "print(sum_result) "
   ]
  },
  {
   "cell_type": "markdown",
   "id": "4db4d22c-e12a-440b-b241-6dfb7e288562",
   "metadata": {},
   "source": [
    "In this case, 10 is provided as the initial value, so the addition starts from 10."
   ]
  },
  {
   "cell_type": "markdown",
   "id": "d9cca9fd-f13d-4a5a-872d-b9c4015ffe5e",
   "metadata": {},
   "source": [
    "## Find the maximum element in a list"
   ]
  },
  {
   "cell_type": "code",
   "execution_count": 7,
   "id": "c074eb29-131b-47ff-9cbd-e60477842364",
   "metadata": {},
   "outputs": [
    {
     "name": "stdout",
     "output_type": "stream",
     "text": [
      "8\n"
     ]
    }
   ],
   "source": [
    "numbers = [1, 5, 3, 8, 2]\n",
    "max_value = reduce(lambda x, y: x if x > y else y, numbers)\n",
    "print(max_value) "
   ]
  },
  {
   "cell_type": "markdown",
   "id": "60f55541-6261-4669-bed4-d9f0e190a484",
   "metadata": {},
   "source": [
    "## Concatenate strings in a list"
   ]
  },
  {
   "cell_type": "code",
   "execution_count": 8,
   "id": "a325bca0-9272-4250-8222-dfebd046e563",
   "metadata": {},
   "outputs": [
    {
     "name": "stdout",
     "output_type": "stream",
     "text": [
      "Hello World!\n"
     ]
    }
   ],
   "source": [
    "strings = [\"Hello\", \" \", \"World\", \"!\"]\n",
    "concatenated_string = reduce(lambda x, y: x + y, strings)\n",
    "print(concatenated_string) "
   ]
  },
  {
   "cell_type": "markdown",
   "id": "9de753c9-19e5-4dc0-a5e7-f677c34c74f6",
   "metadata": {},
   "source": [
    "## Calculating the factorial of a number"
   ]
  },
  {
   "cell_type": "code",
   "execution_count": 9,
   "id": "a82d46b3-1922-4819-bfcd-8b2b49d8c063",
   "metadata": {},
   "outputs": [
    {
     "name": "stdout",
     "output_type": "stream",
     "text": [
      "120\n"
     ]
    }
   ],
   "source": [
    "def factorial(n):\n",
    "    return reduce(lambda x, y: x * y, range(1, n + 1))\n",
    "\n",
    "print(factorial(5))"
   ]
  },
  {
   "cell_type": "markdown",
   "id": "e886a1c1-39dc-4e7b-b3e1-33dec347eae2",
   "metadata": {},
   "source": [
    "## Removing duplicates from a list while preserving the order"
   ]
  },
  {
   "cell_type": "code",
   "execution_count": 13,
   "id": "995a1d5a-961a-4137-af1c-72672bd23448",
   "metadata": {},
   "outputs": [
    {
     "name": "stdout",
     "output_type": "stream",
     "text": [
      "[1, 3, 2, 8, 7, 5, 4, 6]\n"
     ]
    }
   ],
   "source": [
    "# List with duplicates\n",
    "my_list = [1,3,1,2,8,7,5,3,4,2,3,4,4,5,6,6,7]\n",
    "# Remove duplicates while preserving order using lambda and set\n",
    "unique_list = list(set(my_list))\n",
    "unique_list.sort(key=lambda x: my_list.index(x))\n",
    "print(unique_list) "
   ]
  },
  {
   "cell_type": "markdown",
   "id": "4d1e1e50-254a-42e9-8f96-3a8d716bccd3",
   "metadata": {},
   "source": [
    "## Finding the intersection of two lists"
   ]
  },
  {
   "cell_type": "code",
   "execution_count": 14,
   "id": "384fdac7-919d-4c0e-87fa-acc89d319ee3",
   "metadata": {},
   "outputs": [
    {
     "name": "stdout",
     "output_type": "stream",
     "text": [
      "[4, 5]\n"
     ]
    }
   ],
   "source": [
    "# Two lists\n",
    "list1 = [1, 2, 3, 4, 5]\n",
    "list2 = [4, 5, 6, 7, 8]\n",
    "# Find the intersection of the two lists using lambda and filter\n",
    "intersection = list(filter(lambda x: x in list1, list2))\n",
    "print(intersection)"
   ]
  },
  {
   "cell_type": "code",
   "execution_count": null,
   "id": "a4f94587-264d-49b1-8016-873debece7e4",
   "metadata": {},
   "outputs": [],
   "source": []
  }
 ],
 "metadata": {
  "kernelspec": {
   "display_name": "Python 3 (ipykernel)",
   "language": "python",
   "name": "python3"
  },
  "language_info": {
   "codemirror_mode": {
    "name": "ipython",
    "version": 3
   },
   "file_extension": ".py",
   "mimetype": "text/x-python",
   "name": "python",
   "nbconvert_exporter": "python",
   "pygments_lexer": "ipython3",
   "version": "3.12.2"
  }
 },
 "nbformat": 4,
 "nbformat_minor": 5
}
