{
 "cells": [
  {
   "cell_type": "markdown",
   "id": "98e126a0-05ec-49b2-bf79-9c635af4685e",
   "metadata": {},
   "source": [
    "# The while Loop\r\n",
    "With the while loo,p we can execute a set of statements as long as a condition is true  \n",
    "while expression:  \r",
    "     statement(s  \n",
    "\n",
    "The main difference between Python For Loop Versus Python While Loop is that Python for loop is usually used when the number of iterations is known, whereas Python while loop is used when the number of iterations is unknown.    \n",
    ")."
   ]
  },
  {
   "cell_type": "code",
   "execution_count": 2,
   "id": "6aadb758-b5a0-4bd1-9c52-f3dba3781907",
   "metadata": {},
   "outputs": [
    {
     "name": "stdout",
     "output_type": "stream",
     "text": [
      "Hello World\n",
      "Hello World\n",
      "Hello World\n"
     ]
    }
   ],
   "source": [
    "count = 0\n",
    "while (count < 3): \n",
    "    count = count + 1\n",
    "    print(\"Hello World\")"
   ]
  },
  {
   "cell_type": "code",
   "execution_count": 3,
   "id": "d8d9dc7e-a01a-40da-aa45-d58615dff8aa",
   "metadata": {},
   "outputs": [
    {
     "name": "stdout",
     "output_type": "stream",
     "text": [
      "1\n",
      "2\n",
      "3\n",
      "4\n",
      "5\n"
     ]
    }
   ],
   "source": [
    "i = 1\n",
    "while i < 6:\n",
    "  print(i)\n",
    "  i += 1"
   ]
  },
  {
   "cell_type": "code",
   "execution_count": null,
   "id": "12373af6-6366-4c6b-b9ad-23768b801da3",
   "metadata": {},
   "outputs": [],
   "source": [
    "age = 28\n",
    "# the test condition is always True \n",
    "while age > 19: \n",
    "    print('Infinite Loop')"
   ]
  },
  {
   "cell_type": "markdown",
   "id": "e3125402-5061-4a1c-b09e-8e3c98fb12ad",
   "metadata": {},
   "source": [
    "## The break Statement\r\n",
    "With the break statement we can stop the loop even if the while condition is true:"
   ]
  },
  {
   "cell_type": "code",
   "execution_count": 4,
   "id": "e52dfc72-9eb2-4b52-951c-f73036719ccd",
   "metadata": {},
   "outputs": [
    {
     "name": "stdout",
     "output_type": "stream",
     "text": [
      "1\n",
      "2\n",
      "3\n"
     ]
    }
   ],
   "source": [
    "i = 1\n",
    "while i < 6:\n",
    "  print(i)\n",
    "  if i == 3:\n",
    "    break\n",
    "  i += 1"
   ]
  },
  {
   "cell_type": "markdown",
   "id": "7348580c-eb1f-40c6-b608-9aa5e34e44c8",
   "metadata": {},
   "source": [
    "## The continue Statement\n",
    "With the continue statement we can stop the current iteration, and continue with the next:"
   ]
  },
  {
   "cell_type": "code",
   "execution_count": 5,
   "id": "d76ec848-2767-4fc8-b5a6-5285a2d456a8",
   "metadata": {},
   "outputs": [
    {
     "name": "stdout",
     "output_type": "stream",
     "text": [
      "1\n",
      "2\n",
      "4\n",
      "5\n",
      "6\n"
     ]
    }
   ],
   "source": [
    "i = 0\n",
    "while i < 6:\n",
    "  i += 1\n",
    "  if i == 3:\n",
    "    continue\n",
    "  print(i)"
   ]
  },
  {
   "cell_type": "markdown",
   "id": "7baf1f99-1bf3-447e-9f00-35ca143468b9",
   "metadata": {},
   "source": [
    "## The else Statement\r\n",
    "With the else statement we can run a block of code once when the condition no longer is true:"
   ]
  },
  {
   "cell_type": "code",
   "execution_count": 12,
   "id": "6c63a9d0-613b-44c1-b8f6-4b7788702f20",
   "metadata": {},
   "outputs": [
    {
     "name": "stdout",
     "output_type": "stream",
     "text": [
      "1\n",
      "2\n",
      "3\n"
     ]
    }
   ],
   "source": [
    "i = 1\n",
    "while i < 6:\n",
    "  print(i)\n",
    "  if i == 3:\n",
    "    break\n",
    "  i += 1\n",
    "else:\n",
    "  print(\"i is no longer less than 6\")"
   ]
  },
  {
   "cell_type": "code",
   "execution_count": 8,
   "id": "0be45ce2-5e0e-474b-9351-e752232c48a0",
   "metadata": {},
   "outputs": [
    {
     "name": "stdout",
     "output_type": "stream",
     "text": [
      "Current Letter : H\n",
      "Current Letter : l\n",
      "Current Letter : l\n",
      "Current Letter : o\n",
      "Current Letter :  \n",
      "Current Letter : t\n",
      "Current Letter : u\n",
      "Current Letter : d\n",
      "Current Letter : n\n",
      "Current Letter : t\n"
     ]
    }
   ],
   "source": [
    "# Prints all letters except 'e' and 's' \n",
    "i = 0\n",
    "a = 'Hello students'\n",
    "while i < len(a): \n",
    "    if a[i] == 'e' or a[i] == 's': \n",
    "        i += 1\n",
    "        continue\n",
    "    print('Current Letter :', a[i]) \n",
    "    i += 1"
   ]
  },
  {
   "cell_type": "code",
   "execution_count": 14,
   "id": "5d248f94-3e27-462c-b44e-05552e690979",
   "metadata": {},
   "outputs": [
    {
     "name": "stdout",
     "output_type": "stream",
     "text": [
      "Current Letter : f\n",
      "Current Letter : g\n",
      "Current Letter : h\n",
      "Current Letter : j\n"
     ]
    }
   ],
   "source": [
    "# break the loop as soon it sees 'e'  or 's' \n",
    "i = 0\n",
    "a = 'fghj'\n",
    "while i < len(a): \n",
    "    if a[i] == 'e' or a[i] == 's': \n",
    "        i += 1\n",
    "        break\n",
    "    print('Current Letter :', a[i]) \n",
    "    i += 1"
   ]
  },
  {
   "cell_type": "code",
   "execution_count": 10,
   "id": "348dc03b-f355-4b56-b072-987b953d23c9",
   "metadata": {},
   "outputs": [
    {
     "name": "stdout",
     "output_type": "stream",
     "text": [
      "1\n",
      "2\n",
      "3\n",
      "4\n",
      "No Break\n",
      "\n",
      "1\n"
     ]
    }
   ],
   "source": [
    "i = 0\n",
    "while i < 4: \n",
    "    i += 1\n",
    "    print(i) \n",
    "else:  # Executed because no break in for \n",
    "    print(\"No Break\\n\") \n",
    "i = 0\n",
    "while i < 4: \n",
    "    i += 1\n",
    "    print(i) \n",
    "    break\n",
    "else:  # Not executed as there is a break \n",
    "    print(\"No Break\") "
   ]
  },
  {
   "cell_type": "code",
   "execution_count": 15,
   "id": "72a9a574-9c97-491b-8673-70185c21cdca",
   "metadata": {},
   "outputs": [
    {
     "name": "stdin",
     "output_type": "stream",
     "text": [
      "Enter a number (-1 to quit):  1\n",
      "Enter a number (-1 to quit):  2\n",
      "Enter a number (-1 to quit):  3\n",
      "Enter a number (-1 to quit):  4\n",
      "Enter a number (-1 to quit):  5\n",
      "Enter a number (-1 to quit):  6\n",
      "Enter a number (-1 to quit):  7\n",
      "Enter a number (-1 to quit):  8\n",
      "Enter a number (-1 to quit):  9\n",
      "Enter a number (-1 to quit):  -1\n"
     ]
    }
   ],
   "source": [
    "a = int(input('Enter a number (-1 to quit): ')) \n",
    "while a != -1: \n",
    "    a = int(input('Enter a number (-1 to quit): '))"
   ]
  },
  {
   "cell_type": "code",
   "execution_count": null,
   "id": "1bb378b3-9bc5-4860-bbc9-76fb47941af0",
   "metadata": {},
   "outputs": [],
   "source": []
  }
 ],
 "metadata": {
  "kernelspec": {
   "display_name": "Python 3 (ipykernel)",
   "language": "python",
   "name": "python3"
  },
  "language_info": {
   "codemirror_mode": {
    "name": "ipython",
    "version": 3
   },
   "file_extension": ".py",
   "mimetype": "text/x-python",
   "name": "python",
   "nbconvert_exporter": "python",
   "pygments_lexer": "ipython3",
   "version": "3.12.2"
  }
 },
 "nbformat": 4,
 "nbformat_minor": 5
}
