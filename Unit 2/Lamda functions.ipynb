{
 "cells": [
  {
   "cell_type": "markdown",
   "id": "d317c817-37c1-46b1-b5e9-88d2790ee9dc",
   "metadata": {},
   "source": [
    "# Lamda functions"
   ]
  },
  {
   "cell_type": "markdown",
   "id": "161657a4-00be-42ef-b902-291a9686588d",
   "metadata": {},
   "source": [
    "Lambda functions in Python are anonymous functions, meaning they are functions without a name. They are created using the lambda keyword and are useful for writing short, one-line functions without the need to define a formal function using the def keyword."
   ]
  },
  {
   "cell_type": "code",
   "execution_count": null,
   "id": "fda3dfc5-fc2b-410a-965d-9f74f75df420",
   "metadata": {},
   "outputs": [],
   "source": [
    "lambda arguments: expression"
   ]
  },
  {
   "cell_type": "code",
   "execution_count": 1,
   "id": "55f650ea-4933-445a-8077-71e4a6131bec",
   "metadata": {},
   "outputs": [
    {
     "name": "stdout",
     "output_type": "stream",
     "text": [
      "25\n"
     ]
    }
   ],
   "source": [
    "square = lambda x: x**2\n",
    "# Using the lambda function\n",
    "print(square(5))  "
   ]
  },
  {
   "cell_type": "markdown",
   "id": "830f00bb-92d5-4d61-b26a-6e267432de8a",
   "metadata": {},
   "source": [
    "In this example:  \r\n",
    "lambda is the keyword used to define the lambda function.  \r\n",
    "x is the argument of the function.  \r\n",
    "x**2 is the expression that calculates the square of x.f x."
   ]
  },
  {
   "cell_type": "code",
   "execution_count": 2,
   "id": "f761f706-3bd1-4787-844a-f52d7ee78ead",
   "metadata": {},
   "outputs": [
    {
     "name": "stdout",
     "output_type": "stream",
     "text": [
      "[1, 4, 9, 16, 25]\n"
     ]
    }
   ],
   "source": [
    "# Using lambda with map\n",
    "numbers = [1, 2, 3, 4, 5]\n",
    "squared_numbers = map(lambda x: x**2, numbers)\n",
    "print(list(squared_numbers))  # Output: [1, 4, 9, 16, 25]\n"
   ]
  },
  {
   "cell_type": "markdown",
   "id": "add076a1-799d-49e2-a379-c21d26522cf0",
   "metadata": {},
   "source": [
    "### Difference Between Lambda Functions and Regular Functions"
   ]
  },
  {
   "cell_type": "markdown",
   "id": "6dd52739-0b29-4ef6-bef2-43e5f911b025",
   "metadata": {},
   "source": [
    "Lambda Functions:  \n",
    "- Supports single-line expressions.  \n",
    "- Good for short operations or data manipulations.  \n",
    "- May reduce code readability.\n",
    "  \n",
    "Regular Functions (Defined with def):  \n",
    "- Supports any number of lines inside the function block.  \n",
    "- Suitable for more complex cases.  \n",
    "- Can include comments and function descriptions for readability. "
   ]
  },
  {
   "cell_type": "code",
   "execution_count": null,
   "id": "409e1c5a-2163-4798-b4ad-a669192f3a15",
   "metadata": {},
   "outputs": [],
   "source": []
  }
 ],
 "metadata": {
  "kernelspec": {
   "display_name": "Python 3 (ipykernel)",
   "language": "python",
   "name": "python3"
  },
  "language_info": {
   "codemirror_mode": {
    "name": "ipython",
    "version": 3
   },
   "file_extension": ".py",
   "mimetype": "text/x-python",
   "name": "python",
   "nbconvert_exporter": "python",
   "pygments_lexer": "ipython3",
   "version": "3.12.2"
  }
 },
 "nbformat": 4,
 "nbformat_minor": 5
}
