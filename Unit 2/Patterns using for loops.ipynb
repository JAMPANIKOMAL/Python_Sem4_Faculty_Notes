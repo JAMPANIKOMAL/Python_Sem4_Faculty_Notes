{
 "cells": [
  {
   "cell_type": "code",
   "execution_count": 5,
   "id": "f2ff8445-9562-4457-8854-b44a5de05638",
   "metadata": {},
   "outputs": [
    {
     "name": "stdout",
     "output_type": "stream",
     "text": [
      "*\n",
      "**\n",
      "***\n",
      "****\n",
      "*****\n"
     ]
    }
   ],
   "source": [
    "# Simple pattern: Print a triangle of stars\n",
    "rows = 5\n",
    "for i in range(1, rows + 1):\n",
    "    print(\"*\" * i)\n"
   ]
  },
  {
   "cell_type": "code",
   "execution_count": 7,
   "id": "d5423728-b53c-48cd-a4f3-4a05d1aaf836",
   "metadata": {},
   "outputs": [
    {
     "name": "stdout",
     "output_type": "stream",
     "text": [
      "*****\n",
      "****\n",
      "***\n",
      "**\n",
      "*\n"
     ]
    }
   ],
   "source": [
    "rows = 5\n",
    "for i in range(1, rows + 1):\n",
    "    print(\"*\" * ((rows-i)+1))"
   ]
  },
  {
   "cell_type": "code",
   "execution_count": 8,
   "id": "93a5278d-be08-487e-8c02-97418832781f",
   "metadata": {},
   "outputs": [
    {
     "name": "stdout",
     "output_type": "stream",
     "text": [
      "*****\n",
      "_****\n",
      "__***\n",
      "___**\n",
      "____*\n"
     ]
    }
   ],
   "source": [
    "size = 5\n",
    "for i in range(size, 0, -1):\n",
    "    print('_' * (size - i) + '*' * i)\n"
   ]
  },
  {
   "cell_type": "code",
   "execution_count": 11,
   "id": "6632fa0b-b9cc-4bce-b9b9-d7839f6aa8e4",
   "metadata": {},
   "outputs": [
    {
     "name": "stdout",
     "output_type": "stream",
     "text": [
      "***********\n",
      "***********\n",
      "***********\n",
      "***********\n",
      "***********\n",
      "***********\n",
      "***********\n",
      "***********\n",
      "***********\n",
      "***********\n",
      "***********\n"
     ]
    }
   ],
   "source": [
    "size = 11\n",
    "for i in range(size):\n",
    "    print('*' * size)"
   ]
  },
  {
   "cell_type": "markdown",
   "id": "a6224c20-40f9-4ae7-a212-a1eda9e2b430",
   "metadata": {},
   "source": [
    "size determines the number of rows and columns in the square. \n",
    "\n",
    "The for loop iterates from 0 to size - 1  \n",
    "\r\n",
    "Inside the loop, we print '* ' (a star followed by a space) size times on each row.\r\n"
   ]
  },
  {
   "cell_type": "code",
   "execution_count": 2,
   "id": "37e70348-23fc-4b73-b3ed-b33bba56e6ae",
   "metadata": {},
   "outputs": [
    {
     "name": "stdout",
     "output_type": "stream",
     "text": [
      "1 2 3 4 5 \n",
      "6 7 8 9 10 \n",
      "11 12 13 14 15 \n",
      "16 17 18 19 20 \n",
      "21 22 23 24 25 \n"
     ]
    }
   ],
   "source": [
    "# Pattern: Print a square of numbers\n",
    "size = 5\n",
    "for i in range(size):\n",
    "    for j in range(size):\n",
    "        print(i * size + j + 1, end=\" \")\n",
    "    print()\n"
   ]
  },
  {
   "cell_type": "markdown",
   "id": "5bfc7ed3-70e3-4524-9d64-9d40d9e70ec3",
   "metadata": {},
   "source": [
    "This pattern prints a square of numbers where each row has numbers incrementing from 1 to size^2.  \n",
    "The outer loop iterates over the rows.  \n",
    "The inner loop iterates over the columns.  \n",
    "The formula i * size + j + 1 calculates the value to be printed in each cell of the square."
   ]
  },
  {
   "cell_type": "code",
   "execution_count": 14,
   "id": "f8ae577e-2799-4f03-9674-77299083bc51",
   "metadata": {},
   "outputs": [
    {
     "name": "stdin",
     "output_type": "stream",
     "text": [
      "enter size 5\n"
     ]
    },
    {
     "name": "stdout",
     "output_type": "stream",
     "text": [
      "*****\n",
      "*---*\n",
      "*---*\n",
      "*---*\n",
      "*****\n"
     ]
    }
   ],
   "source": [
    "size = int(input(\"enter size\"))\n",
    "for i in range(size):\n",
    "    if i == 0 or i == size - 1:\n",
    "        print('*' * size)\n",
    "    else:\n",
    "        print('*' + '-' * (size - 2) + '*')\n"
   ]
  },
  {
   "cell_type": "code",
   "execution_count": 18,
   "id": "1d247f95-7793-4a64-90a8-0ce6735e16db",
   "metadata": {},
   "outputs": [
    {
     "name": "stdin",
     "output_type": "stream",
     "text": [
      "Enter size 4\n"
     ]
    },
    {
     "name": "stdout",
     "output_type": "stream",
     "text": [
      "   *\n",
      "  ***\n",
      " *****\n",
      "*******\n",
      " *****\n",
      "  ***\n",
      "   *\n"
     ]
    }
   ],
   "source": [
    "# Pattern: Print a diamond of stars\n",
    "size = int(input(\"Enter size\"))\n",
    "for i in range(size):\n",
    "    print(\" \" * (size - i - 1) + \"*\" * (2 * i + 1))\n",
    "for i in range(size - 2, -1, -1):\n",
    "    print(\" \" * (size - i - 1) + \"*\" * (2 * i + 1))\n"
   ]
  },
  {
   "cell_type": "markdown",
   "id": "43102666-181e-45dc-b410-c3da3993b582",
   "metadata": {},
   "source": [
    "This pattern prints a diamond of stars with the given size.  \n",
    "\n",
    "The first loop prints the upper half of the diamond  \n",
    "\r\n",
    "The second loop prints the lower half of the diamon\n",
    ".\r\n",
    "In each iteration, it calculates the number of spaces and stars to print to form the diamond sha  pe."
   ]
  },
  {
   "cell_type": "code",
   "execution_count": 10,
   "id": "76099d50-2a1c-430d-ace5-6437913be25a",
   "metadata": {},
   "outputs": [
    {
     "name": "stdout",
     "output_type": "stream",
     "text": [
      "    1\n",
      "   123\n",
      "  12345\n",
      " 1234567\n",
      "123456789\n"
     ]
    }
   ],
   "source": [
    "# Pattern: Print a pyramid of numbers\n",
    "rows = 5\n",
    "for i in range(1, rows + 1):\n",
    "    print(\" \" * (rows - i), end=\"\")\n",
    "    for j in range(1, i * 2):\n",
    "        print(j, end=\"\")\n",
    "    print()\n"
   ]
  },
  {
   "cell_type": "code",
   "execution_count": null,
   "id": "34949fd7-25f9-4a23-a387-e78c32c9d74c",
   "metadata": {},
   "outputs": [],
   "source": []
  }
 ],
 "metadata": {
  "kernelspec": {
   "display_name": "Python 3 (ipykernel)",
   "language": "python",
   "name": "python3"
  },
  "language_info": {
   "codemirror_mode": {
    "name": "ipython",
    "version": 3
   },
   "file_extension": ".py",
   "mimetype": "text/x-python",
   "name": "python",
   "nbconvert_exporter": "python",
   "pygments_lexer": "ipython3",
   "version": "3.12.2"
  }
 },
 "nbformat": 4,
 "nbformat_minor": 5
}
