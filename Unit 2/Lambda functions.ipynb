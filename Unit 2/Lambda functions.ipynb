{
 "cells": [
  {
   "cell_type": "markdown",
   "id": "de3f29b2-edc7-46c6-8a18-78c8db0121d9",
   "metadata": {},
   "source": [
    "# Lambda functions"
   ]
  },
  {
   "cell_type": "markdown",
   "id": "33b1ac61-6587-4646-9e49-4efbbae0c394",
   "metadata": {},
   "source": [
    " Lambda functions in Python are anonymous functions that don’t have a name. They are useful for short, one-line operations and can be used wherever function objects are required. "
   ]
  },
  {
   "cell_type": "markdown",
   "id": "8a555315-b8cd-4ad7-9e3d-bfdbd484b090",
   "metadata": {},
   "source": [
    "- A lambda function is defined using the lambda keyword, followed by arguments and an expression.  \r\n",
    "- The expression is evaluated and returned when the lambda function is called.  \r\n",
    "- Lambda functions are restricted to a single expression..\r\n"
   ]
  },
  {
   "cell_type": "code",
   "execution_count": 23,
   "id": "924caa50-73d3-4fc4-8499-737846489efe",
   "metadata": {},
   "outputs": [
    {
     "data": {
      "text/plain": [
       "<function __main__.<lambda>(arguments)>"
      ]
     },
     "execution_count": 23,
     "metadata": {},
     "output_type": "execute_result"
    }
   ],
   "source": [
    "#  syntax\n",
    "lambda arguments: expression"
   ]
  },
  {
   "cell_type": "code",
   "execution_count": 24,
   "id": "099082f4-43d5-4539-abb3-2ef1bfccc463",
   "metadata": {},
   "outputs": [
    {
     "name": "stdout",
     "output_type": "stream",
     "text": [
      "8\n"
     ]
    }
   ],
   "source": [
    "# Define a lambda function to add two numbers\n",
    "add = lambda x, y: x + y\n",
    "# Call the lambda function\n",
    "result = add(3, 5)\n",
    "print(result)  "
   ]
  },
  {
   "cell_type": "code",
   "execution_count": 25,
   "id": "56e49336-c77d-4809-92a0-1b9906cd3760",
   "metadata": {},
   "outputs": [
    {
     "name": "stdout",
     "output_type": "stream",
     "text": [
      "PRASANNBAROT\n"
     ]
    }
   ],
   "source": [
    "#Example: Uppercase Conversion\n",
    "str1 = 'PrasannBarot'\n",
    "upper = lambda string: string.upper()\n",
    "print(upper(str1))"
   ]
  },
  {
   "cell_type": "code",
   "execution_count": 26,
   "id": "0e2c276c-bcc0-43e6-bbcc-ece973673c31",
   "metadata": {},
   "outputs": [
    {
     "name": "stdout",
     "output_type": "stream",
     "text": [
      "Using `def` keyword, cube: 125\n",
      "Using lambda function, cube: 125\n"
     ]
    }
   ],
   "source": [
    "def cube(y):\n",
    "    return y * y * y\n",
    "lambda_cube = lambda y: y * y * y\n",
    "print(\"Using `def` keyword, cube:\", cube(5))  \n",
    "print(\"Using lambda function, cube:\", lambda_cube(5))  "
   ]
  },
  {
   "cell_type": "code",
   "execution_count": 27,
   "id": "5f8d8ce9-ccb3-4ebc-b910-d129320748e5",
   "metadata": {},
   "outputs": [
    {
     "name": "stdout",
     "output_type": "stream",
     "text": [
      "[(1, 5), (3, 10), (2, 80)]\n"
     ]
    }
   ],
   "source": [
    "# Sorting a List of Tuples by Second Element\n",
    "data = [(3, 10), (1, 5), (2, 80)]\n",
    "sorted_data = sorted(data, key=lambda x: x[1])\n",
    "print(sorted_data)  "
   ]
  },
  {
   "cell_type": "code",
   "execution_count": 1,
   "id": "b30b2729-5288-4562-ac55-43ef9aa1ac1d",
   "metadata": {},
   "outputs": [
    {
     "name": "stdout",
     "output_type": "stream",
     "text": [
      "Factorial of 5: 120\n"
     ]
    }
   ],
   "source": [
    "# Calculating Factorials Using Recursion\n",
    "factorial = lambda n: 1 if n == 1 else n * factorial(n - 1)\n",
    "print(\"Factorial of 5:\", factorial(5)) "
   ]
  },
  {
   "cell_type": "code",
   "execution_count": 29,
   "id": "9aeaf051-add2-4322-aaf2-aac8934b01a7",
   "metadata": {},
   "outputs": [
    {
     "name": "stdout",
     "output_type": "stream",
     "text": [
      "[10, 7, 10]\n"
     ]
    }
   ],
   "source": [
    "def myfunc(n):\n",
    "  return len(n)\n",
    "# The map() function executes a specified function for each item in an iterable. The item is sent to the function as a parameter.\n",
    "x = list(map(myfunc, (\"Rashtriya \", \"Raksha \", \"University\")))\n",
    "print(x)"
   ]
  },
  {
   "cell_type": "code",
   "execution_count": 30,
   "id": "1d210af9-631f-47dd-ac58-c92897c1f3d7",
   "metadata": {},
   "outputs": [
    {
     "name": "stdout",
     "output_type": "stream",
     "text": [
      "[1, 4, 9, 16, 25]\n"
     ]
    }
   ],
   "source": [
    "# List of numbers\n",
    "numbers = [1, 2, 3, 4, 5]\n",
    "# Use map() with lambda to square each number\n",
    "squared_numbers = list(map(lambda x: x**2, numbers))\n",
    "print(squared_numbers) "
   ]
  },
  {
   "cell_type": "code",
   "execution_count": 2,
   "id": "d7da427f-06b6-4b4f-bcb3-7501977c988d",
   "metadata": {},
   "outputs": [
    {
     "name": "stdout",
     "output_type": "stream",
     "text": [
      "18\n",
      "24\n",
      "32\n"
     ]
    }
   ],
   "source": [
    "ages = [5, 12, 17, 18, 24, 32]\n",
    "def myFunc(x):\n",
    "  if x < 18:\n",
    "    return False\n",
    "  else:\n",
    "    return True\n",
    "adults = filter(myFunc, ages)\n",
    "# filter(function, iterable)\n",
    "# The filter() function returns an iterator where the items are filtered through a \n",
    "# function to test if the item is accepted or not.\n",
    "for x in adults:\n",
    "  print(x)"
   ]
  },
  {
   "cell_type": "code",
   "execution_count": 3,
   "id": "ba95af19-ae3c-4cae-9b53-bcbf82fb18f7",
   "metadata": {},
   "outputs": [
    {
     "name": "stdout",
     "output_type": "stream",
     "text": [
      "<filter object at 0x000001C4561C9E10>\n"
     ]
    }
   ],
   "source": [
    "print(adults)"
   ]
  },
  {
   "cell_type": "code",
   "execution_count": 32,
   "id": "ac7f5393-3f3f-4cf4-9f30-c95f4bffa3b6",
   "metadata": {},
   "outputs": [
    {
     "name": "stdout",
     "output_type": "stream",
     "text": [
      "[2, 4, 6, 8, 10]\n"
     ]
    }
   ],
   "source": [
    "# List of numbers\n",
    "numbers = [1, 2, 3, 4, 5, 6, 7, 8, 9, 10]\n",
    "# Use filter() with lambda to filter even numbers\n",
    "even_numbers = list(filter(lambda x: x % 2 == 0, numbers))\n",
    "print(even_numbers)  "
   ]
  }
 ],
 "metadata": {
  "kernelspec": {
   "display_name": "Python 3 (ipykernel)",
   "language": "python",
   "name": "python3"
  },
  "language_info": {
   "codemirror_mode": {
    "name": "ipython",
    "version": 3
   },
   "file_extension": ".py",
   "mimetype": "text/x-python",
   "name": "python",
   "nbconvert_exporter": "python",
   "pygments_lexer": "ipython3",
   "version": "3.12.2"
  }
 },
 "nbformat": 4,
 "nbformat_minor": 5
}
