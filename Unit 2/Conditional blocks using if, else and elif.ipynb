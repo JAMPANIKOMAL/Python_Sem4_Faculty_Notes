{
 "cells": [
  {
   "cell_type": "markdown",
   "id": "bf6dfae7-d951-47c8-ab4e-b21b2c11060d",
   "metadata": {},
   "source": [
    "# Conditional Blocks Using if, else, and elif in Python"
   ]
  },
  {
   "cell_type": "markdown",
   "id": "c976e322-5e1a-4338-9373-edc1bd0c8a59",
   "metadata": {},
   "source": [
    "## 1. The if Statement"
   ]
  },
  {
   "cell_type": "markdown",
   "id": "cb034768-dd7d-4ba6-82eb-85a458564a6b",
   "metadata": {},
   "source": [
    "The if statement is used to execute a block of code if a given condition evaluates to True. Here’s the basic syntax:\n",
    "\n",
    "if condition:\n",
    "\r\n",
    "    # Code to execute if the condition is True\r\n"
   ]
  },
  {
   "cell_type": "code",
   "execution_count": 1,
   "id": "6b9b983b-d82d-4d7d-a18d-2650fae4b8f4",
   "metadata": {},
   "outputs": [
    {
     "name": "stdout",
     "output_type": "stream",
     "text": [
      "Price is less than 100\n"
     ]
    }
   ],
   "source": [
    "price = 50\n",
    "if price < 100:\n",
    "    print(\"Price is less than 100\")"
   ]
  },
  {
   "cell_type": "markdown",
   "id": "c93b4cc1-54b1-438f-b174-4d8b66d7f3fa",
   "metadata": {},
   "source": [
    "### Multiple Statements in the if Block\n",
    "\r\n",
    "You can have multiple statements within an if block, as long as they share the same indentation level:"
   ]
  },
  {
   "cell_type": "code",
   "execution_count": 2,
   "id": "d35a07d6-6c15-4316-9ca3-0a49e9c40efc",
   "metadata": {},
   "outputs": [
    {
     "name": "stdout",
     "output_type": "stream",
     "text": [
      "Price*quantity is less than 500\n",
      "Price = 50\n",
      "Quantity = 5\n"
     ]
    }
   ],
   "source": [
    "price = 50\n",
    "quantity = 5\n",
    "if price * quantity < 500:\n",
    "    print(\"Price*quantity is less than 500\")\n",
    "    print(\"Price =\", price)\n",
    "    print(\"Quantity =\", quantity)\n"
   ]
  },
  {
   "cell_type": "code",
   "execution_count": 5,
   "id": "945db850-301e-4709-8baa-a2c57f643d10",
   "metadata": {},
   "outputs": [
    {
     "ename": "IndentationError",
     "evalue": "unindent does not match any outer indentation level (<string>, line 7)",
     "output_type": "error",
     "traceback": [
      "\u001b[1;36m  File \u001b[1;32m<string>:7\u001b[1;36m\u001b[0m\n\u001b[1;33m    print(\"No if block executed.\")\u001b[0m\n\u001b[1;37m                                  ^\u001b[0m\n\u001b[1;31mIndentationError\u001b[0m\u001b[1;31m:\u001b[0m unindent does not match any outer indentation level\n"
     ]
    }
   ],
   "source": [
    "price = 50\n",
    "quantity = 5\n",
    "if price * quantity < 500:\n",
    "print(\"Price is less than 500\")\n",
    "   print(\"Price =\", price)\n",
    "   print(\"Quantity =\", quantity)\n",
    "  print(\"No if block executed.\")\n"
   ]
  },
  {
   "cell_type": "markdown",
   "id": "5301b6a6-34ef-490b-9f53-88062acc8157",
   "metadata": {},
   "source": [
    "## Multiple if Conditions\r\n",
    "You can have multiple if conditions sequentially. Each block is independent of the others"
   ]
  },
  {
   "cell_type": "code",
   "execution_count": 6,
   "id": "67e7f1c1-3589-4fff-8ff5-4de3e76e163e",
   "metadata": {},
   "outputs": [
    {
     "name": "stdout",
     "output_type": "stream",
     "text": [
      "Price is 100\n"
     ]
    }
   ],
   "source": [
    "price = 100\n",
    "if price > 100:\n",
    "    print(\"Price is greater than 100\")\n",
    "if price == 100:\n",
    "    print(\"Price is 100\")\n",
    "if price < 100:\n",
    "    print(\"Price is less than 100\")\n"
   ]
  },
  {
   "cell_type": "markdown",
   "id": "99890a50-d620-47c1-9d5c-b720bd2c6a2c",
   "metadata": {},
   "source": [
    "## Else statment"
   ]
  },
  {
   "cell_type": "code",
   "execution_count": 7,
   "id": "01ac0f5e-3a1a-4d72-987e-ff5e8982a46a",
   "metadata": {},
   "outputs": [
    {
     "name": "stdout",
     "output_type": "stream",
     "text": [
      "x is greater than 5\n"
     ]
    }
   ],
   "source": [
    "# Simple conditional block\n",
    "x = 10\n",
    "if x > 5:\n",
    "    print(\"x is greater than 5\")\n",
    "else:\n",
    "    print(\"x is less than or equal to 5\")\n"
   ]
  },
  {
   "cell_type": "markdown",
   "id": "c36c67ed-7cf9-4315-bd04-497f97cf9f46",
   "metadata": {},
   "source": [
    "## The elif Statement\r\n",
    "The elif statement allows you to check additional conditions after the initial if condition. It’s useful when you have multiple possibilities:"
   ]
  },
  {
   "cell_type": "code",
   "execution_count": 8,
   "id": "af432e0d-ff6f-4a79-94b7-bbdbfb355635",
   "metadata": {},
   "outputs": [
    {
     "name": "stdout",
     "output_type": "stream",
     "text": [
      "Price is less than 100\n"
     ]
    }
   ],
   "source": [
    "price = 50\n",
    "if price > 100:\n",
    "    print(\"Price is greater than 100\")\n",
    "elif price == 100:\n",
    "    print(\"Price is 100\")\n",
    "else:\n",
    "    print(\"Price is less than 100\")\n"
   ]
  },
  {
   "cell_type": "code",
   "execution_count": 9,
   "id": "2e055bfc-c9db-4a2e-8b54-777d70bea437",
   "metadata": {},
   "outputs": [
    {
     "name": "stdout",
     "output_type": "stream",
     "text": [
      "It's hot\n"
     ]
    }
   ],
   "source": [
    "# Checking multiple conditions with elif\n",
    "temperature = 25\n",
    "if temperature < 0:\n",
    "    print(\"It's freezing\")\n",
    "elif temperature >= 0 and temperature < 15:\n",
    "    print(\"It's cold\")\n",
    "elif temperature >= 15 and temperature < 25:\n",
    "    print(\"It's warm\")\n",
    "else:\n",
    "    print(\"It's hot\")\n"
   ]
  },
  {
   "cell_type": "code",
   "execution_count": 10,
   "id": "ead1cf35-8e9b-474c-ac77-f8eb26435ae8",
   "metadata": {},
   "outputs": [
    {
     "name": "stdout",
     "output_type": "stream",
     "text": [
      "Divisible by only 3\n"
     ]
    }
   ],
   "source": [
    "# Nested if-else blocks\n",
    "num = 15\n",
    "if num % 2 == 0:\n",
    "    if num % 3 == 0:\n",
    "        print(\"Divisible by both 2 and 3\")\n",
    "    else:\n",
    "        print(\"Divisible by only 2\")\n",
    "else:\n",
    "    if num % 3 == 0:\n",
    "        print(\"Divisible by only 3\")\n",
    "    else:\n",
    "        print(\"Not divisible by either 2 or 3\")\n"
   ]
  },
  {
   "cell_type": "code",
   "execution_count": 11,
   "id": "ced4ceae-0fab-48f0-bfa9-7b40480e1a52",
   "metadata": {},
   "outputs": [
    {
     "name": "stdout",
     "output_type": "stream",
     "text": [
      "The person is a adult\n"
     ]
    }
   ],
   "source": [
    "# Using conditional expressions (ternary operator)\n",
    "age = 20\n",
    "status = \"minor\" if age < 18 else \"adult\"\n",
    "print(f\"The person is a {status}\")\n"
   ]
  },
  {
   "cell_type": "code",
   "execution_count": 12,
   "id": "f340c9cc-55ed-4a16-951f-19f6c69a9e4e",
   "metadata": {},
   "outputs": [
    {
     "name": "stdout",
     "output_type": "stream",
     "text": [
      "Both conditions are satisfied\n"
     ]
    }
   ],
   "source": [
    "# Combining conditions with logical operators\n",
    "x = 10\n",
    "y = 20\n",
    "\n",
    "if (x > 5 and y > 15) or (x < 5 and y < 15):\n",
    "    print(\"Both conditions are satisfied\")\n",
    "else:\n",
    "    print(\"At least one condition is not satisfied\")\n"
   ]
  },
  {
   "cell_type": "code",
   "execution_count": null,
   "id": "01085f2d-65f1-4680-a257-c41c81e672ec",
   "metadata": {},
   "outputs": [],
   "source": []
  }
 ],
 "metadata": {
  "kernelspec": {
   "display_name": "Python 3 (ipykernel)",
   "language": "python",
   "name": "python3"
  },
  "language_info": {
   "codemirror_mode": {
    "name": "ipython",
    "version": 3
   },
   "file_extension": ".py",
   "mimetype": "text/x-python",
   "name": "python",
   "nbconvert_exporter": "python",
   "pygments_lexer": "ipython3",
   "version": "3.12.2"
  }
 },
 "nbformat": 4,
 "nbformat_minor": 5
}
