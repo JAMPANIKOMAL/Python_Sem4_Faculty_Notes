{
 "cells": [
  {
   "cell_type": "markdown",
   "id": "13f37e0e-024a-4289-89c5-bdb8db6f2680",
   "metadata": {},
   "source": [
    "# The Burger Joint Analogy"
   ]
  },
  {
   "cell_type": "markdown",
   "id": "0baaa922-329c-48a4-8059-b7b9cf8a334c",
   "metadata": {},
   "source": [
    "## Taking Orders: \n",
    "Imagine a customer walks in. We need to take their order. This step is like a function – a self-contained set of instructions. Let’s call it take_order()."
   ]
  },
  {
   "cell_type": "code",
   "execution_count": 1,
   "id": "73a439d0-6247-481e-87ea-b43b1ac6cf13",
   "metadata": {},
   "outputs": [
    {
     "name": "stdin",
     "output_type": "stream",
     "text": [
      "What would you like to order?  fries\n"
     ]
    },
    {
     "name": "stdout",
     "output_type": "stream",
     "text": [
      "Customer ordered: fries\n"
     ]
    }
   ],
   "source": [
    "def take_order():\n",
    "    customer_order = input(\"What would you like to order? \")\n",
    "    return customer_order\n",
    "order = take_order()\n",
    "print(f\"Customer ordered: {order}\")"
   ]
  },
  {
   "cell_type": "markdown",
   "id": "0e4e7596-3361-48f5-bf70-bbab5b7ee640",
   "metadata": {},
   "source": [
    "## Making Fries: \n",
    "If the customer ordered fries, we follow a sub-list of instructions to make them. Let’s create a function for this:"
   ]
  },
  {
   "cell_type": "code",
   "execution_count": 2,
   "id": "9131bfac-e069-431d-a7d9-967ec09e740e",
   "metadata": {},
   "outputs": [
    {
     "name": "stdout",
     "output_type": "stream",
     "text": [
      "Making fries: Dump fries into the fryer, set a timer, etc.\n"
     ]
    }
   ],
   "source": [
    "def make_fries():\n",
    "    print(\"Making fries: Dump fries into the fryer, set a timer, etc.\")\n",
    "if order == \"fries\":\n",
    "    make_fries()\n"
   ]
  },
  {
   "cell_type": "markdown",
   "id": "b425de0b-9ee6-4f4d-ab37-a6ef2ff76340",
   "metadata": {},
   "source": [
    "## Making Burgers: \n",
    "Similarly, if the customer ordered a burger, we have another sub-list of instructions. Let’s create a make_burger() function"
   ]
  },
  {
   "cell_type": "code",
   "execution_count": 3,
   "id": "de9b84c6-76fe-4797-99a2-c4b3e5fd5e7f",
   "metadata": {},
   "outputs": [],
   "source": [
    "def make_burger():\n",
    "    print(\"Making burger: Select patty, fry it, toast the bun, etc.\")\n",
    "if order == \"burger\":\n",
    "    make_burger()"
   ]
  },
  {
   "cell_type": "markdown",
   "id": "17e4ae90-d549-4e3a-bdbd-d1f034e7608a",
   "metadata": {},
   "source": [
    "## Putting Items in a Box: \n",
    "Finally, we put the items in a box. This step is part of our main flow:"
   ]
  },
  {
   "cell_type": "code",
   "execution_count": 4,
   "id": "a0fc200f-1d7f-4b75-a33e-33a105264daa",
   "metadata": {},
   "outputs": [
    {
     "name": "stdout",
     "output_type": "stream",
     "text": [
      "Putting items in a box.\n"
     ]
    }
   ],
   "source": [
    "def pack_order():\n",
    "    print(\"Putting items in a box.\")\n",
    "pack_order()"
   ]
  },
  {
   "cell_type": "code",
   "execution_count": null,
   "id": "daf44d54-07bb-42ed-8464-d1d69541c26a",
   "metadata": {},
   "outputs": [],
   "source": []
  }
 ],
 "metadata": {
  "kernelspec": {
   "display_name": "Python 3 (ipykernel)",
   "language": "python",
   "name": "python3"
  },
  "language_info": {
   "codemirror_mode": {
    "name": "ipython",
    "version": 3
   },
   "file_extension": ".py",
   "mimetype": "text/x-python",
   "name": "python",
   "nbconvert_exporter": "python",
   "pygments_lexer": "ipython3",
   "version": "3.12.2"
  }
 },
 "nbformat": 4,
 "nbformat_minor": 5
}
